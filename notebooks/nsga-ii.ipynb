{
 "cells": [
  {
   "metadata": {
    "ExecuteTime": {
     "end_time": "2025-02-27T10:39:18.063127Z",
     "start_time": "2025-02-27T10:39:17.579507Z"
    }
   },
   "cell_type": "code",
   "source": [
    "from pymoo.algorithms.moo.nsga2 import NSGA2\n",
    "from pymoo.operators.selection.rnd import RandomSelection\n",
    "from task_offloading_moo.pymoo.problem import TaskOffloadingProblem\n",
    "from task_offloading_moo.pymoo.operators.repair import TaskOffloadingRepair\n",
    "from task_offloading_moo.pymoo.operators.sampling import TaskOffloadingSampling\n",
    "from pymoo.operators.crossover.pntx import SinglePointCrossover\n",
    "\n",
    "from pymoo.optimize import minimize\n",
    "from pymoo.operators.mutation.pm import PolynomialMutation\n",
    "\n",
    "from pymoo.visualization.scatter import Scatter\n",
    "\n",
    "from pymoo.util.archive import default_archive"
   ],
   "id": "856ceefcb9293d49",
   "outputs": [],
   "execution_count": 1
  },
  {
   "metadata": {
    "ExecuteTime": {
     "end_time": "2025-02-27T10:39:18.068134Z",
     "start_time": "2025-02-27T10:39:18.065640Z"
    }
   },
   "cell_type": "code",
   "source": [
    "pop_size = 100\n",
    "n_gen = 50\n",
    "mutation_rate = 0.1\n",
    "crossover_rate = 0.5\n",
    "\n",
    "num_cloud_machines = 30\n",
    "num_fog_machines = 20\n",
    "num_tasks = 500"
   ],
   "id": "b79aed90defb9b34",
   "outputs": [],
   "execution_count": 2
  },
  {
   "cell_type": "code",
   "id": "initial_id",
   "metadata": {
    "collapsed": true,
    "ExecuteTime": {
     "end_time": "2025-02-27T10:39:18.213700Z",
     "start_time": "2025-02-27T10:39:18.185925Z"
    }
   },
   "source": [
    "problem = TaskOffloadingProblem(num_cloud_machines, num_fog_machines, num_tasks)\n",
    "\n",
    "algorithm = NSGA2(repair=TaskOffloadingRepair(),\n",
    "               pop_size=pop_size,\n",
    "               eliminate_duplicates=True,\n",
    "               sampling=TaskOffloadingSampling(),\n",
    "               selection=RandomSelection(),\n",
    "               crossover=SinglePointCrossover(prob=crossover_rate, repair=TaskOffloadingRepair()),\n",
    "               mutation=PolynomialMutation(prob=mutation_rate, repair=TaskOffloadingRepair()),\n",
    "               archive=default_archive(problem)\n",
    "               )"
   ],
   "outputs": [],
   "execution_count": 3
  },
  {
   "metadata": {
    "ExecuteTime": {
     "end_time": "2025-02-27T10:39:18.219182Z",
     "start_time": "2025-02-27T10:39:18.216805Z"
    }
   },
   "cell_type": "code",
   "source": "# problem.dataset_generator.get_machines()",
   "id": "90a1c12b90f3e77e",
   "outputs": [],
   "execution_count": 4
  },
  {
   "metadata": {
    "ExecuteTime": {
     "end_time": "2025-02-27T10:39:25.709981Z",
     "start_time": "2025-02-27T10:39:18.222605Z"
    }
   },
   "cell_type": "code",
   "source": [
    "res = minimize(problem,\n",
    "           algorithm,\n",
    "           ('n_gen', n_gen),\n",
    "           seed=1,\n",
    "           verbose=True)"
   ],
   "id": "d8ea45e2e8a0a06f",
   "outputs": [
    {
     "name": "stdout",
     "output_type": "stream",
     "text": [
      "==========================================================\n",
      "n_gen  |  n_eval  | n_nds  |      eps      |   indicator  \n",
      "==========================================================\n",
      "     1 |      100 |      7 |             - |             -\n",
      "     2 |      200 |      5 |  0.0730086839 |         ideal\n",
      "     3 |      300 |      7 |  0.1066156479 |         ideal\n",
      "     4 |      400 |      7 |  0.3359159204 |         nadir\n",
      "     5 |      500 |     10 |  0.0433808081 |         ideal\n",
      "     6 |      600 |      8 |  0.1292771189 |         ideal\n",
      "     7 |      700 |      7 |  0.1506088000 |         ideal\n",
      "     8 |      800 |     15 |  0.0746970140 |         ideal\n",
      "     9 |      900 |     19 |  0.0836428215 |         ideal\n",
      "    10 |     1000 |     14 |  0.0025994485 |         ideal\n",
      "    11 |     1100 |     17 |  0.0808650940 |         ideal\n",
      "    12 |     1200 |     15 |  0.0420989333 |         ideal\n",
      "    13 |     1300 |     17 |  0.1111436237 |         ideal\n",
      "    14 |     1400 |     15 |  0.0432928791 |             f\n",
      "    15 |     1500 |      9 |  0.0859613869 |         ideal\n",
      "    16 |     1600 |     16 |  0.0566998888 |         ideal\n",
      "    17 |     1700 |     20 |  0.0426681512 |             f\n",
      "    18 |     1800 |     20 |  0.0270408163 |             f\n",
      "    19 |     1900 |     18 |  0.0154291670 |         ideal\n",
      "    20 |     2000 |     16 |  0.1100506727 |         ideal\n",
      "    21 |     2100 |     18 |  0.0324391763 |             f\n",
      "    22 |     2200 |     19 |  0.0369157745 |         ideal\n",
      "    23 |     2300 |     23 |  0.0650722460 |         ideal\n",
      "    24 |     2400 |     25 |  0.0279719245 |             f\n",
      "    25 |     2500 |     27 |  0.0593602463 |         ideal\n",
      "    26 |     2600 |     22 |  0.0699021181 |         ideal\n",
      "    27 |     2700 |     22 |  0.0158647533 |         ideal\n",
      "    28 |     2800 |     22 |  0.0819824416 |         ideal\n",
      "    29 |     2900 |     30 |  0.0167448286 |             f\n",
      "    30 |     3000 |     22 |  0.0300532700 |         ideal\n",
      "    31 |     3100 |     22 |  0.0085249674 |         ideal\n",
      "    32 |     3200 |     26 |  0.0163375464 |         ideal\n",
      "    33 |     3300 |     37 |  0.0216601426 |         ideal\n",
      "    34 |     3400 |     38 |  0.0114867902 |             f\n",
      "    35 |     3500 |     32 |  0.0112599314 |             f\n",
      "    36 |     3600 |     36 |  0.0202305169 |         ideal\n",
      "    37 |     3700 |     31 |  0.0327785612 |         ideal\n",
      "    38 |     3800 |     29 |  0.0155359302 |             f\n",
      "    39 |     3900 |     26 |  0.0199989285 |             f\n",
      "    40 |     4000 |     30 |  0.0160981944 |             f\n",
      "    41 |     4100 |     30 |  0.0064579178 |         ideal\n",
      "    42 |     4200 |     25 |  0.0897742964 |         ideal\n",
      "    43 |     4300 |     31 |  0.0168992821 |         ideal\n",
      "    44 |     4400 |     26 |  0.0208962601 |             f\n",
      "    45 |     4500 |     18 |  0.0141317355 |         ideal\n",
      "    46 |     4600 |     18 |  0.0195974028 |         ideal\n",
      "    47 |     4700 |     25 |  0.0194850531 |             f\n",
      "    48 |     4800 |     21 |  0.0267437081 |         ideal\n",
      "    49 |     4900 |     18 |  0.0036960998 |         ideal\n",
      "    50 |     5000 |     22 |  0.0253125377 |         ideal\n"
     ]
    }
   ],
   "execution_count": 5
  },
  {
   "metadata": {
    "ExecuteTime": {
     "end_time": "2025-02-27T10:39:25.794696Z",
     "start_time": "2025-02-27T10:39:25.713453Z"
    }
   },
   "cell_type": "code",
   "source": [
    "# print(f\"Best population found:\\n {res.X} \\nwith F:\\n{res.F}\")\n",
    "\n",
    "plot = Scatter(title=\"NSGA-II\")\n",
    "plot.add(res.F)\n",
    "plot.axis_labels = problem.dataset_generator.get_objective_names()\n",
    "_ = plot.show()"
   ],
   "id": "8904a16823d85193",
   "outputs": [
    {
     "data": {
      "text/plain": [
       "<Figure size 800x600 with 1 Axes>"
      ],
      "image/png": "[encoded data removed]"
     },
     "metadata": {},
     "output_type": "display_data"
    }
   ],
   "execution_count": 6
  },
  {
   "metadata": {
    "ExecuteTime": {
     "end_time": "2025-02-27T10:39:25.850891Z",
     "start_time": "2025-02-27T10:39:25.798245Z"
    }
   },
   "cell_type": "code",
   "source": [
    "plot = Scatter(title=\"Puma\")\n",
    "plot.add(res.archive.get(\"F\"))\n",
    "plot.axis_labels = problem.dataset_generator.get_objective_names()\n",
    "_ = plot.show()"
   ],
   "id": "696bfe79e108982f",
   "outputs": [
    {
     "data": {
      "text/plain": [
       "<Figure size 800x600 with 1 Axes>"
      ],
      "image/png": "[encoded data removed]"
     },
     "metadata": {},
     "output_type": "display_data"
    }
   ],
   "execution_count": 7
  }
 ],
 "metadata": {
  "kernelspec": {
   "display_name": "Python 3",
   "language": "python",
   "name": "python3"
  },
  "language_info": {
   "codemirror_mode": {
    "name": "ipython",
    "version": 2
   },
   "file_extension": ".py",
   "mimetype": "text/x-python",
   "name": "python",
   "nbconvert_exporter": "python",
   "pygments_lexer": "ipython2",
   "version": "2.7.6"
  }
 },
 "nbformat": 4,
 "nbformat_minor": 5
}
