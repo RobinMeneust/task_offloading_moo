{
 "cells": [
  {
   "metadata": {
    "ExecuteTime": {
     "end_time": "2025-02-24T19:49:08.032049Z",
     "start_time": "2025-02-24T19:49:07.543147Z"
    }
   },
   "cell_type": "code",
   "source": [
    "from pymoo.algorithms.moo.nsga2 import NSGA2\n",
    "from pymoo.operators.selection.rnd import RandomSelection\n",
    "from task_offloading_moo.pymoo.problem import TaskOffloadingProblem\n",
    "from task_offloading_moo.pymoo.operators.repair import TaskOffloadingRepair\n",
    "from task_offloading_moo.pymoo.operators.sampling import TaskOffloadingSampling\n",
    "from pymoo.operators.crossover.pntx import SinglePointCrossover\n",
    "\n",
    "from pymoo.optimize import minimize\n",
    "from pymoo.operators.mutation.pm import PolynomialMutation\n",
    "\n",
    "from pymoo.visualization.scatter import Scatter"
   ],
   "id": "856ceefcb9293d49",
   "outputs": [],
   "execution_count": 1
  },
  {
   "metadata": {
    "ExecuteTime": {
     "end_time": "2025-02-24T19:49:08.047806Z",
     "start_time": "2025-02-24T19:49:08.033806Z"
    }
   },
   "cell_type": "code",
   "source": [
    "pop_size = 100\n",
    "n_gen = 50\n",
    "mutation_rate = 0.1\n",
    "crossover_rate = 0.5\n",
    "\n",
    "num_cloud_machines = 30\n",
    "num_fog_machines = 20\n",
    "num_tasks = 500"
   ],
   "id": "b79aed90defb9b34",
   "outputs": [],
   "execution_count": 2
  },
  {
   "cell_type": "code",
   "id": "initial_id",
   "metadata": {
    "collapsed": true,
    "ExecuteTime": {
     "end_time": "2025-02-24T19:49:08.196937Z",
     "start_time": "2025-02-24T19:49:08.171876Z"
    }
   },
   "source": [
    "algorithm = NSGA2(repair=TaskOffloadingRepair(),\n",
    "               pop_size=pop_size,\n",
    "               eliminate_duplicates=True,\n",
    "               sampling=TaskOffloadingSampling(),\n",
    "               selection=RandomSelection(),\n",
    "               crossover=SinglePointCrossover(prob=crossover_rate, repair=TaskOffloadingRepair()),\n",
    "               mutation=PolynomialMutation(prob=mutation_rate, repair=TaskOffloadingRepair()),\n",
    "               )\n",
    "\n",
    "problem = TaskOffloadingProblem(num_cloud_machines, num_fog_machines, num_tasks)\n"
   ],
   "outputs": [],
   "execution_count": 3
  },
  {
   "metadata": {
    "ExecuteTime": {
     "end_time": "2025-02-24T19:49:52.863634Z",
     "start_time": "2025-02-24T19:49:52.858711Z"
    }
   },
   "cell_type": "code",
   "source": "# problem.dataset_generator.get_machines()",
   "id": "90a1c12b90f3e77e",
   "outputs": [
    {
     "data": {
      "text/plain": [
       "array([{'cpu_rate': np.int64(3002), 'cpu_usage_cost': np.float64(0.10076807558713623), 'ram_usage_cost': np.float64(5.559104344244072e-06), 'bandwidth_usage_cost': np.float64(0.05005517784390347), 'distance_edge': np.float64(11092.521309288597), 'bandwidth': np.int64(10), 'ram_limit': np.float64(3.778968368049319)},\n",
       "       {'cpu_rate': np.int64(4862), 'cpu_usage_cost': np.float64(0.7479848939338154), 'ram_usage_cost': np.float64(1.323085542378445e-05), 'bandwidth_usage_cost': np.float64(0.09655063893202698), 'distance_edge': np.float64(931702.6508541339), 'bandwidth': np.int64(373), 'ram_limit': np.float64(28.18908543931416)},\n",
       "       {'cpu_rate': np.int64(3071), 'cpu_usage_cost': np.float64(0.12475064971520478), 'ram_usage_cost': np.float64(5.84338054619316e-06), 'bandwidth_usage_cost': np.float64(0.051778063916322184), 'distance_edge': np.float64(45205.66554317919), 'bandwidth': np.int64(24), 'ram_limit': np.float64(4.683483556069145)},\n",
       "       {'cpu_rate': np.int64(3269), 'cpu_usage_cost': np.float64(0.1935405857304901), 'ram_usage_cost': np.float64(6.658778494650206e-06), 'bandwidth_usage_cost': np.float64(0.0567198696645467), 'distance_edge': np.float64(143053.4193580247), 'bandwidth': np.int64(62), 'ram_limit': np.float64(7.2779315738870185)},\n",
       "       {'cpu_rate': np.int64(4942), 'cpu_usage_cost': np.float64(0.7757416764412148), 'ram_usage_cost': np.float64(1.3559869009540261e-05), 'bandwidth_usage_cost': np.float64(0.09854466066388037), 'distance_edge': np.float64(971184.2811448314), 'bandwidth': np.int64(389), 'ram_limit': np.float64(29.235946848537196)},\n",
       "       {'cpu_rate': np.int64(3237), 'cpu_usage_cost': np.float64(0.18234731417615047), 'ram_usage_cost': np.float64(6.526099629243163e-06), 'bandwidth_usage_cost': np.float64(0.055915755328746444), 'distance_edge': np.float64(127131.95550917955), 'bandwidth': np.int64(56), 'ram_limit': np.float64(6.855771547591882)},\n",
       "       {'cpu_rate': np.int64(4957), 'cpu_usage_cost': np.float64(0.7810699790590568), 'ram_usage_cost': np.float64(1.3623027769018992e-05), 'bandwidth_usage_cost': np.float64(0.09892744102435753), 'distance_edge': np.float64(978763.332282279), 'bandwidth': np.int64(392), 'ram_limit': np.float64(29.436906537787703)},\n",
       "       {'cpu_rate': np.int64(3658), 'cpu_usage_cost': np.float64(0.3290072222694703), 'ram_usage_cost': np.float64(8.264525263970015e-06), 'bandwidth_usage_cost': np.float64(0.06645166826648494), 'distance_edge': np.float64(335743.03167640173), 'bandwidth': np.int64(138), 'ram_limit': np.float64(12.387125839904591)},\n",
       "       {'cpu_rate': np.int64(4115), 'cpu_usage_cost': np.float64(0.4880113931782696), 'ram_usage_cost': np.float64(1.0149272979483799e-05), 'bandwidth_usage_cost': np.float64(0.0778743816938412), 'distance_edge': np.float64(561912.7575380558), 'bandwidth': np.int64(227), 'ram_limit': np.float64(18.38405038926663)},\n",
       "       {'cpu_rate': np.int64(3134), 'cpu_usage_cost': np.float64(0.14655388297040248), 'ram_usage_cost': np.float64(6.101824043830201e-06), 'bandwidth_usage_cost': np.float64(0.053344388144425464), 'distance_edge': np.float64(76218.88525962419), 'bandwidth': np.int64(36), 'ram_limit': np.float64(5.505803775823368)},\n",
       "       {'cpu_rate': np.int64(4621), 'cpu_usage_cost': np.float64(0.6640728516645991), 'ram_usage_cost': np.float64(1.2236208371024343e-05), 'bandwidth_usage_cost': np.float64(0.09052247497590511), 'distance_edge': np.float64(812345.004522921), 'bandwidth': np.int64(326), 'ram_limit': np.float64(25.02429936235018)},\n",
       "       {'cpu_rate': np.int64(3451), 'cpu_usage_cost': np.float64(0.25706859494632145), 'ram_usage_cost': np.float64(7.411804465958552e-06), 'bandwidth_usage_cost': np.float64(0.06128366343005183), 'distance_edge': np.float64(233416.53591502618), 'bandwidth': np.int64(98), 'ram_limit': np.float64(9.673923300777208)},\n",
       "       {'cpu_rate': np.int64(3183), 'cpu_usage_cost': np.float64(0.1637116149947936), 'ram_usage_cost': np.float64(6.305202332912424e-06), 'bandwidth_usage_cost': np.float64(0.05457698383583287), 'distance_edge': np.float64(100624.27994949084), 'bandwidth': np.int64(46), 'ram_limit': np.float64(6.152916513812257)},\n",
       "       {'cpu_rate': np.int64(4654), 'cpu_usage_cost': np.float64(0.6756347162785937), 'ram_usage_cost': np.float64(1.2373256335198847e-05), 'bandwidth_usage_cost': np.float64(0.09135306869817483), 'distance_edge': np.float64(828790.7602238617), 'bandwidth': np.int64(333), 'ram_limit': np.float64(25.460361066541786)},\n",
       "       {'cpu_rate': np.int64(4228), 'cpu_usage_cost': np.float64(0.5273931530978089), 'ram_usage_cost': np.float64(1.0616082633702477e-05), 'bandwidth_usage_cost': np.float64(0.08070353111334834), 'distance_edge': np.float64(617929.916044297), 'bandwidth': np.int64(249), 'ram_limit': np.float64(19.869353834507876)},\n",
       "       {'cpu_rate': np.int64(4428), 'cpu_usage_cost': np.float64(0.59695669326135), 'ram_usage_cost': np.float64(1.1440650458916864e-05), 'bandwidth_usage_cost': np.float64(0.08570091187222342), 'distance_edge': np.float64(716878.0550700236), 'bandwidth': np.int64(288), 'ram_limit': np.float64(22.492978732917294)},\n",
       "       {'cpu_rate': np.int64(3307), 'cpu_usage_cost': np.float64(0.2069851494807054), 'ram_usage_cost': np.float64(6.818142935654913e-06), 'bandwidth_usage_cost': np.float64(0.05768571476154493), 'distance_edge': np.float64(162177.15227858955), 'bandwidth': np.int64(70), 'ram_limit': np.float64(7.785000249811087)},\n",
       "       {'cpu_rate': np.int64(3576), 'cpu_usage_cost': np.float64(0.30055732021888665), 'ram_usage_cost': np.float64(7.927295821560079e-06), 'bandwidth_usage_cost': np.float64(0.06440785346400048), 'distance_edge': np.float64(295275.4985872094), 'bandwidth': np.int64(122), 'ram_limit': np.float64(11.31412306860025)},\n",
       "       {'cpu_rate': np.int64(4210), 'cpu_usage_cost': np.float64(0.5211852345685694), 'ram_usage_cost': np.float64(1.0542497392515369e-05), 'bandwidth_usage_cost': np.float64(0.0802575599546386), 'distance_edge': np.float64(609099.6871018442), 'bandwidth': np.int64(246), 'ram_limit': np.float64(19.635218976185264)},\n",
       "       {'cpu_rate': np.int64(3141), 'cpu_usage_cost': np.float64(0.14909730210804625), 'ram_usage_cost': np.float64(6.1319723310221e-06), 'bandwidth_usage_cost': np.float64(0.053527105036497574), 'distance_edge': np.float64(79836.67972265197), 'bandwidth': np.int64(38), 'ram_limit': np.float64(5.601730144161227)},\n",
       "       {'cpu_rate': np.int64(4145), 'cpu_usage_cost': np.float64(0.49854848597176094), 'ram_usage_cost': np.float64(1.0274173863889408e-05), 'bandwidth_usage_cost': np.float64(0.0786313567508449), 'distance_edge': np.float64(576900.863666729), 'bandwidth': np.int64(233), 'ram_limit': np.float64(18.78146229419357)},\n",
       "       {'cpu_rate': np.int64(3907), 'cpu_usage_cost': np.float64(0.41573180683357647), 'ram_usage_cost': np.float64(9.292510641346273e-06), 'bandwidth_usage_cost': np.float64(0.07268188267482589), 'distance_edge': np.float64(459101.2769615527), 'bandwidth': np.int64(187), 'ram_limit': np.float64(15.657988404283593)},\n",
       "       {'cpu_rate': np.int64(4474), 'cpu_usage_cost': np.float64(0.6130027833160627), 'ram_usage_cost': np.float64(1.1630851957410227e-05), 'bandwidth_usage_cost': np.float64(0.08685364822672864), 'distance_edge': np.float64(739702.2348892271), 'bandwidth': np.int64(297), 'ram_limit': np.float64(23.098165319032535)},\n",
       "       {'cpu_rate': np.int64(4183), 'cpu_usage_cost': np.float64(0.5117299905606443), 'ram_usage_cost': np.float64(1.0430420146731774e-05), 'bandwidth_usage_cost': np.float64(0.07957830391958651), 'distance_edge': np.float64(595650.4176078128), 'bandwidth': np.int64(241), 'ram_limit': np.float64(19.278609557782914)},\n",
       "       {'cpu_rate': np.int64(3538), 'cpu_usage_cost': np.float64(0.2872551179327795), 'ram_usage_cost': np.float64(7.769618854806653e-06), 'bandwidth_usage_cost': np.float64(0.06345223548367669), 'distance_edge': np.float64(276354.26257679844), 'bandwidth': np.int64(115), 'ram_limit': np.float64(10.812423628930262)},\n",
       "       {'cpu_rate': np.int64(4146), 'cpu_usage_cost': np.float64(0.4987650375401901), 'ram_usage_cost': np.float64(1.027674074670484e-05), 'bandwidth_usage_cost': np.float64(0.07864691361639296), 'distance_edge': np.float64(577208.8896045806), 'bandwidth': np.int64(233), 'ram_limit': np.float64(18.789629648606304)},\n",
       "       {'cpu_rate': np.int64(3645), 'cpu_usage_cost': np.float64(0.32461143749374205), 'ram_usage_cost': np.float64(8.212420056499097e-06), 'bandwidth_usage_cost': np.float64(0.06613587913029756), 'distance_edge': np.float64(329490.4067798917), 'bandwidth': np.int64(136), 'ram_limit': np.float64(12.221336543406219)},\n",
       "       {'cpu_rate': np.int64(4645), 'cpu_usage_cost': np.float64(0.6723819349461415), 'ram_usage_cost': np.float64(1.2334699659921937e-05), 'bandwidth_usage_cost': np.float64(0.09111939187831478), 'distance_edge': np.float64(824163.9591906323), 'bandwidth': np.int64(331), 'ram_limit': np.float64(25.337680736115253)},\n",
       "       {'cpu_rate': np.int64(4588), 'cpu_usage_cost': np.float64(0.6525056497112106), 'ram_usage_cost': np.float64(1.2099097140973404e-05), 'bandwidth_usage_cost': np.float64(0.08969149782408123), 'distance_edge': np.float64(795891.6569168082), 'bandwidth': np.int64(320), 'ram_limit': np.float64(24.588036357642643)},\n",
       "       {'cpu_rate': np.int64(3943), 'cpu_usage_cost': np.float64(0.4282145927105292), 'ram_usage_cost': np.float64(9.440474698077393e-06), 'bandwidth_usage_cost': np.float64(0.0735786345338024), 'distance_edge': np.float64(476856.9637692872), 'bandwidth': np.int64(194), 'ram_limit': np.float64(16.12878313024625)},\n",
       "       {'cpu_rate': np.int64(665), 'cpu_usage_cost': np.float64(0.044980843059882106), 'ram_usage_cost': np.float64(3.686423596255609e-06), 'bandwidth_usage_cost': np.float64(0.01164824387815757), 'distance_edge': np.float64(8324.736952006277), 'bandwidth': np.float64(1.6900026587667825), 'ram_limit': np.int64(4)},\n",
       "       {'cpu_rate': np.int64(1015), 'cpu_usage_cost': np.float64(0.09608733560059034), 'ram_usage_cost': np.float64(5.631338712794539e-06), 'bandwidth_usage_cost': np.float64(0.015146292648911043), 'distance_edge': np.float64(25780.000318066104), 'bandwidth': np.float64(5.170561185666487), 'ram_limit': np.int64(9)},\n",
       "       {'cpu_rate': np.int64(790), 'cpu_usage_cost': np.float64(0.06325328626348342), 'ram_usage_cost': np.float64(4.381801996064119e-06), 'bandwidth_usage_cost': np.float64(0.012898924453352733), 'distance_edge': np.float64(14565.633022230135), 'bandwidth': np.float64(2.9344298310859687), 'ram_limit': np.int64(6)},\n",
       "       {'cpu_rate': np.int64(553), 'cpu_usage_cost': np.float64(0.028608765607394344), 'ram_usage_cost': np.float64(3.063365754805699e-06), 'bandwidth_usage_cost': np.float64(0.010527636249650538), 'distance_edge': np.float64(2732.90488575618), 'bandwidth': np.float64(0.5749980684022844), 'ram_limit': np.int64(3)},\n",
       "       {'cpu_rate': np.int64(1199), 'cpu_usage_cost': np.float64(0.12303061093570294), 'ram_usage_cost': np.float64(6.656695392214293e-06), 'bandwidth_usage_cost': np.float64(0.016990459338514917), 'distance_edge': np.float64(34982.392099189434), 'bandwidth': np.float64(7.005507041822342), 'ram_limit': np.int64(12)},\n",
       "       {'cpu_rate': np.int64(1367), 'cpu_usage_cost': np.float64(0.14759012806633612), 'ram_usage_cost': np.float64(7.591335469191162e-06), 'bandwidth_usage_cost': np.float64(0.01867146667120713), 'distance_edge': np.float64(43370.618689323564), 'bandwidth': np.float64(8.67810933785109), 'ram_limit': np.int64(14)},\n",
       "       {'cpu_rate': np.int64(1322), 'cpu_usage_cost': np.float64(0.1409868789582681), 'ram_usage_cost': np.float64(7.3400413895138315e-06), 'bandwidth_usage_cost': np.float64(0.018219498902003292), 'distance_edge': np.float64(41115.299520996436), 'bandwidth': np.float64(8.228401407493278), 'ram_limit': np.int64(14)},\n",
       "       {'cpu_rate': np.int64(978), 'cpu_usage_cost': np.float64(0.09073167490747888), 'ram_usage_cost': np.float64(5.427523014959498e-06), 'bandwidth_usage_cost': np.float64(0.014779717652804851), 'distance_edge': np.float64(23950.791087496207), 'bandwidth': np.float64(4.8058190645408265), 'ram_limit': np.int64(9)},\n",
       "       {'cpu_rate': np.int64(1151), 'cpu_usage_cost': np.float64(0.11593920968479866), 'ram_usage_cost': np.float64(6.386824133110749e-06), 'bandwidth_usage_cost': np.float64(0.01650507937609847), 'distance_edge': np.float64(32560.346086731366), 'bandwidth': np.float64(6.522553979217977), 'ram_limit': np.int64(11)},\n",
       "       {'cpu_rate': np.int64(1096), 'cpu_usage_cost': np.float64(0.10800575011060554), 'ram_usage_cost': np.float64(6.084907396406343e-06), 'bandwidth_usage_cost': np.float64(0.015962063662601337), 'distance_edge': np.float64(29850.69767638067), 'bandwidth': np.float64(5.9822533442883294), 'ram_limit': np.int64(10)},\n",
       "       {'cpu_rate': np.int64(1178), 'cpu_usage_cost': np.float64(0.1199932047948616), 'ram_usage_cost': np.float64(6.541103481584055e-06), 'bandwidth_usage_cost': np.float64(0.016782560218676357), 'distance_edge': np.float64(33944.97549119502), 'bandwidth': np.float64(6.798647417582975), 'ram_limit': np.int64(11)},\n",
       "       {'cpu_rate': np.int64(1484), 'cpu_usage_cost': np.float64(0.1646103102699911), 'ram_usage_cost': np.float64(8.23905766667454e-06), 'bandwidth_usage_cost': np.float64(0.019836434652292338), 'distance_edge': np.float64(49183.808914938774), 'bandwidth': np.float64(9.837252479030878), 'ram_limit': np.int64(16)},\n",
       "       {'cpu_rate': np.int64(931), 'cpu_usage_cost': np.float64(0.0838695101288788), 'ram_usage_cost': np.float64(5.166375607916264e-06), 'bandwidth_usage_cost': np.float64(0.014310028071791842), 'distance_edge': np.float64(21607.04007824129), 'bandwidth': np.float64(4.338477931432882), 'ram_limit': np.int64(8)},\n",
       "       {'cpu_rate': np.int64(1413), 'cpu_usage_cost': np.float64(0.154282672984952), 'ram_usage_cost': np.float64(7.846027801480718e-06), 'bandwidth_usage_cost': np.float64(0.019129546405540862), 'distance_edge': np.float64(45656.4365636489), 'bandwidth': np.float64(9.133898673513157), 'ram_limit': np.int64(15)},\n",
       "       {'cpu_rate': np.int64(897), 'cpu_usage_cost': np.float64(0.07884636212788558), 'ram_usage_cost': np.float64(4.9752140549694984e-06), 'bandwidth_usage_cost': np.float64(0.013966212329081833), 'distance_edge': np.float64(19891.399522118347), 'bandwidth': np.float64(3.996381267436423), 'ram_limit': np.int64(8)},\n",
       "       {'cpu_rate': np.int64(1467), 'cpu_usage_cost': np.float64(0.16224515153298097), 'ram_usage_cost': np.float64(8.149048887908105e-06), 'bandwidth_usage_cost': np.float64(0.01967454835954695), 'distance_edge': np.float64(48375.99631413929), 'bandwidth': np.float64(9.676175617749218), 'ram_limit': np.int64(16)},\n",
       "       {'cpu_rate': np.int64(1264), 'cpu_usage_cost': np.float64(0.13257475530489057), 'ram_usage_cost': np.float64(7.0199085523284845e-06), 'bandwidth_usage_cost': np.float64(0.017643720417856987), 'distance_edge': np.float64(38242.164885106366), 'bandwidth': np.float64(7.6555018157677015), 'ram_limit': np.int64(13)},\n",
       "       {'cpu_rate': np.int64(578), 'cpu_usage_cost': np.float64(0.03224877797836446), 'ram_usage_cost': np.float64(3.201890524022631e-06), 'bandwidth_usage_cost': np.float64(0.010776781518026315), 'distance_edge': np.float64(3976.139774951311), 'bandwidth': np.float64(0.8228976104361834), 'ram_limit': np.int64(3)},\n",
       "       {'cpu_rate': np.int64(1139), 'cpu_usage_cost': np.float64(0.11419565177590371), 'ram_usage_cost': np.float64(6.32047107374418e-06), 'bandwidth_usage_cost': np.float64(0.01638573934126651), 'distance_edge': np.float64(31964.839312919885), 'bandwidth': np.float64(6.403810644560177), 'ram_limit': np.int64(11)},\n",
       "       {'cpu_rate': np.int64(944), 'cpu_usage_cost': np.float64(0.08572023545749857), 'ram_usage_cost': np.float64(5.236807044104668e-06), 'bandwidth_usage_cost': np.float64(0.014436703316735015), 'distance_edge': np.float64(22239.149550507722), 'bandwidth': np.float64(4.464519800151339), 'ram_limit': np.int64(8)}],\n",
       "      dtype=object)"
      ]
     },
     "execution_count": 7,
     "metadata": {},
     "output_type": "execute_result"
    }
   ],
   "execution_count": 7
  },
  {
   "metadata": {
    "ExecuteTime": {
     "end_time": "2025-02-24T19:49:15.444830Z",
     "start_time": "2025-02-24T19:49:08.207583Z"
    }
   },
   "cell_type": "code",
   "source": [
    "res = minimize(problem,\n",
    "           algorithm,\n",
    "           ('n_gen', n_gen),\n",
    "           seed=1,\n",
    "           verbose=True)"
   ],
   "id": "d8ea45e2e8a0a06f",
   "outputs": [
    {
     "name": "stdout",
     "output_type": "stream",
     "text": [
      "==========================================================\n",
      "n_gen  |  n_eval  | n_nds  |      eps      |   indicator  \n",
      "==========================================================\n",
      "     1 |      100 |      5 |             - |             -\n",
      "     2 |      200 |      6 |  0.1414432638 |         ideal\n",
      "     3 |      300 |      6 |  0.0185404898 |             f\n",
      "     4 |      400 |      7 |  0.0449903646 |             f\n",
      "     5 |      500 |      8 |  0.0117788750 |             f\n",
      "     6 |      600 |      9 |  0.0266122852 |             f\n",
      "     7 |      700 |      9 |  0.000000E+00 |             f\n",
      "     8 |      800 |      9 |  0.0132017344 |             f\n",
      "     9 |      900 |     10 |  0.0117595649 |             f\n",
      "    10 |     1000 |      9 |  0.0235985336 |             f\n",
      "    11 |     1100 |     10 |  0.0291105104 |         ideal\n",
      "    12 |     1200 |      9 |  0.0286789432 |             f\n",
      "    13 |     1300 |     10 |  0.0015598154 |             f\n",
      "    14 |     1400 |     10 |  0.0015598154 |             f\n",
      "    15 |     1500 |      9 |  0.0144062828 |             f\n",
      "    16 |     1600 |      6 |  0.0193027542 |         ideal\n",
      "    17 |     1700 |      6 |  0.000000E+00 |             f\n",
      "    18 |     1800 |      8 |  0.1634055809 |         ideal\n",
      "    19 |     1900 |      8 |  0.000000E+00 |             f\n",
      "    20 |     2000 |      8 |  0.000000E+00 |             f\n",
      "    21 |     2100 |      8 |  0.000000E+00 |             f\n",
      "    22 |     2200 |      8 |  0.000000E+00 |             f\n",
      "    23 |     2300 |      8 |  0.000000E+00 |             f\n",
      "    24 |     2400 |      8 |  0.000000E+00 |             f\n",
      "    25 |     2500 |      8 |  0.000000E+00 |             f\n",
      "    26 |     2600 |      8 |  0.000000E+00 |             f\n",
      "    27 |     2700 |      8 |  0.000000E+00 |             f\n",
      "    28 |     2800 |      8 |  0.000000E+00 |             f\n",
      "    29 |     2900 |      8 |  0.000000E+00 |             f\n",
      "    30 |     3000 |      8 |  0.000000E+00 |             f\n",
      "    31 |     3100 |      8 |  0.000000E+00 |             f\n",
      "    32 |     3200 |      8 |  0.000000E+00 |             f\n",
      "    33 |     3300 |      8 |  0.000000E+00 |             f\n",
      "    34 |     3400 |      9 |  0.0055024524 |             f\n",
      "    35 |     3500 |      9 |  0.000000E+00 |             f\n",
      "    36 |     3600 |     10 |  0.0071388708 |             f\n",
      "    37 |     3700 |     10 |  0.000000E+00 |             f\n",
      "    38 |     3800 |     10 |  0.000000E+00 |             f\n",
      "    39 |     3900 |     10 |  0.000000E+00 |             f\n",
      "    40 |     4000 |     10 |  0.000000E+00 |             f\n",
      "    41 |     4100 |     10 |  0.000000E+00 |             f\n",
      "    42 |     4200 |     10 |  0.000000E+00 |             f\n",
      "    43 |     4300 |     10 |  0.000000E+00 |             f\n",
      "    44 |     4400 |     10 |  0.000000E+00 |             f\n",
      "    45 |     4500 |     10 |  0.000000E+00 |             f\n",
      "    46 |     4600 |     10 |  0.000000E+00 |             f\n",
      "    47 |     4700 |     10 |  0.000000E+00 |             f\n",
      "    48 |     4800 |     10 |  0.000000E+00 |             f\n",
      "    49 |     4900 |     10 |  0.000000E+00 |             f\n",
      "    50 |     5000 |     10 |  0.000000E+00 |             f\n"
     ]
    }
   ],
   "execution_count": 5
  },
  {
   "metadata": {
    "ExecuteTime": {
     "end_time": "2025-02-24T19:49:15.542974Z",
     "start_time": "2025-02-24T19:49:15.448781Z"
    }
   },
   "cell_type": "code",
   "source": [
    "# print(f\"Best population found:\\n {res.X} \\nwith F:\\n{res.F}\")\n",
    "\n",
    "plot = Scatter(title=\"NSGA-II\")\n",
    "plot.add(res.F)\n",
    "plot.axis_labels = problem.dataset_generator.get_objective_names()\n",
    "_ = plot.show()"
   ],
   "id": "8904a16823d85193",
   "outputs": [
    {
     "data": {
      "text/plain": [
       "<Figure size 800x600 with 1 Axes>"
      ],
      "image/png": "[encoded data removed]"
     },
     "metadata": {},
     "output_type": "display_data"
    }
   ],
   "execution_count": 6
  },
  {
   "metadata": {
    "ExecuteTime": {
     "end_time": "2025-02-24T19:49:15.550102Z",
     "start_time": "2025-02-24T19:49:15.546402Z"
    }
   },
   "cell_type": "code",
   "source": "",
   "id": "696bfe79e108982f",
   "outputs": [],
   "execution_count": null
  }
 ],
 "metadata": {
  "kernelspec": {
   "display_name": "Python 3",
   "language": "python",
   "name": "python3"
  },
  "language_info": {
   "codemirror_mode": {
    "name": "ipython",
    "version": 2
   },
   "file_extension": ".py",
   "mimetype": "text/x-python",
   "name": "python",
   "nbconvert_exporter": "python",
   "pygments_lexer": "ipython2",
   "version": "2.7.6"
  }
 },
 "nbformat": 4,
 "nbformat_minor": 5
}
