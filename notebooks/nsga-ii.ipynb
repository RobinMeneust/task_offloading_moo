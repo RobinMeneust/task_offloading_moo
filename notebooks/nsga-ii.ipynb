{
 "cells": [
  {
   "cell_type": "code",
   "execution_count": 1,
   "id": "856ceefcb9293d49",
   "metadata": {
    "ExecuteTime": {
     "end_time": "2025-03-07T21:50:20.043446Z",
     "start_time": "2025-03-07T21:50:19.477645Z"
    }
   },
   "outputs": [],
   "source": [
    "from pymoo.algorithms.moo.nsga2 import NSGA2\n",
    "from pymoo.operators.selection.rnd import RandomSelection\n",
    "from task_offloading_moo.pymoo.problem import TaskOffloadingProblem\n",
    "from task_offloading_moo.pymoo.operators.repair import TaskOffloadingRepair\n",
    "from task_offloading_moo.pymoo.operators.sampling import TaskOffloadingSampling\n",
    "from pymoo.operators.crossover.pntx import SinglePointCrossover\n",
    "\n",
    "from pymoo.optimize import minimize\n",
    "from pymoo.operators.mutation.pm import PolynomialMutation\n",
    "\n",
    "from pymoo.visualization.scatter import Scatter\n",
    "\n",
    "from pymoo.util.archive import default_archive"
   ]
  },
  {
   "cell_type": "code",
   "execution_count": 2,
   "id": "b79aed90defb9b34",
   "metadata": {
    "ExecuteTime": {
     "end_time": "2025-03-07T21:50:20.048840Z",
     "start_time": "2025-03-07T21:50:20.043446Z"
    }
   },
   "outputs": [],
   "source": [
    "pop_size = 100\n",
    "n_gen = 50\n",
    "mutation_rate = 0.1\n",
    "crossover_rate = 0.5\n",
    "\n",
    "num_cloud_machines = 30\n",
    "num_fog_machines = 20\n",
    "num_tasks = 500"
   ]
  },
  {
   "cell_type": "code",
   "execution_count": 3,
   "id": "initial_id",
   "metadata": {
    "ExecuteTime": {
     "end_time": "2025-03-07T21:50:20.433281Z",
     "start_time": "2025-03-07T21:50:20.196910Z"
    },
    "collapsed": true
   },
   "outputs": [],
   "source": [
    "problem = TaskOffloadingProblem(num_cloud_machines, num_fog_machines, num_tasks, use_random_machines=True)\n",
    "\n",
    "algorithm = NSGA2(repair=TaskOffloadingRepair(),\n",
    "               pop_size=pop_size,\n",
    "               eliminate_duplicates=True,\n",
    "               sampling=TaskOffloadingSampling(),\n",
    "               selection=RandomSelection(),\n",
    "               crossover=SinglePointCrossover(prob=crossover_rate, repair=TaskOffloadingRepair()),\n",
    "               mutation=PolynomialMutation(prob=mutation_rate, repair=TaskOffloadingRepair()),\n",
    "               archive=default_archive(problem),\n",
    "               save_history=True\n",
    "               )"
   ]
  },
  {
   "cell_type": "code",
   "execution_count": 4,
   "id": "90a1c12b90f3e77e",
   "metadata": {},
   "outputs": [],
   "source": [
    "# problem.dataset_generator.get_machines()"
   ]
  },
  {
   "cell_type": "code",
   "execution_count": 5,
   "id": "d8ea45e2e8a0a06f",
   "metadata": {},
   "outputs": [
    {
     "name": "stdout",
     "output_type": "stream",
     "text": [
      "==========================================================\n",
      "n_gen  |  n_eval  | n_nds  |      eps      |   indicator  \n",
      "==========================================================\n",
      "     1 |      100 |      9 |             - |             -\n",
      "     2 |      200 |      7 |  0.0237489767 |         ideal\n",
      "     3 |      300 |     10 |  0.0371879126 |         ideal\n",
      "     4 |      400 |      8 |  0.1620846758 |         ideal\n",
      "     5 |      500 |      8 |  0.0507354399 |             f\n",
      "     6 |      600 |     10 |  0.1546487982 |         ideal\n",
      "     7 |      700 |     11 |  0.0254550936 |         ideal\n",
      "     8 |      800 |     14 |  0.1112037365 |         ideal\n",
      "     9 |      900 |     13 |  0.0616699171 |             f\n",
      "    10 |     1000 |      7 |  0.2075847302 |         ideal\n",
      "    11 |     1100 |      8 |  0.0832412439 |         ideal\n",
      "    12 |     1200 |     10 |  0.2548405827 |         ideal\n",
      "    13 |     1300 |     16 |  0.1295641042 |         ideal\n",
      "    14 |     1400 |     16 |  0.0415590083 |         ideal\n",
      "    15 |     1500 |     12 |  0.0326173007 |         ideal\n",
      "    16 |     1600 |     10 |  0.0707597001 |         ideal\n",
      "    17 |     1700 |     16 |  0.0478784488 |         ideal\n",
      "    18 |     1800 |     16 |  0.0932175457 |         ideal\n",
      "    19 |     1900 |     17 |  0.1029336246 |         ideal\n",
      "    20 |     2000 |     13 |  0.0518821972 |             f\n",
      "    21 |     2100 |     16 |  0.1458452215 |         ideal\n",
      "    22 |     2200 |     17 |  0.0597605781 |         ideal\n",
      "    23 |     2300 |     22 |  0.0685754188 |         ideal\n",
      "    24 |     2400 |     20 |  0.0309809508 |             f\n",
      "    25 |     2500 |     21 |  0.0238812893 |             f\n",
      "    26 |     2600 |     21 |  0.0068352869 |         ideal\n",
      "    27 |     2700 |     27 |  0.0273283259 |             f\n",
      "    28 |     2800 |     30 |  0.0103992427 |         nadir\n",
      "    29 |     2900 |     13 |  0.0923187225 |         ideal\n",
      "    30 |     3000 |     16 |  0.0406268605 |             f\n",
      "    31 |     3100 |     20 |  0.0196330911 |         ideal\n",
      "    32 |     3200 |     21 |  0.0972690210 |         ideal\n",
      "    33 |     3300 |     27 |  0.0037738641 |         ideal\n",
      "    34 |     3400 |     19 |  0.0223717823 |         ideal\n",
      "    35 |     3500 |     19 |  0.0281207829 |             f\n",
      "    36 |     3600 |     21 |  0.0101711720 |         ideal\n",
      "    37 |     3700 |     19 |  0.0398401955 |         ideal\n",
      "    38 |     3800 |     26 |  0.0759037654 |         ideal\n",
      "    39 |     3900 |     32 |  0.0143886888 |         ideal\n",
      "    40 |     4000 |     34 |  0.0160730447 |             f\n",
      "    41 |     4100 |     30 |  0.0170162237 |             f\n",
      "    42 |     4200 |     32 |  0.0679392364 |         ideal\n",
      "    43 |     4300 |     32 |  0.0775102305 |         nadir\n",
      "    44 |     4400 |     33 |  0.0131090365 |             f\n",
      "    45 |     4500 |     31 |  0.0032891924 |         ideal\n",
      "    46 |     4600 |     29 |  0.0361760732 |         ideal\n",
      "    47 |     4700 |     26 |  0.0095392154 |         ideal\n",
      "    48 |     4800 |     25 |  0.0243151772 |         ideal\n",
      "    49 |     4900 |     17 |  0.0404255423 |         ideal\n",
      "    50 |     5000 |     26 |  0.0177946946 |             f\n"
     ]
    }
   ],
   "source": [
    "res = minimize(problem,\n",
    "           algorithm,\n",
    "           ('n_gen', n_gen),\n",
    "           seed=1,\n",
    "           verbose=True)"
   ]
  },
  {
   "cell_type": "code",
   "execution_count": 11,
   "id": "8904a16823d85193",
   "metadata": {},
   "outputs": [
    {
     "data": {
      "image/png": "[encoded data removed]",
      "text/plain": [
       "<Figure size 800x600 with 1 Axes>"
      ]
     },
     "metadata": {},
     "output_type": "display_data"
    }
   ],
   "source": [
    "# print(f\"Best population found:\\n {res.X} \\nwith F:\\n{res.F}\")\n",
    "\n",
    "plot = Scatter(title=\"NSGA-II\")\n",
    "plot.add(res.F)\n",
    "plot.axis_labels = problem.dataset_generator.get_objective_names()\n",
    "_ = plot.show()"
   ]
  },
  {
   "cell_type": "code",
   "execution_count": 7,
   "id": "6e7ec419",
   "metadata": {},
   "outputs": [],
   "source": [
    "import os\n",
    "from task_offloading_moo.utils.utils import save_generations_video_pymoo\n",
    "\n",
    "out_path = os.path.join(os.path.dirname(os.getcwd()), \"output\")\n",
    "save_generations_video_pymoo(res.history, out_path, \"nsgaii_video\")"
   ]
  }
 ],
 "metadata": {
  "kernelspec": {
   "display_name": ".venv",
   "language": "python",
   "name": "python3"
  },
  "language_info": {
   "codemirror_mode": {
    "name": "ipython",
    "version": 3
   },
   "file_extension": ".py",
   "mimetype": "text/x-python",
   "name": "python",
   "nbconvert_exporter": "python",
   "pygments_lexer": "ipython3",
   "version": "3.12.0"
  }
 },
 "nbformat": 4,
 "nbformat_minor": 5
}
