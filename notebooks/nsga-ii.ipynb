{
 "cells": [
  {
   "metadata": {
    "ExecuteTime": {
     "end_time": "2025-02-24T19:49:08.032049Z",
     "start_time": "2025-02-24T19:49:07.543147Z"
    }
   },
   "cell_type": "code",
   "source": [
    "from pymoo.algorithms.moo.nsga2 import NSGA2\n",
    "from pymoo.operators.selection.rnd import RandomSelection\n",
    "from task_offloading_moo.pymoo.problem import TaskOffloadingProblem\n",
    "from task_offloading_moo.pymoo.operators.repair import TaskOffloadingRepair\n",
    "from task_offloading_moo.pymoo.operators.sampling import TaskOffloadingSampling\n",
    "from pymoo.operators.crossover.pntx import SinglePointCrossover\n",
    "\n",
    "from pymoo.optimize import minimize\n",
    "from pymoo.operators.mutation.pm import PolynomialMutation\n",
    "\n",
    "from pymoo.visualization.scatter import Scatter"
   ],
   "id": "856ceefcb9293d49",
   "outputs": [],
   "execution_count": 1
  },
  {
   "metadata": {
    "ExecuteTime": {
     "end_time": "2025-02-24T19:49:08.047806Z",
     "start_time": "2025-02-24T19:49:08.033806Z"
    }
   },
   "cell_type": "code",
   "source": [
    "pop_size = 100\n",
    "n_gen = 50\n",
    "mutation_rate = 0.1\n",
    "crossover_rate = 0.5\n",
    "\n",
    "num_cloud_machines = 30\n",
    "num_fog_machines = 20\n",
    "num_tasks = 500"
   ],
   "id": "b79aed90defb9b34",
   "outputs": [],
   "execution_count": 2
  },
  {
   "cell_type": "code",
   "id": "initial_id",
   "metadata": {
    "collapsed": true,
    "ExecuteTime": {
     "end_time": "2025-02-24T19:49:08.196937Z",
     "start_time": "2025-02-24T19:49:08.171876Z"
    }
   },
   "source": [
    "algorithm = NSGA2(repair=TaskOffloadingRepair(),\n",
    "               pop_size=pop_size,\n",
    "               eliminate_duplicates=True,\n",
    "               sampling=TaskOffloadingSampling(),\n",
    "               selection=RandomSelection(),\n",
    "               crossover=SinglePointCrossover(prob=crossover_rate, repair=TaskOffloadingRepair()),\n",
    "               mutation=PolynomialMutation(prob=mutation_rate, repair=TaskOffloadingRepair()),\n",
    "               )\n",
    "\n",
    "problem = TaskOffloadingProblem(num_cloud_machines, num_fog_machines, num_tasks)\n"
   ],
   "outputs": [],
   "execution_count": 3
  },
  {
   "metadata": {},
   "cell_type": "code",
   "source": "# problem.dataset_generator.get_machines()",
   "id": "90a1c12b90f3e77e",
   "outputs": [],
   "execution_count": null
  },
  {
   "metadata": {
    "ExecuteTime": {
     "end_time": "2025-02-24T19:49:15.444830Z",
     "start_time": "2025-02-24T19:49:08.207583Z"
    }
   },
   "cell_type": "code",
   "source": [
    "res = minimize(problem,\n",
    "           algorithm,\n",
    "           ('n_gen', n_gen),\n",
    "           seed=1,\n",
    "           verbose=True)"
   ],
   "id": "d8ea45e2e8a0a06f",
   "outputs": [
    {
     "name": "stdout",
     "output_type": "stream",
     "text": [
      "==========================================================\n",
      "n_gen  |  n_eval  | n_nds  |      eps      |   indicator  \n",
      "==========================================================\n",
      "     1 |      100 |      5 |             - |             -\n",
      "     2 |      200 |      6 |  0.1414432638 |         ideal\n",
      "     3 |      300 |      6 |  0.0185404898 |             f\n",
      "     4 |      400 |      7 |  0.0449903646 |             f\n",
      "     5 |      500 |      8 |  0.0117788750 |             f\n",
      "     6 |      600 |      9 |  0.0266122852 |             f\n",
      "     7 |      700 |      9 |  0.000000E+00 |             f\n",
      "     8 |      800 |      9 |  0.0132017344 |             f\n",
      "     9 |      900 |     10 |  0.0117595649 |             f\n",
      "    10 |     1000 |      9 |  0.0235985336 |             f\n",
      "    11 |     1100 |     10 |  0.0291105104 |         ideal\n",
      "    12 |     1200 |      9 |  0.0286789432 |             f\n",
      "    13 |     1300 |     10 |  0.0015598154 |             f\n",
      "    14 |     1400 |     10 |  0.0015598154 |             f\n",
      "    15 |     1500 |      9 |  0.0144062828 |             f\n",
      "    16 |     1600 |      6 |  0.0193027542 |         ideal\n",
      "    17 |     1700 |      6 |  0.000000E+00 |             f\n",
      "    18 |     1800 |      8 |  0.1634055809 |         ideal\n",
      "    19 |     1900 |      8 |  0.000000E+00 |             f\n",
      "    20 |     2000 |      8 |  0.000000E+00 |             f\n",
      "    21 |     2100 |      8 |  0.000000E+00 |             f\n",
      "    22 |     2200 |      8 |  0.000000E+00 |             f\n",
      "    23 |     2300 |      8 |  0.000000E+00 |             f\n",
      "    24 |     2400 |      8 |  0.000000E+00 |             f\n",
      "    25 |     2500 |      8 |  0.000000E+00 |             f\n",
      "    26 |     2600 |      8 |  0.000000E+00 |             f\n",
      "    27 |     2700 |      8 |  0.000000E+00 |             f\n",
      "    28 |     2800 |      8 |  0.000000E+00 |             f\n",
      "    29 |     2900 |      8 |  0.000000E+00 |             f\n",
      "    30 |     3000 |      8 |  0.000000E+00 |             f\n",
      "    31 |     3100 |      8 |  0.000000E+00 |             f\n",
      "    32 |     3200 |      8 |  0.000000E+00 |             f\n",
      "    33 |     3300 |      8 |  0.000000E+00 |             f\n",
      "    34 |     3400 |      9 |  0.0055024524 |             f\n",
      "    35 |     3500 |      9 |  0.000000E+00 |             f\n",
      "    36 |     3600 |     10 |  0.0071388708 |             f\n",
      "    37 |     3700 |     10 |  0.000000E+00 |             f\n",
      "    38 |     3800 |     10 |  0.000000E+00 |             f\n",
      "    39 |     3900 |     10 |  0.000000E+00 |             f\n",
      "    40 |     4000 |     10 |  0.000000E+00 |             f\n",
      "    41 |     4100 |     10 |  0.000000E+00 |             f\n",
      "    42 |     4200 |     10 |  0.000000E+00 |             f\n",
      "    43 |     4300 |     10 |  0.000000E+00 |             f\n",
      "    44 |     4400 |     10 |  0.000000E+00 |             f\n",
      "    45 |     4500 |     10 |  0.000000E+00 |             f\n",
      "    46 |     4600 |     10 |  0.000000E+00 |             f\n",
      "    47 |     4700 |     10 |  0.000000E+00 |             f\n",
      "    48 |     4800 |     10 |  0.000000E+00 |             f\n",
      "    49 |     4900 |     10 |  0.000000E+00 |             f\n",
      "    50 |     5000 |     10 |  0.000000E+00 |             f\n"
     ]
    }
   ],
   "execution_count": 5
  },
  {
   "metadata": {
    "ExecuteTime": {
     "end_time": "2025-02-24T19:49:15.542974Z",
     "start_time": "2025-02-24T19:49:15.448781Z"
    }
   },
   "cell_type": "code",
   "source": [
    "# print(f\"Best population found:\\n {res.X} \\nwith F:\\n{res.F}\")\n",
    "\n",
    "plot = Scatter(title=\"NSGA-II\")\n",
    "plot.add(res.F)\n",
    "plot.axis_labels = problem.dataset_generator.get_objective_names()\n",
    "_ = plot.show()"
   ],
   "id": "8904a16823d85193",
   "outputs": [
    {
     "data": {
      "text/plain": [
       "<Figure size 800x600 with 1 Axes>"
      ],
      "image/png": "[encoded data removed]"
     },
     "metadata": {},
     "output_type": "display_data"
    }
   ],
   "execution_count": 6
  },
  {
   "metadata": {
    "ExecuteTime": {
     "end_time": "2025-02-24T19:49:15.550102Z",
     "start_time": "2025-02-24T19:49:15.546402Z"
    }
   },
   "cell_type": "code",
   "source": "",
   "id": "696bfe79e108982f",
   "outputs": [],
   "execution_count": null
  }
 ],
 "metadata": {
  "kernelspec": {
   "display_name": "Python 3",
   "language": "python",
   "name": "python3"
  },
  "language_info": {
   "codemirror_mode": {
    "name": "ipython",
    "version": 2
   },
   "file_extension": ".py",
   "mimetype": "text/x-python",
   "name": "python",
   "nbconvert_exporter": "python",
   "pygments_lexer": "ipython2",
   "version": "2.7.6"
  }
 },
 "nbformat": 4,
 "nbformat_minor": 5
}
