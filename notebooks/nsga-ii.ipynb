{
 "cells": [
  {
   "cell_type": "code",
   "execution_count": 8,
   "id": "856ceefcb9293d49",
   "metadata": {
    "ExecuteTime": {
     "end_time": "2025-03-07T21:50:20.043446Z",
     "start_time": "2025-03-07T21:50:19.477645Z"
    }
   },
   "outputs": [],
   "source": [
    "from pymoo.algorithms.moo.nsga2 import NSGA2\n",
    "from pymoo.operators.selection.rnd import RandomSelection\n",
    "from task_offloading_moo.pymoo.problem import TaskOffloadingProblem\n",
    "from task_offloading_moo.pymoo.operators.repair import TaskOffloadingRepair\n",
    "from task_offloading_moo.pymoo.operators.sampling import TaskOffloadingSampling\n",
    "from pymoo.operators.crossover.pntx import SinglePointCrossover\n",
    "\n",
    "from pymoo.optimize import minimize\n",
    "from pymoo.operators.mutation.pm import PolynomialMutation\n",
    "\n",
    "from pymoo.visualization.scatter import Scatter\n",
    "\n",
    "from pymoo.util.archive import default_archive"
   ]
  },
  {
   "cell_type": "code",
   "execution_count": 9,
   "id": "b79aed90defb9b34",
   "metadata": {
    "ExecuteTime": {
     "end_time": "2025-03-07T21:50:20.048840Z",
     "start_time": "2025-03-07T21:50:20.043446Z"
    }
   },
   "outputs": [],
   "source": [
    "pop_size = 100\n",
    "n_gen = 150\n",
    "mutation_rate = 0.1\n",
    "crossover_rate = 0.5\n",
    "\n",
    "num_cloud_machines = 30\n",
    "num_fog_machines = 20\n",
    "num_tasks = 500"
   ]
  },
  {
   "cell_type": "code",
   "execution_count": 10,
   "id": "initial_id",
   "metadata": {
    "ExecuteTime": {
     "end_time": "2025-03-07T21:50:20.433281Z",
     "start_time": "2025-03-07T21:50:20.196910Z"
    },
    "collapsed": true
   },
   "outputs": [],
   "source": [
    "problem = TaskOffloadingProblem(num_cloud_machines, num_fog_machines, num_tasks, use_random_machines=True)\n",
    "\n",
    "algorithm = NSGA2(repair=TaskOffloadingRepair(),\n",
    "               pop_size=pop_size,\n",
    "               eliminate_duplicates=True,\n",
    "               sampling=TaskOffloadingSampling(),\n",
    "               selection=RandomSelection(),\n",
    "               crossover=SinglePointCrossover(prob=crossover_rate, repair=TaskOffloadingRepair()),\n",
    "               mutation=PolynomialMutation(prob=mutation_rate, repair=TaskOffloadingRepair()),\n",
    "               archive=default_archive(problem),\n",
    "               save_history=True\n",
    "               )"
   ]
  },
  {
   "cell_type": "code",
   "execution_count": 11,
   "id": "90a1c12b90f3e77e",
   "metadata": {},
   "outputs": [],
   "source": [
    "# problem.dataset_generator.get_machines()"
   ]
  },
  {
   "cell_type": "code",
   "execution_count": 12,
   "id": "d8ea45e2e8a0a06f",
   "metadata": {},
   "outputs": [
    {
     "name": "stdout",
     "output_type": "stream",
     "text": [
      "==========================================================\n",
      "n_gen  |  n_eval  | n_nds  |      eps      |   indicator  \n",
      "==========================================================\n",
      "     1 |      100 |      9 |             - |             -\n",
      "     2 |      200 |      7 |  0.0237489767 |         ideal\n",
      "     3 |      300 |     10 |  0.0371879126 |         ideal\n",
      "     4 |      400 |      8 |  0.1620846758 |         ideal\n",
      "     5 |      500 |      8 |  0.0507354399 |             f\n",
      "     6 |      600 |     10 |  0.1546487982 |         ideal\n",
      "     7 |      700 |     11 |  0.0254550936 |         ideal\n",
      "     8 |      800 |     14 |  0.1112037365 |         ideal\n",
      "     9 |      900 |     13 |  0.0616699171 |             f\n",
      "    10 |     1000 |      7 |  0.2075847302 |         ideal\n",
      "    11 |     1100 |      8 |  0.0832412439 |         ideal\n",
      "    12 |     1200 |     10 |  0.2548405827 |         ideal\n",
      "    13 |     1300 |     16 |  0.1295641042 |         ideal\n",
      "    14 |     1400 |     16 |  0.0415590083 |         ideal\n",
      "    15 |     1500 |     12 |  0.0326173007 |         ideal\n",
      "    16 |     1600 |     10 |  0.0707597001 |         ideal\n",
      "    17 |     1700 |     16 |  0.0478784488 |         ideal\n",
      "    18 |     1800 |     16 |  0.0932175457 |         ideal\n",
      "    19 |     1900 |     17 |  0.1029336246 |         ideal\n",
      "    20 |     2000 |     13 |  0.0518821972 |             f\n",
      "    21 |     2100 |     16 |  0.1458452215 |         ideal\n",
      "    22 |     2200 |     17 |  0.0597605781 |         ideal\n",
      "    23 |     2300 |     22 |  0.0685754188 |         ideal\n",
      "    24 |     2400 |     20 |  0.0309809508 |             f\n",
      "    25 |     2500 |     21 |  0.0238812893 |             f\n",
      "    26 |     2600 |     21 |  0.0068352869 |         ideal\n",
      "    27 |     2700 |     27 |  0.0273283259 |             f\n",
      "    28 |     2800 |     30 |  0.0103992427 |         nadir\n",
      "    29 |     2900 |     13 |  0.0923187225 |         ideal\n",
      "    30 |     3000 |     16 |  0.0406268605 |             f\n",
      "    31 |     3100 |     20 |  0.0196330911 |         ideal\n",
      "    32 |     3200 |     21 |  0.0972690210 |         ideal\n",
      "    33 |     3300 |     27 |  0.0037738641 |         ideal\n",
      "    34 |     3400 |     19 |  0.0223717823 |         ideal\n",
      "    35 |     3500 |     19 |  0.0281207829 |             f\n",
      "    36 |     3600 |     21 |  0.0101711720 |         ideal\n",
      "    37 |     3700 |     19 |  0.0398401955 |         ideal\n",
      "    38 |     3800 |     26 |  0.0759037654 |         ideal\n",
      "    39 |     3900 |     32 |  0.0143886888 |         ideal\n",
      "    40 |     4000 |     34 |  0.0160730447 |             f\n",
      "    41 |     4100 |     30 |  0.0170162237 |             f\n",
      "    42 |     4200 |     32 |  0.0679392364 |         ideal\n",
      "    43 |     4300 |     32 |  0.0775102305 |         nadir\n",
      "    44 |     4400 |     33 |  0.0131090365 |             f\n",
      "    45 |     4500 |     31 |  0.0032891924 |         ideal\n",
      "    46 |     4600 |     29 |  0.0361760732 |         ideal\n",
      "    47 |     4700 |     26 |  0.0095392154 |         ideal\n",
      "    48 |     4800 |     25 |  0.0243151772 |         ideal\n",
      "    49 |     4900 |     17 |  0.0404255423 |         ideal\n",
      "    50 |     5000 |     26 |  0.0177946946 |             f\n",
      "    51 |     5100 |     29 |  0.0161502749 |             f\n",
      "    52 |     5200 |     33 |  0.0206247818 |             f\n",
      "    53 |     5300 |     28 |  0.0552500154 |         ideal\n",
      "    54 |     5400 |     24 |  0.0227129265 |             f\n",
      "    55 |     5500 |     34 |  0.0321325075 |         ideal\n",
      "    56 |     5600 |     24 |  0.0158487479 |         ideal\n",
      "    57 |     5700 |     34 |  0.0060601229 |         ideal\n",
      "    58 |     5800 |     37 |  0.0051535951 |         ideal\n",
      "    59 |     5900 |     39 |  0.0151870051 |         ideal\n",
      "    60 |     6000 |     43 |  0.0105144505 |             f\n",
      "    61 |     6100 |     33 |  0.0354895339 |         ideal\n",
      "    62 |     6200 |     33 |  0.0150195338 |         ideal\n",
      "    63 |     6300 |     30 |  0.0128493898 |             f\n",
      "    64 |     6400 |     34 |  0.0406603827 |         ideal\n",
      "    65 |     6500 |     35 |  0.0612095757 |         ideal\n",
      "    66 |     6600 |     32 |  0.0096826387 |             f\n",
      "    67 |     6700 |     31 |  0.0030032759 |         ideal\n",
      "    68 |     6800 |     27 |  0.0548039896 |         ideal\n",
      "    69 |     6900 |     24 |  0.0675372153 |         ideal\n",
      "    70 |     7000 |     29 |  0.0138443701 |             f\n",
      "    71 |     7100 |     34 |  0.0115824093 |             f\n",
      "    72 |     7200 |     39 |  0.0099718160 |             f\n",
      "    73 |     7300 |     37 |  0.0052444558 |         ideal\n",
      "    74 |     7400 |     34 |  0.0274223014 |         nadir\n",
      "    75 |     7500 |     27 |  0.0122106485 |         ideal\n",
      "    76 |     7600 |     33 |  0.0246559079 |         ideal\n",
      "    77 |     7700 |     31 |  0.0141900862 |             f\n",
      "    78 |     7800 |     31 |  0.0352568442 |         ideal\n",
      "    79 |     7900 |     33 |  0.0132166959 |             f\n",
      "    80 |     8000 |     31 |  0.0217190452 |         ideal\n",
      "    81 |     8100 |     39 |  0.0125810620 |             f\n",
      "    82 |     8200 |     40 |  0.0140070626 |         ideal\n",
      "    83 |     8300 |     41 |  0.0105979763 |             f\n",
      "    84 |     8400 |     34 |  0.0199196852 |         ideal\n",
      "    85 |     8500 |     39 |  0.0077356556 |             f\n",
      "    86 |     8600 |     37 |  0.0321554993 |         ideal\n",
      "    87 |     8700 |     40 |  0.0034660540 |         nadir\n",
      "    88 |     8800 |     45 |  0.0047918370 |         ideal\n",
      "    89 |     8900 |     35 |  0.0124574538 |             f\n",
      "    90 |     9000 |     31 |  0.0197763916 |         ideal\n",
      "    91 |     9100 |     40 |  0.0032158007 |         ideal\n",
      "    92 |     9200 |     44 |  0.0063421085 |             f\n",
      "    93 |     9300 |     45 |  0.0279360184 |         ideal\n",
      "    94 |     9400 |     38 |  0.0082256854 |         ideal\n",
      "    95 |     9500 |     39 |  0.0121531280 |             f\n",
      "    96 |     9600 |     40 |  0.0159390785 |         ideal\n",
      "    97 |     9700 |     36 |  0.0673098232 |         nadir\n",
      "    98 |     9800 |     38 |  0.0047123886 |         ideal\n",
      "    99 |     9900 |     28 |  0.0293908961 |         ideal\n",
      "   100 |    10000 |     32 |  0.0175880813 |         ideal\n",
      "   101 |    10100 |     25 |  0.0395765380 |         ideal\n",
      "   102 |    10200 |     35 |  0.0109729023 |             f\n",
      "   103 |    10300 |     38 |  0.0193756973 |         ideal\n",
      "   104 |    10400 |     40 |  0.0323393806 |         ideal\n",
      "   105 |    10500 |     47 |  0.0097629247 |             f\n",
      "   106 |    10600 |     57 |  0.0129416019 |         ideal\n",
      "   107 |    10700 |     51 |  0.0120421793 |         ideal\n",
      "   108 |    10800 |     54 |  0.0110907294 |         ideal\n",
      "   109 |    10900 |     53 |  0.0166148191 |         ideal\n",
      "   110 |    11000 |     43 |  0.0482429298 |         ideal\n",
      "   111 |    11100 |     51 |  0.0130022358 |         ideal\n",
      "   112 |    11200 |     47 |  0.0072220584 |             f\n",
      "   113 |    11300 |     39 |  0.0116838805 |             f\n",
      "   114 |    11400 |     34 |  0.0078420109 |         ideal\n",
      "   115 |    11500 |     40 |  0.0111604301 |             f\n",
      "   116 |    11600 |     43 |  0.0192167908 |         ideal\n",
      "   117 |    11700 |     39 |  0.0158327024 |         ideal\n",
      "   118 |    11800 |     43 |  0.0353031225 |         nadir\n",
      "   119 |    11900 |     49 |  0.0052005168 |             f\n",
      "   120 |    12000 |     55 |  0.0127710809 |         ideal\n",
      "   121 |    12100 |     47 |  0.0177614659 |         ideal\n",
      "   122 |    12200 |     48 |  0.0065938633 |         ideal\n",
      "   123 |    12300 |     48 |  0.0316661157 |         ideal\n",
      "   124 |    12400 |     37 |  0.0087349756 |             f\n",
      "   125 |    12500 |     36 |  0.0195699635 |         ideal\n",
      "   126 |    12600 |     38 |  0.0128792486 |             f\n",
      "   127 |    12700 |     39 |  0.0087823547 |             f\n",
      "   128 |    12800 |     46 |  0.0034161767 |         ideal\n",
      "   129 |    12900 |     34 |  0.0119074049 |         ideal\n",
      "   130 |    13000 |     30 |  0.0179771990 |         ideal\n",
      "   131 |    13100 |     40 |  0.0075176953 |             f\n",
      "   132 |    13200 |     45 |  0.0109173521 |         ideal\n",
      "   133 |    13300 |     32 |  0.0191790030 |         ideal\n",
      "   134 |    13400 |     38 |  0.0281304008 |         ideal\n",
      "   135 |    13500 |     35 |  0.0157440855 |         ideal\n",
      "   136 |    13600 |     39 |  0.0102476277 |             f\n",
      "   137 |    13700 |     36 |  0.0125193563 |             f\n",
      "   138 |    13800 |     47 |  0.0112744958 |         ideal\n",
      "   139 |    13900 |     49 |  0.0158198858 |         ideal\n",
      "   140 |    14000 |     51 |  0.0055802695 |             f\n",
      "   141 |    14100 |     45 |  0.0162178313 |         ideal\n",
      "   142 |    14200 |     42 |  0.2140339634 |         nadir\n",
      "   143 |    14300 |     53 |  0.0092090504 |         ideal\n",
      "   144 |    14400 |     55 |  0.0149127784 |         ideal\n",
      "   145 |    14500 |     54 |  0.0080963999 |             f\n",
      "   146 |    14600 |     49 |  0.0053815924 |         ideal\n",
      "   147 |    14700 |     41 |  0.0483618568 |         ideal\n",
      "   148 |    14800 |     44 |  0.0082566092 |             f\n",
      "   149 |    14900 |     43 |  0.0068275896 |             f\n",
      "   150 |    15000 |     39 |  0.0123773678 |             f\n"
     ]
    }
   ],
   "source": [
    "res = minimize(problem,\n",
    "           algorithm,\n",
    "           ('n_gen', n_gen),\n",
    "           seed=1,\n",
    "           verbose=True)"
   ]
  },
  {
   "cell_type": "code",
   "execution_count": 13,
   "id": "8904a16823d85193",
   "metadata": {},
   "outputs": [
    {
     "data": {
      "image/png": "[encoded data removed]",
      "text/plain": [
       "<Figure size 800x600 with 1 Axes>"
      ]
     },
     "metadata": {},
     "output_type": "display_data"
    }
   ],
   "source": [
    "# print(f\"Best population found:\\n {res.X} \\nwith F:\\n{res.F}\")\n",
    "\n",
    "plot = Scatter(title=\"NSGA-II\")\n",
    "plot.add(res.F)\n",
    "plot.axis_labels = problem.dataset_generator.get_objective_names()\n",
    "_ = plot.show()"
   ]
  },
  {
   "cell_type": "code",
   "execution_count": 14,
   "id": "6e7ec419",
   "metadata": {},
   "outputs": [],
   "source": [
    "import os\n",
    "from task_offloading_moo.utils.utils import save_generations_video_pymoo\n",
    "\n",
    "out_path = os.path.join(os.path.dirname(os.getcwd()), \"output\")\n",
    "save_generations_video_pymoo(res.history, out_path, \"nsgaii_video\")"
   ]
  },
  {
   "cell_type": "markdown",
   "id": "d1aeec73",
   "metadata": {},
   "source": [
    "## Save pareto results"
   ]
  },
  {
   "cell_type": "code",
   "execution_count": 15,
   "id": "dbe1202d",
   "metadata": {},
   "outputs": [
    {
     "name": "stdout",
     "output_type": "stream",
     "text": [
      "Solutions sauvegardées\n"
     ]
    }
   ],
   "source": [
    "import pickle\n",
    "\n",
    "out_path = os.path.join(os.path.dirname(os.getcwd()), \"output\")\n",
    "\n",
    "output_file = os.path.join(out_path, \"nsga_results.pkl\")\n",
    "with open(output_file, \"wb\") as f:\n",
    "    pickle.dump(res.F, f)\n",
    "\n",
    "print(f\"Solutions sauvegardées\")"
   ]
  }
 ],
 "metadata": {
  "kernelspec": {
   "display_name": ".venv",
   "language": "python",
   "name": "python3"
  },
  "language_info": {
   "codemirror_mode": {
    "name": "ipython",
    "version": 3
   },
   "file_extension": ".py",
   "mimetype": "text/x-python",
   "name": "python",
   "nbconvert_exporter": "python",
   "pygments_lexer": "ipython3",
   "version": "3.12.0"
  }
 },
 "nbformat": 4,
 "nbformat_minor": 5
}
