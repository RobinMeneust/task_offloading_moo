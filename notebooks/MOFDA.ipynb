{
 "cells": [
  {
   "cell_type": "markdown",
   "metadata": {},
   "source": [
    "# Multi-Objective Flow Direction Algorithm (MOFDA) for Task Offloading\n",
    "\n",
    "This notebook implements the MOFDA algorithm for the task offloading problem based on the paper \"Leader selection based Multi-Objective Flow Direction Algorithm. (MOFDA): A novel approach for engineering design problems.\""
   ]
  },
  {
   "cell_type": "code",
   "metadata": {
    "ExecuteTime": {
     "end_time": "2025-03-08T17:09:15.989317Z",
     "start_time": "2025-03-08T17:09:15.975216Z"
    }
   },
   "source": "# !uv pip install pymoo",
   "outputs": [],
   "execution_count": 15
  },
  {
   "cell_type": "code",
   "metadata": {
    "ExecuteTime": {
     "end_time": "2025-03-08T17:09:15.997152Z",
     "start_time": "2025-03-08T17:09:15.991061Z"
    }
   },
   "source": [
    "import sys\n",
    "\n",
    "# Add the project root to the Python path\n",
    "sys.path.append('../')\n",
    "\n",
    "from pymoo.core.population import Population\n",
    "# For newer pymoo versions use:\n",
    "try:\n",
    "    from pymoo.util.archive import Archive\n",
    "except ImportError:\n",
    "    # Fallback for older pymoo versions\n",
    "    try:\n",
    "        from pymoo.core.archive import Archive\n",
    "    except ImportError:\n",
    "        # Create a simple Archive class if not available\n",
    "        class Archive(Population):\n",
    "            def __init__(self, *args, **kwargs):\n",
    "                super().__init__(*args, **kwargs)\n",
    "\n",
    "from pymoo.optimize import minimize\n",
    "from pymoo.visualization.scatter import Scatter\n",
    "from src.task_offloading_moo.pymoo.problem import TaskOffloadingProblem\n",
    "from src.task_offloading_moo.pymoo.operators.repair import TaskOffloadingRepair\n",
    "from src.task_offloading_moo.pymoo.operators.sampling import TaskOffloadingSampling\n",
    "from src.task_offloading_moo.pymoo.algorithms.mofda_optimizer import MOFDAOptimizer\n",
    "from task_offloading_moo.pymoo.termination.mofda_termination import MOFDATermination"
   ],
   "outputs": [],
   "execution_count": 16
  },
  {
   "cell_type": "markdown",
   "metadata": {},
   "source": [
    "## 1. Implementing MOFDA\n",
    "\n",
    "First, we'll implement the Multi-Objective Flow Direction Algorithm based on the paper description."
   ]
  },
  {
   "cell_type": "markdown",
   "metadata": {},
   "source": [
    "## 2. Problem Setup\n",
    "\n",
    "Now let's set up the task offloading problem similar to the PUMA notebook."
   ]
  },
  {
   "cell_type": "code",
   "metadata": {
    "ExecuteTime": {
     "end_time": "2025-03-08T17:09:16.027220Z",
     "start_time": "2025-03-08T17:09:16.001119Z"
    }
   },
   "source": [
    "pop_size = 100\n",
    "n_max_iters = 50\n",
    "\n",
    "num_cloud_machines = 30\n",
    "num_fog_machines = 20\n",
    "num_tasks = 500\n",
    "\n",
    "# Add this code above your algorithm definition\n",
    "\n",
    "algorithm = MOFDAOptimizer(\n",
    "    repair=TaskOffloadingRepair(),\n",
    "    use_soft_repair=True,\n",
    "    pop_size=pop_size,\n",
    "    sampling=TaskOffloadingSampling(),\n",
    "    n_max_iters=n_max_iters,\n",
    "    archive_size=100,\n",
    "    save_history=True,\n",
    "    w=0.4,\n",
    "    c1=2,\n",
    "    c2=2,\n",
    "    beta=4,\n",
    "    delta=0.5\n",
    ")\n",
    "\n",
    "problem = TaskOffloadingProblem(num_cloud_machines, num_fog_machines, num_tasks, use_random_machines=True)"
   ],
   "outputs": [],
   "execution_count": 17
  },
  {
   "cell_type": "markdown",
   "metadata": {},
   "source": [
    "## 3. Run Optimization"
   ]
  },
  {
   "cell_type": "code",
   "metadata": {
    "ExecuteTime": {
     "end_time": "2025-03-08T17:09:31.844826Z",
     "start_time": "2025-03-08T17:09:16.031511Z"
    }
   },
   "source": [
    "res = minimize(problem,\n",
    "               algorithm,\n",
    "               termination=MOFDATermination(n_max_gen=n_max_iters),\n",
    "               seed=1,\n",
    "               verbose=True)"
   ],
   "outputs": [
    {
     "name": "stdout",
     "output_type": "stream",
     "text": [
      "==========================================================\n",
      "n_gen  |  n_eval  | n_nds  |      eps      |   indicator  \n",
      "==========================================================\n",
      "     1 |      100 |      1 |             - |             -\n",
      "     2 |      600 |      1 |  1.0000000000 |         ideal\n",
      "     3 |     1100 |      1 |  0.7545934948 |         ideal\n",
      "     4 |     1600 |      1 |  0.000000E+00 |             f\n",
      "     5 |     2100 |      1 |  0.000000E+00 |             f\n",
      "     6 |     2600 |      1 |  0.5513770994 |         ideal\n",
      "     7 |     3100 |      1 |  0.000000E+00 |             f\n",
      "     8 |     3600 |      1 |  0.000000E+00 |             f\n",
      "     9 |     4100 |      1 |  0.000000E+00 |             f\n",
      "    10 |     4600 |      1 |  0.1434675053 |         ideal\n",
      "    11 |     5100 |      1 |  0.000000E+00 |             f\n",
      "    12 |     5600 |      1 |  0.000000E+00 |             f\n",
      "    13 |     6100 |      1 |  0.000000E+00 |             f\n",
      "    14 |     6600 |      1 |  0.000000E+00 |             f\n",
      "    15 |     7100 |      1 |  0.0414563705 |         ideal\n",
      "    16 |     7600 |      1 |  0.000000E+00 |             f\n",
      "    17 |     8100 |      1 |  0.0995153171 |         ideal\n",
      "    18 |     8600 |      1 |  0.000000E+00 |             f\n",
      "    19 |     9100 |      1 |  0.000000E+00 |             f\n",
      "    20 |     9600 |      1 |  0.000000E+00 |             f\n",
      "    21 |    10100 |      1 |  0.000000E+00 |             f\n",
      "    22 |    10600 |      1 |  0.000000E+00 |             f\n",
      "    23 |    11100 |      1 |  0.000000E+00 |             f\n",
      "    24 |    11600 |      1 |  0.000000E+00 |             f\n",
      "    25 |    12100 |      1 |  0.0537063521 |         ideal\n",
      "    26 |    12600 |      1 |  0.000000E+00 |             f\n",
      "    27 |    13100 |      1 |  0.000000E+00 |             f\n",
      "    28 |    13600 |      1 |  0.000000E+00 |             f\n",
      "    29 |    14100 |      1 |  0.000000E+00 |             f\n",
      "    30 |    14600 |      1 |  0.000000E+00 |             f\n",
      "    31 |    15100 |      1 |  0.000000E+00 |             f\n",
      "    32 |    15600 |      1 |  0.000000E+00 |             f\n",
      "    33 |    16100 |      1 |  0.000000E+00 |             f\n",
      "    34 |    16600 |      1 |  0.000000E+00 |             f\n",
      "    35 |    17100 |      1 |  0.000000E+00 |             f\n",
      "    36 |    17600 |      1 |  0.000000E+00 |             f\n",
      "    37 |    18100 |      1 |  0.000000E+00 |             f\n",
      "    38 |    18600 |      1 |  0.000000E+00 |             f\n",
      "    39 |    19100 |      1 |  0.000000E+00 |             f\n",
      "    40 |    19600 |      1 |  0.000000E+00 |             f\n",
      "    41 |    20100 |      1 |  0.000000E+00 |             f\n",
      "    42 |    20600 |      1 |  0.000000E+00 |             f\n",
      "    43 |    21100 |      1 |  0.000000E+00 |             f\n",
      "    44 |    21600 |      1 |  0.000000E+00 |             f\n",
      "    45 |    22100 |      1 |  0.000000E+00 |             f\n",
      "    46 |    22600 |      1 |  0.000000E+00 |             f\n",
      "    47 |    23100 |      1 |  0.000000E+00 |             f\n",
      "    48 |    23600 |      1 |  0.000000E+00 |             f\n",
      "    49 |    24100 |      1 |  0.000000E+00 |             f\n",
      "    50 |    24600 |      1 |  0.000000E+00 |             f\n"
     ]
    }
   ],
   "execution_count": 18
  },
  {
   "cell_type": "markdown",
   "metadata": {},
   "source": [
    "## 4. Visualize Results"
   ]
  },
  {
   "cell_type": "code",
   "metadata": {
    "ExecuteTime": {
     "end_time": "2025-03-08T17:09:31.912198Z",
     "start_time": "2025-03-08T17:09:31.848392Z"
    }
   },
   "source": [
    "plot = Scatter(title=\"MOFDA\")\n",
    "plot.add(res.F)\n",
    "plot.axis_labels = problem.dataset_generator.get_objective_names()\n",
    "_ = plot.show()"
   ],
   "outputs": [
    {
     "data": {
      "text/plain": [
       "<Figure size 800x600 with 1 Axes>"
      ],
      "image/png": "[encoded data removed]"
     },
     "metadata": {},
     "output_type": "display_data"
    }
   ],
   "execution_count": 19
  },
  {
   "cell_type": "markdown",
   "metadata": {},
   "source": [
    "## 5. Create Animation of Optimization Progress"
   ]
  },
  {
   "cell_type": "code",
   "metadata": {
    "ExecuteTime": {
     "end_time": "2025-03-08T17:09:33.112357Z",
     "start_time": "2025-03-08T17:09:31.916474Z"
    }
   },
   "source": [
    "!pip install pyrecorder"
   ],
   "outputs": [
    {
     "name": "stdout",
     "output_type": "stream",
     "text": [
      "Requirement already satisfied: pyrecorder in c:\\users\\robin\\appdata\\local\\programs\\python\\python310\\lib\\site-packages (0.2.1)\n",
      "Requirement already satisfied: imageio in c:\\users\\robin\\appdata\\local\\programs\\python\\python310\\lib\\site-packages (from pyrecorder) (2.37.0)\n",
      "Requirement already satisfied: opencv-python>=4.0.0.21 in c:\\users\\robin\\appdata\\local\\programs\\python\\python310\\lib\\site-packages (from pyrecorder) (4.11.0.86)\n",
      "Requirement already satisfied: matplotlib>=3 in c:\\users\\robin\\appdata\\local\\programs\\python\\python310\\lib\\site-packages (from pyrecorder) (3.10.1)\n",
      "Requirement already satisfied: numpy>=1.15 in c:\\users\\robin\\appdata\\local\\programs\\python\\python310\\lib\\site-packages (from pyrecorder) (2.2.1)\n",
      "Requirement already satisfied: packaging>=20.0 in c:\\users\\robin\\appdata\\local\\programs\\python\\python310\\lib\\site-packages (from matplotlib>=3->pyrecorder) (24.2)\n",
      "Requirement already satisfied: pyparsing>=2.3.1 in c:\\users\\robin\\appdata\\local\\programs\\python\\python310\\lib\\site-packages (from matplotlib>=3->pyrecorder) (3.2.1)\n",
      "Requirement already satisfied: contourpy>=1.0.1 in c:\\users\\robin\\appdata\\local\\programs\\python\\python310\\lib\\site-packages (from matplotlib>=3->pyrecorder) (1.3.1)\n",
      "Requirement already satisfied: kiwisolver>=1.3.1 in c:\\users\\robin\\appdata\\local\\programs\\python\\python310\\lib\\site-packages (from matplotlib>=3->pyrecorder) (1.4.8)\n",
      "Requirement already satisfied: python-dateutil>=2.7 in c:\\users\\robin\\appdata\\local\\programs\\python\\python310\\lib\\site-packages (from matplotlib>=3->pyrecorder) (2.9.0.post0)\n",
      "Requirement already satisfied: fonttools>=4.22.0 in c:\\users\\robin\\appdata\\local\\programs\\python\\python310\\lib\\site-packages (from matplotlib>=3->pyrecorder) (4.56.0)\n",
      "Requirement already satisfied: cycler>=0.10 in c:\\users\\robin\\appdata\\local\\programs\\python\\python310\\lib\\site-packages (from matplotlib>=3->pyrecorder) (0.12.1)\n",
      "Requirement already satisfied: pillow>=8 in c:\\users\\robin\\appdata\\local\\programs\\python\\python310\\lib\\site-packages (from matplotlib>=3->pyrecorder) (11.1.0)\n",
      "Requirement already satisfied: six>=1.5 in c:\\users\\robin\\appdata\\local\\programs\\python\\python310\\lib\\site-packages (from python-dateutil>=2.7->matplotlib>=3->pyrecorder) (1.17.0)\n"
     ]
    },
    {
     "name": "stderr",
     "output_type": "stream",
     "text": [
      "\n",
      "[notice] A new release of pip available: 22.2.1 -> 25.0.1\n",
      "[notice] To update, run: C:\\Users\\robin\\AppData\\Local\\Programs\\Python\\Python310\\python.exe -m pip install --upgrade pip\n"
     ]
    }
   ],
   "execution_count": 20
  },
  {
   "cell_type": "code",
   "metadata": {
    "ExecuteTime": {
     "end_time": "2025-03-08T17:09:38.334552Z",
     "start_time": "2025-03-08T17:09:33.116014Z"
    }
   },
   "source": [
    "from pyrecorder.recorder import Recorder\n",
    "from pyrecorder.writers.video import Video\n",
    "import os\n",
    "\n",
    "out_path = os.path.join(os.path.dirname(os.getcwd()), \"output\")\n",
    "os.makedirs(out_path, exist_ok=True)\n",
    "with Recorder(Video(os.path.join(out_path, \"mofda_video.mp4\"))) as rec:\n",
    "\n",
    "    # for each algorithm object in the history\n",
    "    for entry in res.history:\n",
    "        sc = Scatter(title=(\"Gen %s\" % entry.n_gen))\n",
    "        sc.add(entry.opt.get(\"F\"))\n",
    "        sc.add(entry.problem.pareto_front(), plot_type=\"line\", color=\"black\", alpha=0.7)\n",
    "        sc.do()\n",
    "\n",
    "        # record the current visualization to the video\n",
    "        rec.record()"
   ],
   "outputs": [],
   "execution_count": 21
  }
 ],
 "metadata": {
  "kernelspec": {
   "display_name": "Python 3 (ipykernel)",
   "language": "python",
   "name": "python3"
  },
  "language_info": {
   "codemirror_mode": {
    "name": "ipython",
    "version": 3
   },
   "file_extension": ".py",
   "mimetype": "text/x-python",
   "name": "python",
   "nbconvert_exporter": "python",
   "pygments_lexer": "ipython3",
   "version": "3.12.2"
  }
 },
 "nbformat": 4,
 "nbformat_minor": {
  "cells": [
   {
    "cell_type": "markdown",
    "metadata": {},
    "source": [
     "# Multi-Objective Flow Direction Algorithm (MOFDA) for Task Offloading\n",
     "\n",
     "This notebook implements the MOFDA algorithm for the task offloading problem based on the paper \"Leader selection based Multi-Objective Flow Direction Algorithm. (MOFDA): A novel approach for engineering design problems.\""
    ]
   },
   {
    "cell_type": "code",
    "execution_count": null,
    "metadata": {},
    "source": [
     "import numpy as np\n",
     "from pymoo.core.algorithm import Algorithm\n",
     "from pymoo.core.population import Population\n",
     "from pymoo.core.archive import Archive\n",
     "from pymoo.util.nds.non_dominated_sorting import NonDominatedSorting\n",
     "from pymoo.util.misc import find_duplicates\n",
     "from pymoo.util.function_loader import load_function\n",
     "from pymoo.util.randomized_argsort import randomized_argsort\n",
     "from pymoo.core.individual import Individual\n",
     "from pymoo.core.problem import Problem\n",
     "from pymoo.optimize import minimize\n",
     "from pymoo.visualization.scatter import Scatter\n",
     "\n",
     "from task_offloading_moo.pymoo.problem import TaskOffloadingProblem\n",
     "from task_offloading_moo.pymoo.operators.repair import TaskOffloadingRepair\n",
     "from task_offloading_moo.pymoo.operators.sampling import TaskOffloadingSampling"
    ]
   },
   {
    "cell_type": "markdown",
    "metadata": {},
    "source": [
     "## 1. Implementing MOFDA\n",
     "\n",
     "First, we'll implement the Multi-Objective Flow Direction Algorithm based on the paper description."
    ]
   },
   {
    "cell_type": "code",
    "execution_count": null,
    "metadata": {},
    "source": [
     "class MOFDAArchive(Archive):\n",
     "    \"\"\"Archive implementation for MOFDA algorithm to store non-dominated solutions.\"\"\"\n",
     "    \n",
     "    def __init__(self, size=None):\n",
     "        super().__init__()\n",
     "        self.size = size\n",
     "        self.grid = None  # Will store grid information\n",
     "\n",
     "    def _accept(self, pop, events=None):\n",
     "        # Only accept non-dominated solutions\n",
     "        if len(self.data) == 0:\n",
     "            return np.full(len(pop), True)\n",
     "        else:\n",
     "            # Get the objective space values from archive and population\n",
     "            F_archive = self.get(\"F\")\n",
     "            F_pop = pop.get(\"F\")\n",
     "            \n",
     "            # Combine archive and population for non-dominated sorting\n",
     "            F_all = np.vstack([F_archive, F_pop])\n",
     "            \n",
     "            # Do non-dominated sorting for all solutions\n",
     "            fronts = NonDominatedSorting().do(F_all, only_non_dominated_front=True)\n",
     "            \n",
     "            # Check which solutions from the population are in the first front\n",
     "            accepted = np.zeros(len(pop), dtype=bool)\n",
     "            for k in fronts[0]:\n",
     "                if k >= len(F_archive):\n",
     "                    accepted[k - len(F_archive)] = True\n",
     "                    \n",
     "            return accepted\n",
     "    \n",
     "    def _filter(self):\n",
     "        # If archive size is not limited, no filtering is necessary\n",
     "        if self.size is None or len(self.data) <= self.size:\n",
     "            return\n",
     "        \n",
     "        # Get the objective values\n",
     "        F = self.get(\"F\")\n",
     "        \n",
     "        # Create a grid for crowding distance calculation\n",
     "        n_dim = F.shape[1]\n",
     "        n_grid_per_dim = int(np.ceil(np.power(self.size, 1/n_dim)))\n",
     "        \n",
     "        # Calculate grid indices for each dimension\n",
     "        grid_indices = np.zeros((len(F), n_dim), dtype=int)\n",
     "        \n",
     "        for i in range(n_dim):\n",
     "            f_min, f_max = F[:, i].min(), F[:, i].max()\n",
     "            delta = (f_max - f_min) / n_grid_per_dim if f_max > f_min else 1.0\n",
     "            grid_indices[:, i] = np.floor((F[:, i] - f_min) / delta)\n",
     "            # Handle edge case\n",
     "            grid_indices[:, i] = np.minimum(grid_indices[:, i], n_grid_per_dim - 1)\n",
     "        \n",
     "        # Count solutions in each grid cell\n",
     "        unique_cells, cell_counts = np.unique(grid_indices, axis=0, return_counts=True)\n",
     "        \n",
     "        # Map each solution to its cell count (crowding measure)\n",
     "        crowding = np.zeros(len(F))\n",
     "        for i, indices in enumerate(grid_indices):\n",
     "            idx = np.where((unique_cells == indices).all(axis=1))[0][0]\n",
     "            crowding[i] = cell_counts[idx]\n",
     "        \n",
     "        # Sort by crowding (descending) and keep only the required size\n",
     "        I = np.argsort(-crowding)[:self.size]\n",
     "        self.data = self.data[I]\n",
     "        \n",
     "        # Store grid information for leader selection\n",
     "        self.grid = {'indices': grid_indices[I], 'counts': crowding[I]}\n",
     "        \n",
     "    def get_leader(self):\n",
     "        \"\"\"Select a leader from the archive using roulette wheel based on grid density.\"\"\"\n",
     "        if len(self.data) == 0:\n",
     "            return None\n",
     "        \n",
     "        if self.grid is None:\n",
     "            # If grid information is not available, select randomly\n",
     "            return self.data[np.random.randint(len(self.data))]\n",
     "        \n",
     "        # Calculate selection probability inversely proportional to grid density\n",
     "        probs = 1.0 / self.grid['counts']\n",
     "        probs = probs / np.sum(probs)  # Normalize\n",
     "        \n",
     "        # Select using roulette wheel\n",
     "        idx = np.random.choice(len(self.data), p=probs)\n",
     "        return self.data[idx]"
    ]
   },
   {
    "cell_type": "code",
    "execution_count": null,
    "metadata": {},
    "source": [
     "class MOFDAOptimizer(Algorithm):\n",
     "    \"\"\"Multi-Objective Flow Direction Algorithm (MOFDA) for multi-objective optimization.\"\"\"\n",
     "    \n",
     "    def __init__(self,\n",
     "                 pop_size=100,\n",
     "                 sampling=None,\n",
     "                 repair=None,\n",
     "                 archive_size=100,\n",
     "                 n_max_iters=100,\n",
     "                 w=0.4,        # weight factor for velocity control\n",
     "                 c1=2,         # control parameter for neighborhood radius\n",
     "                 c2=2,         # control parameter for flow movement\n",
     "                 beta=4,       # number of neighbors around each flow\n",
     "                 delta=0.5,    # mutation rate\n",
     "                 use_soft_repair=True,\n",
     "                 save_history=False,\n",
     "                 **kwargs):\n",
     "        \n",
     "        super().__init__(**kwargs)\n",
     "        \n",
     "        self.pop_size = pop_size\n",
     "        self.sampling = sampling\n",
     "        self.repair = repair\n",
     "        self.n_max_iters = n_max_iters\n",
     "        self.archive_size = archive_size\n",
     "        self.w = w\n",
     "        self.c1 = c1\n",
     "        self.c2 = c2\n",
     "        self.beta = beta\n",
     "        self.delta = delta\n",
     "        self.use_soft_repair = use_soft_repair\n",
     "        self.save_history = save_history\n",
     "        \n",
     "        self.archive = MOFDAArchive(size=archive_size)\n",
     "        self.current_iter = 0\n",
     "\n",
     "    def _initialize_advance(self, infills=None, **kwargs):\n",
     "        # Add initial population to archive\n",
     "        self.archive.update(self.pop)\n",
     "\n",
     "    def _infill(self):\n",
     "        # Create offspring using FDA operators\n",
     "        n_offsprings = self.pop_size\n",
     "        offsprings = np.empty(n_offsprings, dtype=object)\n",
     "        \n",
     "        # Get current population\n",
     "        X = self.pop.get(\"X\")\n",
     "        n_vars = X.shape[1]\n",
     "        \n",
     "        # Get leader from archive (best non-dominated solution)\n",
     "        leader = self.archive.get_leader()\n",
     "        leader_X = leader.get(\"X\") if leader is not None else None\n",
     "        \n",
     "        # For each individual in population\n",
     "        for i in range(n_offsprings):\n",
     "            # Current flow position\n",
     "            flow_X = X[i].copy()\n",
     "            \n",
     "            # Generate neighbors for each flow\n",
     "            neighbors_X = np.empty((self.beta, n_vars))\n",
     "            for j in range(self.beta):\n",
     "                # Create neighbor using normal distribution around current flow\n",
     "                delta = np.random.randn(n_vars)\n",
     "                \n",
     "                # Calculate neighborhood radius\n",
     "                radius = delta * np.linalg.norm(best_X - flow_X) if leader_X is not None else delta\n",
     "                \n",
     "                # Create neighbor\n",
     "                neighbors_X[j] = flow_X + radius\n",
     "            \n",
     "            # Evaluate neighbors\n",
     "            neighbors = np.array([Individual(X=x) for x in neighbors_X])\n",
     "            self.evaluator.eval(self.problem, neighbors)\n",
     "            \n",
     "            # Find best neighbor (using non-dominated sorting if multi-objective)\n",
     "            F_neighbors = np.array([n.get(\"F\") for n in neighbors])\n",
     "            F_current = self.pop[i].get(\"F\")\n",
     "            \n",
     "            # Check if any neighbor dominates current flow\n",
     "            dominated = False\n",
     "            best_neighbor_idx = 0\n",
     "            \n",
     "            for j in range(self.beta):\n",
     "                if self._dominates(F_neighbors[j], F_current):\n",
     "                    dominated = True\n",
     "                    best_neighbor_idx = j\n",
     "                    break\n",
     "            \n",
     "            # Update flow position\n",
     "            if dominated:\n",
     "                # Calculate flow velocity based on slope\n",
     "                slope = (flow_X - neighbors_X[best_neighbor_idx]) / np.linalg.norm(flow_X - neighbors_X[best_neighbor_idx])\n",
     "                velocity = np.random.random() * slope\n",
     "                \n",
     "                # Update flow position\n",
     "                new_X = flow_X + velocity\n",
     "            else:\n",
     "                # Sink filling process - randomly select another flow\n",
     "                random_idx = np.random.randint(self.pop_size)\n",
     "                \n",
     "                if random_idx == i:\n",
     "                    random_idx = (random_idx + 1) % self.pop_size\n",
     "                \n",
     "                random_flow = self.pop[random_idx]\n",
     "                \n",
     "                # Compare fitness\n",
     "                if self._dominates(random_flow.get(\"F\"), F_current):\n",
     "                    # Move towards the random flow\n",
     "                    new_X = flow_X + np.random.random() * (random_flow.get(\"X\") - flow_X)\n",
     "                elif leader_X is not None:\n",
     "                    # Move towards the leader\n",
     "                    new_X = flow_X + 2 * np.random.random() * (leader_X - flow_X)\n",
     "                else:\n",
     "                    # Apply mutation\n",
     "                    if np.random.random() < self.delta:\n",
     "                        new_X = flow_X + np.random.randn(n_vars) * 0.1\n",
     "                    else:\n",
     "                        new_X = flow_X\n",
     "            \n",
     "            # Create new individual\n",
     "            offsprings[i] = Individual(X=new_X)\n",
     "        \n",
     "        # Apply repair operator if necessary\n",
     "        if self.repair is not None:\n",
     "            offsprings = self.repair.do(self.problem, Population(offsprings), use_soft=self.use_soft_repair)\n",
     "        \n",
     "        return offsprings\n",
     "    \n",
     "    def _dominates(self, F1, F2):\n",
     "        \"\"\"Check if F1 dominates F2 (assuming minimization).\"\"\"\n",
     "        return np.all(F1 <= F2) and np.any(F1 < F2)\n",
     "\n",
     "    def _advance(self, infills=None, **kwargs):\n",
     "        # Update archive with evaluated offspring\n",
     "        self.archive.update(infills)\n",
     "        \n",
     "        # Select next population from combined previous population and offspring\n",
     "        self.pop = self._select(self.pop, infills)\n",
     "        \n",
     "        # Save algorithm state in history\n",
     "        if self.save_history and self.current_iter % 1 == 0:\n",
     "            self.history.append(self.copy(deep=True))\n",
     "            \n",
     "        self.current_iter += 1\n",
     "\n",
     "    def _select(self, pop, off):\n",
     "        # Combine parent and offspring population\n",
     "        merged = Population.merge(pop, off)\n",
     "        \n",
     "        # For selection, use non-dominated sorting\n",
     "        F = merged.get(\"F\")\n",
     "        \n",
     "        # Perform non-dominated sorting\n",
     "        fronts = NonDominatedSorting().do(F, n_stop_if_ranked=len(merged))\n",
     "        \n",
     "        # Prepare indices to be selected\n",
     "        n_remaining = self.pop_size\n",
     "        indices = []\n",
     "        \n",
     "        for front in fronts:\n",
     "            # If we can take the whole front, add it\n",
     "            if len(front) <= n_remaining:\n",
     "                indices.extend(front)\n",
     "                n_remaining -= len(front)\n",
     "            # Otherwise, select based on crowding distance\n",
     "            else:\n",
     "                # Calculate crowding distance for this front\n",
     "                crowding_of_front = self._calc_crowding_distance(F[front])\n",
     "                \n",
     "                # Sort by crowding distance (higher is better)\n",
     "                I = np.argsort(-crowding_of_front)\n",
     "                I = I[:n_remaining]\n",
     "                \n",
     "                # Add selected individuals from this front\n",
     "                indices.extend(front[I])\n",
     "                break\n",
     "                \n",
     "        # Create the population for next generation\n",
     "        return merged[indices]\n",
     "    \n",
     "    def _calc_crowding_distance(self, F):\n",
     "        n_points, n_obj = F.shape\n",
     "        \n",
     "        if n_points <= 2:\n",
     "            return np.full(n_points, np.inf)\n",
     "        \n",
     "        # Initialize crowding distance\n",
     "        crowding = np.zeros(n_points)\n",
     "        \n",
     "        # Calculate crowding distance for each objective\n",
     "        for i in range(n_obj):\n",
     "            # Sort by current objective\n",
     "            idx = np.argsort(F[:, i])\n",
     "            \n",
     "            # Set the boundary points to infinity\n",
     "            crowding[idx[0]] = np.inf\n",
     "            crowding[idx[-1]] = np.inf\n",
     "            \n",
     "            # Calculate crowding distance for the rest\n",
     "            f_min = F[idx[0], i]\n",
     "            f_max = F[idx[-1], i]\n",
     "            \n",
     "            if f_max > f_min:\n",
     "                # Add normalized distance to crowding\n",
     "                crowding[idx[1:-1]] += (F[idx[2:], i] - F[idx[:-2], i]) / (f_max - f_min)\n",
     "                \n",
     "        return crowding\n",
     "        \n",
     "    def _set_optimum(self, **kwargs):\n",
     "        # The optimum is all non-dominated solutions in the archive\n",
     "        self.opt = self.archive.data"
    ]
   },
   {
    "cell_type": "markdown",
    "metadata": {},
    "source": [
     "## 2. Problem Setup\n",
     "\n",
     "Now let's set up the task offloading problem similar to the PUMA notebook."
    ]
   },
   {
    "cell_type": "code",
    "execution_count": null,
    "metadata": {},
    "source": [
     "pop_size = 100\n",
     "n_max_iters = 50\n",
     "\n",
     "num_cloud_machines = 30\n",
     "num_fog_machines = 20\n",
     "num_tasks = 500\n",
     "\n",
     "algorithm = MOFDAOptimizer(\n",
     "    repair=TaskOffloadingRepair(),\n",
     "    use_soft_repair=True,\n",
     "    pop_size=pop_size,\n",
     "    sampling=TaskOffloadingSampling(),\n",
     "    n_max_iters=n_max_iters,\n",
     "    archive_size=100,\n",
     "    save_history=True,\n",
     "    w=0.4,\n",
     "    c1=2,\n",
     "    c2=2,\n",
     "    beta=4,\n",
     "    delta=0.5\n",
     ")\n",
     "\n",
     "problem = TaskOffloadingProblem(num_cloud_machines, num_fog_machines, num_tasks)"
    ]
   },
   {
    "cell_type": "markdown",
    "metadata": {},
    "source": [
     "## 3. Run Optimization"
    ]
   },
   {
    "cell_type": "code",
    "execution_count": null,
    "metadata": {},
    "source": [
     "res = minimize(problem,\n",
     "               algorithm,\n",
     "               seed=1,\n",
     "               verbose=True)"
    ]
   },
   {
    "cell_type": "markdown",
    "metadata": {},
    "source": [
     "## 4. Visualize Results"
    ]
   },
   {
    "cell_type": "code",
    "execution_count": null,
    "metadata": {},
    "source": [
     "plot = Scatter(title=\"MOFDA\")\n",
     "plot.add(res.F)\n",
     "plot.axis_labels = problem.dataset_generator.get_objective_names()\n",
     "_ = plot.show()"
    ]
   },
   {
    "cell_type": "markdown",
    "metadata": {},
    "source": [
     "## 5. Create Animation of Optimization Progress"
    ]
   },
   {
    "cell_type": "code",
    "execution_count": null,
    "metadata": {},
    "source": [
     "from pyrecorder.recorder import Recorder\n",
     "from pyrecorder.writers.video import Video\n",
     "import os\n",
     "\n",
     "out_path = os.path.join(os.path.dirname(os.getcwd()), \"output\")\n",
     "os.makedirs(out_path, exist_ok=True)\n",
     "with Recorder(Video(os.path.join(out_path, \"mofda_video.mp4\"))) as rec:\n",
     "\n",
     "    # for each algorithm object in the history\n",
     "    for entry in res.history:\n",
     "        sc = Scatter(title=(\"Gen %s\" % entry.n_gen))\n",
     "        sc.add(entry.opt.get(\"F\"))\n",
     "        sc.add(entry.problem.pareto_front(), plot_type=\"line\", color=\"black\", alpha=0.7)\n",
     "        sc.do()\n",
     "\n",
     "        # record the current visualization to the video\n",
     "        rec.record()"
    ]
   },
   {
    "cell_type": "markdown",
    "metadata": {},
    "source": [
     "## 6. Compare MOFDA and PUMA results\n",
     "\n",
     "To compare the performance of MOFDA against PUMA, we can load results from both algorithms and visualize them together."
    ]
   },
   {
    "cell_type": "code",
    "execution_count": null,
    "metadata": {},
    "source": [
     "# You can uncomment and run this after executing both MOFDA and PUMA notebooks\n",
     "\n",
     "# import pickle\n",
     "# import os\n",
     "# \n",
     "# # Save MOFDA results\n",
     "# with open(os.path.join(out_path, 'mofda_results.pkl'), 'wb') as f:\n",
     "#     pickle.dump(res, f)\n",
     "#     \n",
     "# # Load PUMA results (assuming they're already saved)\n",
     "# puma_res = None\n",
     "# try:\n",
     "#     with open(os.path.join(out_path, 'puma_results.pkl'), 'rb') as f:\n",
     "#         puma_res = pickle.load(f)\n",
     "# except FileNotFoundError:\n",
     "#     print(\"PUMA results file not found. Run PUMA notebook first and save results.\")\n",
     "#     \n",
     "# # If PUMA results are loaded, compare with MOFDA\n",
     "# if puma_res is not None:\n",
     "#     plot = Scatter(title=\"MOFDA vs PUMA\")\n",
     "#     plot.add(res.F, label=\"MOFDA\")\n",
     "#     plot.add(puma_res.F, label=\"PUMA\")\n",
     "#     plot.axis_labels = problem.dataset_generator.get_objective_names()\n",
     "#     _ = plot.show()"
    ]
   },
   {
    "cell_type": "markdown",
    "metadata": {},
    "source": [
     "## 7. Analyze MOFDA Performance\n",
     "\n",
     "We can analyze the performance of MOFDA using various metrics like generational distance, spacing, maximum spread, and hypervolume."
    ]
   },
   {
    "cell_type": "code",
    "execution_count": null,
    "metadata": {},
    "source": [
     "# Analyze the convergence and diversity metrics\n",
     "\n",
     "# from pymoo.indicators.gd import GD\n",
     "# from pymoo.indicators.igd import IGD\n",
     "# from pymoo.indicators.hv import HV\n",
     "# \n",
     "# # Get the Pareto front approximation\n",
     "# F = res.F\n",
     "# \n",
     "# # If the true Pareto front is available\n",
     "# pf = problem.pareto_front()\n",
     "# \n",
     "# if pf is not None:\n",
     "#     # Calculate Generational Distance\n",
     "#     gd = GD(pf)\n",
     "#     gd_value = gd.do(F)\n",
     "#     print(f\"Generational Distance: {gd_value}\")\n",
     "#     \n",
     "#     # Calculate Inverted Generational Distance\n",
     "#     igd = IGD(pf)\n",
     "#     igd_value = igd.do(F)\n",
     "#     print(f\"Inverted Generational Distance: {igd_value}\")\n",
     "#     \n",
     "# # Calculate Hypervolume (requires reference point)\n",
     "# ref_point = np.max(F, axis=0) * 1.1  # 10% larger than the maximum observed values\n",
     "# hv = HV(ref_point=ref_point)\n",
     "# hv_value = hv.do(F)\n",
     "# print(f\"Hypervolume: {hv_value}\")"
    ]
   }
  ],
  "metadata": {
   "kernelspec": {
    "display_name": "Python 3",
    "language": "python",
    "name": "python3"
   },
   "language_info": {
    "codemirror_mode": {
     "name": "ipython",
     "version": 3
    },
    "file_extension": ".py",
    "mimetype": "text/x-python",
    "name": "python",
    "nbconvert_exporter": "python",
    "pygments_lexer": "ipython3",
    "version": "3.8.10"
   }
  },
  "nbformat": 4,
  "nbformat_minor": 5
 }
}
