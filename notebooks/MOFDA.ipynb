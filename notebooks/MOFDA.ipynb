{
 "cells": [
  {
   "cell_type": "markdown",
   "metadata": {},
   "source": [
    "# Multi-Objective Flow Direction Algorithm (MOFDA) for Task Offloading\n",
    "\n",
    "This notebook implements the MOFDA algorithm for the task offloading problem based on the paper \"Leader selection based Multi-Objective Flow Direction Algorithm. (MOFDA): A novel approach for engineering design problems.\""
   ]
  },
  {
   "cell_type": "code",
   "execution_count": 25,
   "metadata": {},
   "outputs": [],
   "source": [
    "from pymoo.optimize import minimize\n",
    "from pymoo.visualization.scatter import Scatter\n",
    "from task_offloading_moo.pymoo.problem import TaskOffloadingProblem\n",
    "from task_offloading_moo.pymoo.operators.repair import TaskOffloadingRepair\n",
    "from task_offloading_moo.pymoo.operators.sampling import TaskOffloadingSampling\n",
    "from task_offloading_moo.pymoo.algorithms.mofda_optimizer import MOFDAOptimizer\n",
    "from task_offloading_moo.pymoo.termination.mofda_termination import MOFDATermination"
   ]
  },
  {
   "cell_type": "markdown",
   "metadata": {},
   "source": [
    "## 1. Implementing MOFDA\n",
    "\n",
    "First, we'll implement the Multi-Objective Flow Direction Algorithm based on the paper description."
   ]
  },
  {
   "cell_type": "markdown",
   "metadata": {},
   "source": [
    "## 2. Problem Setup\n",
    "\n",
    "Now let's set up the task offloading problem similar to the PUMA notebook."
   ]
  },
  {
   "cell_type": "code",
   "execution_count": 26,
   "metadata": {},
   "outputs": [],
   "source": [
    "pop_size = 100\n",
    "n_max_iters = 150\n",
    "num_cloud_machines = 50\n",
    "num_fog_machines = 40\n",
    "num_tasks = 1000\n",
    "\n",
    "# Add this code above your algorithm definition\n",
    "\n",
    "algorithm = MOFDAOptimizer(\n",
    "    repair=TaskOffloadingRepair(),\n",
    "    use_soft_repair=True,\n",
    "    pop_size=pop_size,\n",
    "    sampling=TaskOffloadingSampling(),\n",
    "    n_max_iters=n_max_iters,\n",
    "    archive_size=100,\n",
    "    save_history=True,\n",
    "    w=0.4,\n",
    "    c1=2,\n",
    "    c2=2,\n",
    "    beta=4,\n",
    "    delta=0.5\n",
    ")\n",
    "\n",
    "problem = TaskOffloadingProblem(num_cloud_machines, num_fog_machines, num_tasks, use_random_machines=True)"
   ]
  },
  {
   "cell_type": "markdown",
   "metadata": {},
   "source": [
    "## 3. Run Optimization"
   ]
  },
  {
   "cell_type": "code",
   "execution_count": 27,
   "metadata": {},
   "outputs": [
    {
     "name": "stdout",
     "output_type": "stream",
     "text": [
      "==========================================================\n",
      "n_gen  |  n_eval  | n_nds  |      eps      |   indicator  \n",
      "==========================================================\n",
      "     1 |      100 |     11 |             - |             -\n",
      "     2 |      600 |      6 |  0.6278681041 |         ideal\n",
      "     3 |     1100 |      9 |  0.2681863096 |         ideal\n",
      "     4 |     1600 |     10 |  0.2580268873 |         ideal\n",
      "     5 |     2100 |     12 |  0.0587576530 |         ideal\n",
      "     6 |     2600 |     15 |  0.1320961340 |         ideal\n",
      "     7 |     3100 |     18 |  0.1541265763 |         ideal\n",
      "     8 |     3600 |     21 |  0.2710122563 |         ideal\n",
      "     9 |     4100 |     22 |  0.0147367468 |             f\n",
      "    10 |     4600 |     22 |  0.0040655845 |             f\n",
      "    11 |     5100 |     25 |  0.0145060660 |             f\n",
      "    12 |     5600 |     25 |  0.0240307732 |         ideal\n",
      "    13 |     6100 |     31 |  0.0192524550 |             f\n",
      "    14 |     6600 |     33 |  0.0065840718 |             f\n",
      "    15 |     7100 |     41 |  0.0021523886 |             f\n",
      "    16 |     7600 |     42 |  0.0025377464 |             f\n",
      "    17 |     8100 |     59 |  0.0145294123 |         ideal\n",
      "    18 |     8600 |     83 |  0.0007447105 |             f\n",
      "    19 |     9100 |     84 |  0.0102193124 |         ideal\n",
      "    20 |     9600 |    100 |  0.0006470943 |             f\n",
      "    21 |    10100 |    100 |  0.0006470943 |             f\n",
      "    22 |    10600 |    100 |  0.0006470943 |             f\n",
      "    23 |    11100 |     93 |  0.0093507117 |         ideal\n",
      "    24 |    11600 |    100 |  0.0009736101 |             f\n",
      "    25 |    12100 |    100 |  0.0013416801 |             f\n",
      "    26 |    12600 |    100 |  0.0019621158 |             f\n",
      "    27 |    13100 |    100 |  0.0021463089 |             f\n",
      "    28 |    13600 |    100 |  0.0038281076 |             f\n",
      "    29 |    14100 |    100 |  0.0014535941 |             f\n",
      "    30 |    14600 |    100 |  0.0164579325 |         ideal\n",
      "    31 |    15100 |    100 |  0.0242509059 |         ideal\n",
      "    32 |    15600 |    100 |  0.0000300168 |             f\n",
      "    33 |    16100 |    100 |  0.0000300168 |             f\n",
      "    34 |    16600 |    100 |  0.0006907624 |             f\n",
      "    35 |    17100 |    100 |  0.0011253071 |             f\n",
      "    36 |    17600 |    100 |  0.0013566719 |             f\n",
      "    37 |    18100 |    100 |  0.0034202609 |         nadir\n",
      "    38 |    18600 |    100 |  0.0005418432 |             f\n",
      "    39 |    19100 |    100 |  0.0007382488 |             f\n",
      "    40 |    19600 |    100 |  0.0016006234 |             f\n",
      "    41 |    20100 |    100 |  0.0036467352 |             f\n",
      "    42 |    20600 |    100 |  0.000000E+00 |             f\n",
      "    43 |    21100 |    100 |  0.0194232654 |         ideal\n",
      "    44 |    21600 |    100 |  0.0007121840 |             f\n",
      "    45 |    22100 |    100 |  0.0008252705 |             f\n",
      "    46 |    22600 |    100 |  0.0622894632 |         ideal\n",
      "    47 |    23100 |    100 |  0.0002108685 |             f\n",
      "    48 |    23600 |     96 |  0.0032790178 |             f\n",
      "    49 |    24100 |    100 |  0.0009679137 |             f\n",
      "    50 |    24600 |     97 |  0.0012111470 |             f\n",
      "    51 |    25100 |    100 |  0.0015568649 |             f\n",
      "    52 |    25600 |    100 |  0.0744318770 |         ideal\n",
      "    53 |    26100 |    100 |  0.000000E+00 |             f\n",
      "    54 |    26600 |    100 |  0.000000E+00 |             f\n",
      "    55 |    27100 |    100 |  0.0000710380 |             f\n",
      "    56 |    27600 |    100 |  0.0692863011 |         ideal\n",
      "    57 |    28100 |    100 |  0.0015615820 |             f\n",
      "    58 |    28600 |    100 |  0.0020979035 |             f\n",
      "    59 |    29100 |    100 |  0.0021325869 |             f\n",
      "    60 |    29600 |    100 |  0.0026309153 |             f\n",
      "    61 |    30100 |    100 |  0.0001546038 |             f\n",
      "    62 |    30600 |    100 |  0.0001546038 |             f\n",
      "    63 |    31100 |    100 |  0.0003014125 |             f\n",
      "    64 |    31600 |    100 |  0.0003014125 |             f\n",
      "    65 |    32100 |    100 |  0.0004399611 |             f\n",
      "    66 |    32600 |    100 |  0.0008112941 |             f\n",
      "    67 |    33100 |    100 |  0.0010048951 |             f\n",
      "    68 |    33600 |    100 |  0.0014579055 |             f\n",
      "    69 |    34100 |     97 |  0.0014285312 |             f\n",
      "    70 |    34600 |    100 |  0.0022384905 |             f\n",
      "    71 |    35100 |    100 |  0.0029322486 |             f\n",
      "    72 |    35600 |    100 |  0.000000E+00 |             f\n",
      "    73 |    36100 |    100 |  0.0001686007 |             f\n",
      "    74 |    36600 |    100 |  0.0004806685 |             f\n",
      "    75 |    37100 |    100 |  0.0009074725 |             f\n",
      "    76 |    37600 |    100 |  0.0015841615 |             f\n",
      "    77 |    38100 |     93 |  0.0021295870 |             f\n",
      "    78 |    38600 |    100 |  0.0021077232 |             f\n",
      "    79 |    39100 |    100 |  0.0025017889 |             f\n",
      "    80 |    39600 |    100 |  0.0000421459 |             f\n",
      "    81 |    40100 |    100 |  0.0002603405 |             f\n",
      "    82 |    40600 |    100 |  0.0002652494 |             f\n",
      "    83 |    41100 |    100 |  0.0002652494 |             f\n",
      "    84 |    41600 |    100 |  0.0023978002 |             f\n",
      "    85 |    42100 |    100 |  0.0025755116 |             f\n",
      "    86 |    42600 |    100 |  0.0003150418 |             f\n",
      "    87 |    43100 |    100 |  0.0003150418 |             f\n",
      "    88 |    43600 |    100 |  0.0003150418 |             f\n",
      "    89 |    44100 |     94 |  0.0007796653 |             f\n",
      "    90 |    44600 |     97 |  0.0014383566 |             f\n",
      "    91 |    45100 |    100 |  0.0018456920 |             f\n",
      "    92 |    45600 |    100 |  0.0018456920 |             f\n",
      "    93 |    46100 |    100 |  0.0018456920 |             f\n",
      "    94 |    46600 |    100 |  0.0020295708 |             f\n",
      "    95 |    47100 |    100 |  0.0020295708 |             f\n",
      "    96 |    47600 |    100 |  0.0021112395 |             f\n",
      "    97 |    48100 |    100 |  0.0021137548 |             f\n",
      "    98 |    48600 |    100 |  0.0021137548 |             f\n",
      "    99 |    49100 |    100 |  0.0098604858 |         ideal\n",
      "   100 |    49600 |    100 |  0.000000E+00 |             f\n",
      "   101 |    50100 |    100 |  0.0004474328 |             f\n",
      "   102 |    50600 |     99 |  0.0005485829 |             f\n",
      "   103 |    51100 |    100 |  0.0007654125 |             f\n",
      "   104 |    51600 |    100 |  0.0010585237 |             f\n",
      "   105 |    52100 |    100 |  0.0010585237 |             f\n",
      "   106 |    52600 |     98 |  0.0013937726 |             f\n",
      "   107 |    53100 |    100 |  0.0015113253 |             f\n",
      "   108 |    53600 |    100 |  0.0015113253 |             f\n",
      "   109 |    54100 |     97 |  0.0014438137 |             f\n",
      "   110 |    54600 |     99 |  0.0016881250 |             f\n",
      "   111 |    55100 |     99 |  0.0016881250 |             f\n",
      "   112 |    55600 |     99 |  0.0016881250 |             f\n",
      "   113 |    56100 |    100 |  0.0019777916 |             f\n",
      "   114 |    56600 |     99 |  0.0021952310 |             f\n",
      "   115 |    57100 |    100 |  0.0021757179 |             f\n",
      "   116 |    57600 |    100 |  0.0026083138 |             f\n",
      "   117 |    58100 |     95 |  0.0004701394 |             f\n",
      "   118 |    58600 |    100 |  0.0006787184 |             f\n",
      "   119 |    59100 |    100 |  0.0008596412 |             f\n",
      "   120 |    59600 |    100 |  0.0008596412 |             f\n",
      "   121 |    60100 |    100 |  0.0008596412 |             f\n",
      "   122 |    60600 |     92 |  0.0016275040 |             f\n",
      "   123 |    61100 |     92 |  0.0016275040 |             f\n",
      "   124 |    61600 |     93 |  0.0018262438 |             f\n",
      "   125 |    62100 |    100 |  0.0019058108 |             f\n",
      "   126 |    62600 |    100 |  0.0019058108 |             f\n",
      "   127 |    63100 |    100 |  0.0019425668 |             f\n",
      "   128 |    63600 |    100 |  0.0100322033 |         ideal\n",
      "   129 |    64100 |    100 |  0.0003073981 |             f\n",
      "   130 |    64600 |    100 |  0.0006770287 |             f\n",
      "   131 |    65100 |    100 |  0.0006770287 |             f\n",
      "   132 |    65600 |    100 |  0.0008411845 |             f\n",
      "   133 |    66100 |    100 |  0.0008411845 |             f\n",
      "   134 |    66600 |    100 |  0.0009386037 |             f\n",
      "   135 |    67100 |    100 |  0.0010852938 |             f\n",
      "   136 |    67600 |    100 |  0.0010852938 |             f\n",
      "   137 |    68100 |    100 |  0.0082031505 |         ideal\n",
      "   138 |    68600 |    100 |  0.0000395257 |             f\n",
      "   139 |    69100 |    100 |  0.0002528284 |             f\n",
      "   140 |    69600 |    100 |  0.0005944226 |             f\n",
      "   141 |    70100 |    100 |  0.0005944226 |             f\n",
      "   142 |    70600 |    100 |  0.0008414864 |             f\n",
      "   143 |    71100 |    100 |  0.0008414864 |             f\n",
      "   144 |    71600 |    100 |  0.0008414864 |             f\n",
      "   145 |    72100 |    100 |  0.0097644633 |         ideal\n",
      "   146 |    72600 |    100 |  0.0000558270 |             f\n",
      "   147 |    73100 |    100 |  0.0000558270 |             f\n",
      "   148 |    73600 |     82 |  0.0290777143 |         ideal\n",
      "   149 |    74100 |     67 |  0.0040947627 |             f\n",
      "   150 |    74600 |     67 |  0.000000E+00 |             f\n"
     ]
    }
   ],
   "source": [
    "res = minimize(problem,\n",
    "               algorithm,\n",
    "               termination=MOFDATermination(n_max_gen=n_max_iters),\n",
    "               seed=1,\n",
    "               verbose=True)"
   ]
  },
  {
   "cell_type": "markdown",
   "metadata": {},
   "source": [
    "## 4. Visualize Results"
   ]
  },
  {
   "cell_type": "code",
   "execution_count": 28,
   "metadata": {},
   "outputs": [
    {
     "data": {
      "image/png": "[encoded data removed]",
      "text/plain": [
       "<Figure size 800x600 with 1 Axes>"
      ]
     },
     "metadata": {},
     "output_type": "display_data"
    }
   ],
   "source": [
    "plot = Scatter(title=\"MOFDA\")\n",
    "plot.add(res.F)\n",
    "plot.axis_labels = problem.dataset_generator.get_objective_names()\n",
    "_ = plot.show()"
   ]
  },
  {
   "cell_type": "markdown",
   "metadata": {},
   "source": [
    "## 5. Create Animation of Optimization Progress"
   ]
  },
  {
   "cell_type": "code",
   "execution_count": 29,
   "metadata": {},
   "outputs": [],
   "source": [
    "import os\n",
    "from task_offloading_moo.utils.utils import save_generations_video_pymoo\n",
    "\n",
    "out_path = os.path.join(os.path.dirname(os.getcwd()), \"output\")\n",
    "\n",
    "save_generations_video_pymoo(res.history, out_path, \"mofda_video\")\n"
   ]
  },
  {
   "cell_type": "markdown",
   "metadata": {},
   "source": [
    "## 6. Save pareto results in pkl file"
   ]
  },
  {
   "cell_type": "code",
   "execution_count": 30,
   "metadata": {},
   "outputs": [
    {
     "name": "stdout",
     "output_type": "stream",
     "text": [
      "Solutions sauvegardées dans /home/cytech/ING3/MOO/task_offloading_moo/output/mofda_results.pkl\n"
     ]
    }
   ],
   "source": [
    "import pickle\n",
    "\n",
    "out_path = os.path.join(os.path.dirname(os.getcwd()), \"output\")\n",
    "\n",
    "output_file = os.path.join(out_path, \"mofda_results.pkl\")\n",
    "with open(output_file, \"wb\") as f:\n",
    "    pickle.dump(res.F, f)\n",
    "\n",
    "print(f\"Solutions sauvegardées dans {output_file}\")"
   ]
  }
 ],
 "metadata": {
  "language_info": {
   "name": "python"
  }
 },
 "nbformat": 4,
 "nbformat_minor": 2
}
