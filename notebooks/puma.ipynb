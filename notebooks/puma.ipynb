{
 "cells": [
  {
   "cell_type": "code",
   "execution_count": 38,
   "id": "initial_id",
   "metadata": {
    "ExecuteTime": {
     "end_time": "2025-02-27T13:06:13.762151Z",
     "start_time": "2025-02-27T13:06:13.759061Z"
    },
    "collapsed": true
   },
   "outputs": [],
   "source": [
    "from task_offloading_moo.pymoo.algorithms.puma_optimizer import PumaOptimizer\n",
    "from task_offloading_moo.pymoo.problem import TaskOffloadingProblem\n",
    "from task_offloading_moo.pymoo.operators.repair import TaskOffloadingRepair\n",
    "from task_offloading_moo.pymoo.operators.sampling import TaskOffloadingSampling\n",
    "from pymoo.optimize import minimize\n",
    "from pymoo.visualization.scatter import Scatter"
   ]
  },
  {
   "cell_type": "code",
   "execution_count": 39,
   "id": "b9e81751e8031db2",
   "metadata": {
    "ExecuteTime": {
     "end_time": "2025-02-27T13:06:13.790658Z",
     "start_time": "2025-02-27T13:06:13.765456Z"
    }
   },
   "outputs": [],
   "source": [
    "pop_size = 100\n",
    "n_max_iters = 50\n",
    "\n",
    "num_cloud_machines = 30\n",
    "num_fog_machines = 20\n",
    "num_tasks = 500\n",
    "\n",
    "algorithm = PumaOptimizer(repair=TaskOffloadingRepair(),\n",
    "                      use_soft_repair=True,\n",
    "                      pop_size=pop_size,\n",
    "                      sampling=TaskOffloadingSampling(),\n",
    "                      n_max_iters=n_max_iters,\n",
    "                      archive_size=100,\n",
    "                      save_history=True,\n",
    "                      )\n",
    "\n",
    "problem = TaskOffloadingProblem(num_cloud_machines, num_fog_machines, num_tasks, use_random_machines=True)"
   ]
  },
  {
   "cell_type": "code",
   "execution_count": 40,
   "id": "6629fcf18b95f4d",
   "metadata": {},
   "outputs": [
    {
     "name": "stdout",
     "output_type": "stream",
     "text": [
      "==========================================================================================================\n",
      "n_gen  |  n_eval  |     explor    |    exploit    |   is_explore  | n_nds  |      eps      |   indicator  \n",
      "==========================================================================================================\n",
      "     1 |      100 |             0 |             0 |            no |      9 |             - |             -\n",
      "     2 |      100 |  4.292658E+01 |  8.009593E+01 |            no |     13 |  0.0114906303 |             f\n",
      "     3 |      100 |  1.686758E+02 |  3.326394E+02 |            no |     13 |  0.000000E+00 |             f\n",
      "     4 |      100 |  1.2108869780 |  7.482946E-17 |           yes |     14 |  0.0262352901 |             f\n",
      "     5 |      102 |  6.605275E-18 |  0.3690494666 |            no |     14 |  0.000000E+00 |             f\n",
      "     6 |      102 |  0.3690494666 |  6.659878E+01 |            no |     14 |  0.000000E+00 |             f\n",
      "     7 |      102 |  1.1071483998 |  3.329939E+01 |            no |     13 |  0.0093379266 |         ideal\n",
      "     8 |      102 |  2.2142967997 |  3.044658E+01 |            no |     13 |  0.000000E+00 |             f\n",
      "     9 |      102 |  2.7726959675 |  3.329939E+01 |            no |     10 |  0.4331712179 |         ideal\n",
      "    10 |      102 |  4.1590439513 |  3.329939E+01 |            no |     10 |  0.000000E+00 |             f\n",
      "    11 |      102 |  5.8226615318 |  2.287474E+01 |            no |     10 |  0.0168808988 |             f\n",
      "    12 |      102 |  7.7635487091 |  7.046948E+01 |            no |     10 |  0.000000E+00 |             f\n",
      "    13 |      102 |  9.9817054831 |  2.287474E+01 |            no |     10 |  0.000000E+00 |             f\n",
      "    14 |      102 |  1.247713E+01 |  2.287474E+01 |            no |     10 |  0.000000E+00 |             f\n",
      "    15 |      102 |  1.524983E+01 |  7.046948E+01 |            no |     10 |  0.000000E+00 |             f\n",
      "    16 |      102 |  1.829979E+01 |  2.287474E+01 |            no |     10 |  0.000000E+00 |             f\n",
      "    17 |      102 |  2.162703E+01 |  2.287474E+01 |            no |     10 |  0.000000E+00 |             f\n",
      "    18 |      102 |  2.523153E+01 |  2.287474E+01 |           yes |     10 |  0.000000E+00 |             f\n",
      "    19 |      106 |  1.094669E-17 |  2.292095E+01 |            no |     10 |  0.000000E+00 |             f\n",
      "    20 |      106 |  0.2772695968 |  1.990485E+02 |            no |     11 |  0.1493906904 |         ideal\n",
      "    21 |      106 |  1.319148E+01 |  7.640342E+01 |            no |      8 |  0.0168325043 |             f\n",
      "    22 |      106 |  1.389587E+01 |  1.024824E+02 |            no |      8 |  0.000000E+00 |             f\n",
      "    23 |      106 |  1.487753E+01 |  1.676799E+02 |            no |      6 |  0.0272500828 |             f\n",
      "    24 |      106 |  1.613646E+01 |  1.416009E+02 |            no |      7 |  0.0364774395 |             f\n",
      "    25 |      106 |  1.767265E+01 |  5.032443E+01 |            no |      7 |  0.000000E+00 |             f\n",
      "    26 |      106 |  1.948612E+01 |  7.640342E+01 |            no |      7 |  0.000000E+00 |             f\n",
      "    27 |      106 |  2.157686E+01 |  1.024824E+02 |            no |      7 |  0.000000E+00 |             f\n",
      "    28 |      106 |  2.394487E+01 |  1.937589E+02 |            no |      8 |  0.0102669379 |             f\n",
      "    29 |      106 |  2.659014E+01 |  1.937589E+02 |            no |      8 |  0.000000E+00 |             f\n",
      "    30 |      106 |  2.951269E+01 |  1.676799E+02 |            no |      8 |  0.000000E+00 |             f\n",
      "    31 |      106 |  3.271251E+01 |  1.676799E+02 |            no |      7 |  0.0233105415 |             f\n",
      "    32 |      106 |  3.618959E+01 |  7.640342E+01 |            no |      7 |  0.000000E+00 |             f\n",
      "    33 |      106 |  3.994395E+01 |  1.416009E+02 |            no |      7 |  0.000000E+00 |             f\n",
      "    34 |      106 |  4.397557E+01 |  5.032443E+01 |            no |      7 |  0.000000E+00 |             f\n",
      "    35 |      106 |  4.828446E+01 |  5.032443E+01 |            no |      7 |  0.000000E+00 |             f\n",
      "    36 |      106 |  5.287063E+01 |  7.640342E+01 |            no |      7 |  0.000000E+00 |             f\n",
      "    37 |      106 |  5.773406E+01 |  7.640342E+01 |            no |      7 |  0.000000E+00 |             f\n",
      "    38 |      106 |  6.287477E+01 |  1.416009E+02 |            no |      7 |  0.000000E+00 |             f\n",
      "    39 |      106 |  6.829274E+01 |  7.640342E+01 |            no |      8 |  0.0071921600 |             f\n",
      "    40 |      106 |  7.398798E+01 |  7.640342E+01 |            no |      8 |  0.000000E+00 |             f\n",
      "    41 |      106 |  7.996049E+01 |  1.416009E+02 |            no |      8 |  0.000000E+00 |             f\n",
      "    42 |      106 |  8.621027E+01 |  7.640342E+01 |           yes |      8 |  0.000000E+00 |             f\n",
      "    43 |      109 |  8.451670E+01 |  7.590894E+01 |           yes |      8 |  0.000000E+00 |             f\n",
      "    44 |      110 |  1.517586E+01 |  1.112162E+02 |            no |      8 |  0.000000E+00 |             f\n",
      "    45 |      110 |  1.529984E+01 |  1.126603E+02 |            no |      8 |  0.3132833135 |         ideal\n",
      "    46 |      110 |  1.525967E+02 |  1.410966E+02 |           yes |      8 |  0.000000E+00 |             f\n",
      "    47 |      114 |  1.864384E+02 |  1.399486E+02 |           yes |      8 |  0.000000E+00 |             f\n"
     ]
    }
   ],
   "source": [
    "res = minimize(problem,\n",
    "           algorithm,\n",
    "           seed=1,\n",
    "           verbose=True)"
   ]
  },
  {
   "cell_type": "code",
   "execution_count": 41,
   "id": "9478d40df177eb22",
   "metadata": {
    "ExecuteTime": {
     "end_time": "2025-02-27T13:06:18.028322Z",
     "start_time": "2025-02-27T13:06:17.782873Z"
    }
   },
   "outputs": [
    {
     "data": {
      "image/png": "[encoded data removed]",
      "text/plain": [
       "<Figure size 800x600 with 1 Axes>"
      ]
     },
     "metadata": {},
     "output_type": "display_data"
    }
   ],
   "source": [
    "# print(f\"Best population found:\\n {res.X} \\nwith F:\\n{res.F}\")\n",
    "\n",
    "plot = Scatter(title=\"Puma\")\n",
    "plot.add(res.F)\n",
    "plot.axis_labels = problem.dataset_generator.get_objective_names()\n",
    "_ = plot.show()"
   ]
  },
  {
   "cell_type": "code",
   "execution_count": 42,
   "id": "3a746aa51b434add",
   "metadata": {
    "ExecuteTime": {
     "end_time": "2025-02-27T13:06:18.034748Z",
     "start_time": "2025-02-27T13:06:18.032297Z"
    }
   },
   "outputs": [],
   "source": [
    "# res.archive.get(\"F\")"
   ]
  },
  {
   "cell_type": "code",
   "execution_count": null,
   "id": "b19a4a0993459630",
   "metadata": {
    "ExecuteTime": {
     "end_time": "2025-02-27T13:06:20.491092Z",
     "start_time": "2025-02-27T13:06:18.038294Z"
    }
   },
   "outputs": [],
   "source": [
    "from pyrecorder.recorder import Recorder\n",
    "from pyrecorder.writers.video import Video\n",
    "import os\n",
    "\n",
    "out_path = os.path.join(os.path.dirname(os.getcwd()), \"output\")\n",
    "os.makedirs(out_path, exist_ok=True)\n",
    "with Recorder(Video(os.path.join(out_path, \"video.mp4\"))) as rec:\n",
    "\n",
    "    # for each algorithm object in the history\n",
    "    for entry in res.history:\n",
    "        sc = Scatter(title=(\"Gen %s\" % entry.n_gen))\n",
    "        sc.add(entry.opt.get(\"F\"))\n",
    "        sc.add(entry.problem.pareto_front(), plot_type=\"line\", color=\"black\", alpha=0.7)\n",
    "        sc.do()\n",
    "\n",
    "        # finally record the current visualization to the video\n",
    "        rec.record()"
   ]
  },
  {
   "cell_type": "code",
   "execution_count": null,
   "id": "25f12151650d7904",
   "metadata": {},
   "outputs": [],
   "source": [
    "# plot = Scatter(title=\"Puma\")\n",
    "# plot.add(res.archive.get(\"F\"))\n",
    "# plot.axis_labels = problem.dataset_generator.get_objective_names()\n",
    "# _ = plot.show()"
   ]
  }
 ],
 "metadata": {
  "kernelspec": {
   "display_name": ".venv",
   "language": "python",
   "name": "python3"
  },
  "language_info": {
   "codemirror_mode": {
    "name": "ipython",
    "version": 3
   },
   "file_extension": ".py",
   "mimetype": "text/x-python",
   "name": "python",
   "nbconvert_exporter": "python",
   "pygments_lexer": "ipython3",
   "version": "3.12.0"
  }
 },
 "nbformat": 4,
 "nbformat_minor": 5
}
