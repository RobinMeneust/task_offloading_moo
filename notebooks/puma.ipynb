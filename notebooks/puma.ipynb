{
 "cells": [
  {
   "cell_type": "code",
   "id": "initial_id",
   "metadata": {
    "collapsed": true,
    "ExecuteTime": {
     "end_time": "2025-02-27T13:06:13.762151Z",
     "start_time": "2025-02-27T13:06:13.759061Z"
    }
   },
   "source": [
    "from task_offloading_moo.pymoo.algorithms.puma_optimizer import PumaOptimizer\n",
    "from task_offloading_moo.pymoo.problem import TaskOffloadingProblem\n",
    "from task_offloading_moo.pymoo.operators.repair import TaskOffloadingRepair\n",
    "from task_offloading_moo.pymoo.operators.sampling import TaskOffloadingSampling\n",
    "from pymoo.optimize import minimize\n",
    "from pymoo.visualization.scatter import Scatter"
   ],
   "outputs": [],
   "execution_count": 19
  },
  {
   "metadata": {
    "ExecuteTime": {
     "end_time": "2025-02-27T13:06:13.790658Z",
     "start_time": "2025-02-27T13:06:13.765456Z"
    }
   },
   "cell_type": "code",
   "source": [
    "pop_size = 100\n",
    "n_max_iters = 50\n",
    "\n",
    "num_cloud_machines = 30\n",
    "num_fog_machines = 20\n",
    "num_tasks = 500\n",
    "\n",
    "algorithm = PumaOptimizer(repair=TaskOffloadingRepair(),\n",
    "                      use_soft_repair=True,\n",
    "                      pop_size=pop_size,\n",
    "                      sampling=TaskOffloadingSampling(),\n",
    "                      n_max_iters=n_max_iters,\n",
    "                      archive_size=100,\n",
    "                      save_history=True,\n",
    "                      )\n",
    "\n",
    "problem = TaskOffloadingProblem(num_cloud_machines, num_fog_machines, num_tasks)"
   ],
   "id": "b9e81751e8031db2",
   "outputs": [],
   "execution_count": 20
  },
  {
   "metadata": {
    "ExecuteTime": {
     "end_time": "2025-02-27T13:06:17.779335Z",
     "start_time": "2025-02-27T13:06:13.794664Z"
    }
   },
   "cell_type": "code",
   "source": [
    "res = minimize(problem,\n",
    "           algorithm,\n",
    "           seed=1,\n",
    "           verbose=True)"
   ],
   "id": "6629fcf18b95f4d",
   "outputs": [
    {
     "name": "stdout",
     "output_type": "stream",
     "text": [
      "==========================================================================================================\n",
      "n_gen  |  n_eval  |     explor    |    exploit    |   is_explore  | n_nds  |      eps      |   indicator  \n",
      "==========================================================================================================\n",
      "     1 |      100 |             0 |             0 |            no |      7 |             - |             -\n",
      "     2 |      100 |  1.147809E+03 |  5.885150E+02 |           yes |     88 |  1.044593E+01 |         ideal\n",
      "     3 |      100 |  5.595678E+02 |  1.727033E+02 |           yes |     88 |  0.000000E+00 |             f\n",
      "     4 |      100 |  1.786888E+02 |  1.348354E+02 |           yes |     88 |  0.000000E+00 |             f\n",
      "     5 |      100 |  1.269597E+02 |  1.109989E+02 |           yes |     88 |  0.000000E+00 |             f\n",
      "     6 |      100 |  0.000000E+00 |  9.474351E+01 |            no |     88 |  0.000000E+00 |             f\n",
      "     7 |      100 |  0.2237420282 |  5.376087E+01 |            no |     88 |  0.000000E+00 |             f\n",
      "     8 |      100 |  0.6712260846 |  1.054784E+01 |            no |     88 |  0.000000E+00 |             f\n",
      "     9 |      100 |  1.3424521691 |  1.230581E+01 |            no |     88 |  0.000000E+00 |             f\n",
      "    10 |      100 |  2.2374202819 |  0.000000E+00 |           yes |     88 |  0.000000E+00 |             f\n",
      "    11 |      100 |  0.000000E+00 |  0.2237420282 |            no |     88 |  0.000000E+00 |             f\n",
      "    12 |      100 |  0.2237420282 |  0.000000E+00 |           yes |     88 |  0.000000E+00 |             f\n",
      "    13 |      100 |  0.000000E+00 |  0.2237420282 |            no |     88 |  0.000000E+00 |             f\n",
      "    14 |      100 |  0.2237420282 |  0.000000E+00 |           yes |     88 |  0.000000E+00 |             f\n",
      "    15 |      100 |  0.000000E+00 |  0.2237420282 |            no |     88 |  0.000000E+00 |             f\n",
      "    16 |      100 |  0.2237420282 |  0.000000E+00 |           yes |     88 |  0.000000E+00 |             f\n",
      "    17 |      100 |  0.000000E+00 |  0.2237420282 |            no |     88 |  0.000000E+00 |             f\n",
      "    18 |      100 |  0.2237420282 |  0.000000E+00 |           yes |     88 |  0.000000E+00 |             f\n",
      "    19 |      100 |  0.000000E+00 |  0.2237420282 |            no |     88 |  0.000000E+00 |             f\n",
      "    20 |      100 |  0.2237420282 |  0.000000E+00 |           yes |     88 |  0.000000E+00 |             f\n",
      "    21 |      100 |  0.000000E+00 |  0.2237420282 |            no |     88 |  0.000000E+00 |             f\n",
      "    22 |      100 |  0.2237420282 |  0.000000E+00 |           yes |     88 |  0.000000E+00 |             f\n",
      "    23 |      100 |  0.000000E+00 |  0.2237420282 |            no |     88 |  0.000000E+00 |             f\n",
      "    24 |      100 |  0.2237420282 |  0.000000E+00 |           yes |     88 |  0.000000E+00 |             f\n",
      "    25 |      100 |  0.000000E+00 |  0.2237420282 |            no |     88 |  0.000000E+00 |             f\n",
      "    26 |      100 |  0.2237420282 |  0.000000E+00 |           yes |     88 |  0.000000E+00 |             f\n",
      "    27 |      100 |  0.000000E+00 |  0.2237420282 |            no |     88 |  0.000000E+00 |             f\n",
      "    28 |      100 |  0.2237420282 |  0.000000E+00 |           yes |     88 |  0.000000E+00 |             f\n",
      "    29 |      100 |  0.000000E+00 |  0.2237420282 |            no |     88 |  0.000000E+00 |             f\n",
      "    30 |      100 |  0.2237420282 |  0.000000E+00 |           yes |     88 |  0.000000E+00 |             f\n",
      "    31 |      100 |  0.000000E+00 |  0.2237420282 |            no |     88 |  0.000000E+00 |             f\n",
      "    32 |      100 |  0.2237420282 |  0.000000E+00 |           yes |     88 |  0.000000E+00 |             f\n",
      "    33 |      100 |  0.000000E+00 |  0.2237420282 |            no |     88 |  0.000000E+00 |             f\n",
      "    34 |      100 |  0.2237420282 |  0.000000E+00 |           yes |     88 |  0.000000E+00 |             f\n",
      "    35 |      100 |  0.000000E+00 |  0.2237420282 |            no |     88 |  0.000000E+00 |             f\n",
      "    36 |      100 |  0.2237420282 |  0.000000E+00 |           yes |     88 |  0.000000E+00 |             f\n",
      "    37 |      100 |  0.000000E+00 |  0.2237420282 |            no |     88 |  0.000000E+00 |             f\n",
      "    38 |      100 |  0.2237420282 |  0.000000E+00 |           yes |     88 |  0.000000E+00 |             f\n",
      "    39 |      100 |  0.000000E+00 |  0.2237420282 |            no |     88 |  0.000000E+00 |             f\n",
      "    40 |      100 |  0.2237420282 |  0.000000E+00 |           yes |     88 |  0.000000E+00 |             f\n",
      "    41 |      100 |  0.000000E+00 |  0.2237420282 |            no |     88 |  0.000000E+00 |             f\n",
      "    42 |      100 |  0.2237420282 |  0.000000E+00 |           yes |     88 |  0.000000E+00 |             f\n",
      "    43 |      100 |  0.000000E+00 |  0.2237420282 |            no |     88 |  0.000000E+00 |             f\n",
      "    44 |      100 |  0.2237420282 |  0.000000E+00 |           yes |     88 |  0.000000E+00 |             f\n",
      "    45 |      100 |  0.000000E+00 |  0.2237420282 |            no |     88 |  0.000000E+00 |             f\n",
      "    46 |      100 |  0.2237420282 |  0.000000E+00 |           yes |     88 |  0.000000E+00 |             f\n",
      "    47 |      100 |  0.000000E+00 |  0.2237420282 |            no |     88 |  0.0039767563 |         ideal\n"
     ]
    }
   ],
   "execution_count": 21
  },
  {
   "metadata": {
    "ExecuteTime": {
     "end_time": "2025-02-27T13:06:18.028322Z",
     "start_time": "2025-02-27T13:06:17.782873Z"
    }
   },
   "cell_type": "code",
   "source": [
    "# print(f\"Best population found:\\n {res.X} \\nwith F:\\n{res.F}\")\n",
    "\n",
    "plot = Scatter(title=\"Puma\")\n",
    "plot.add(res.F)\n",
    "plot.axis_labels = problem.dataset_generator.get_objective_names()\n",
    "_ = plot.show()"
   ],
   "id": "9478d40df177eb22",
   "outputs": [
    {
     "data": {
      "text/plain": [
       "<Figure size 800x600 with 1 Axes>"
      ],
      "image/png": "[encoded data removed]"
     },
     "metadata": {},
     "output_type": "display_data"
    }
   ],
   "execution_count": 22
  },
  {
   "metadata": {
    "ExecuteTime": {
     "end_time": "2025-02-27T13:06:18.034748Z",
     "start_time": "2025-02-27T13:06:18.032297Z"
    }
   },
   "cell_type": "code",
   "source": "# res.archive.get(\"F\")",
   "id": "3a746aa51b434add",
   "outputs": [],
   "execution_count": 23
  },
  {
   "metadata": {
    "ExecuteTime": {
     "end_time": "2025-02-27T13:06:20.491092Z",
     "start_time": "2025-02-27T13:06:18.038294Z"
    }
   },
   "cell_type": "code",
   "source": [
    "from pyrecorder.recorder import Recorder\n",
    "from pyrecorder.writers.video import Video\n",
    "import os\n",
    "\n",
    "out_path = os.path.join(os.path.dirname(os.getcwd()), \"output\")\n",
    "os.makedirs(out_path, exist_ok=True)\n",
    "with Recorder(Video(os.path.join(out_path, \"video.mp4\"))) as rec:\n",
    "\n",
    "    # for each algorithm object in the history\n",
    "    for entry in res.history:\n",
    "        sc = Scatter(title=(\"Gen %s\" % entry.n_gen))\n",
    "        sc.add(entry.opt.get(\"F\"))\n",
    "        sc.add(entry.problem.pareto_front(), plot_type=\"line\", color=\"black\", alpha=0.7)\n",
    "        sc.do()\n",
    "\n",
    "        # finally record the current visualization to the video\n",
    "        rec.record()"
   ],
   "id": "b19a4a0993459630",
   "outputs": [],
   "execution_count": 24
  },
  {
   "metadata": {},
   "cell_type": "code",
   "outputs": [],
   "execution_count": null,
   "source": "",
   "id": "25f12151650d7904"
  }
 ],
 "metadata": {
  "kernelspec": {
   "display_name": "Python 3",
   "language": "python",
   "name": "python3"
  },
  "language_info": {
   "codemirror_mode": {
    "name": "ipython",
    "version": 2
   },
   "file_extension": ".py",
   "mimetype": "text/x-python",
   "name": "python",
   "nbconvert_exporter": "python",
   "pygments_lexer": "ipython2",
   "version": "2.7.6"
  }
 },
 "nbformat": 4,
 "nbformat_minor": 5
}
