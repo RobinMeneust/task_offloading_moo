{
 "cells": [
  {
   "cell_type": "code",
   "execution_count": 46,
   "id": "initial_id",
   "metadata": {
    "ExecuteTime": {
     "end_time": "2025-02-27T13:06:13.762151Z",
     "start_time": "2025-02-27T13:06:13.759061Z"
    },
    "collapsed": true
   },
   "outputs": [],
   "source": [
    "from task_offloading_moo.pymoo.algorithms.puma_optimizer import PumaOptimizer\n",
    "from task_offloading_moo.pymoo.problem import TaskOffloadingProblem\n",
    "from task_offloading_moo.pymoo.operators.repair import TaskOffloadingRepair\n",
    "from task_offloading_moo.pymoo.operators.sampling import TaskOffloadingSampling\n",
    "from pymoo.optimize import minimize\n",
    "from pymoo.visualization.scatter import Scatter"
   ]
  },
  {
   "cell_type": "code",
   "execution_count": null,
   "id": "b9e81751e8031db2",
   "metadata": {
    "ExecuteTime": {
     "end_time": "2025-02-27T13:06:13.790658Z",
     "start_time": "2025-02-27T13:06:13.765456Z"
    }
   },
   "outputs": [],
   "source": [
    "pop_size = 100\n",
    "n_max_iters = 50\n",
    "\n",
    "archive_size = int(0.4 * pop_size) + 1\n",
    "num_archive_injections = int(pop_size*0.1)\n",
    "archive_injections_prob = 0.3\n",
    "\n",
    "num_cloud_machines = 30\n",
    "num_fog_machines = 20\n",
    "num_tasks = 500\n",
    "\n",
    "algorithm = PumaOptimizer(repair=TaskOffloadingRepair(),\n",
    "                      use_soft_repair=True,\n",
    "                      pop_size=pop_size,\n",
    "                      sampling=TaskOffloadingSampling(),\n",
    "                      n_max_iters=n_max_iters,\n",
    "                      archive_size=archive_size,\n",
    "                      save_history=True,\n",
    "                      num_archive_injections=num_archive_injections,\n",
    "                      archive_injections_prob=archive_injections_prob\n",
    "                    )\n",
    "\n",
    "problem = TaskOffloadingProblem(num_cloud_machines, num_fog_machines, num_tasks, use_random_machines=True)"
   ]
  },
  {
   "cell_type": "code",
   "execution_count": 48,
   "id": "6629fcf18b95f4d",
   "metadata": {},
   "outputs": [
    {
     "name": "stdout",
     "output_type": "stream",
     "text": [
      "==========================================================================================================\n",
      "n_gen  |  n_eval  |     explor    |    exploit    |   is_explore  | n_nds  |      eps      |   indicator  \n",
      "==========================================================================================================\n",
      "     1 |      100 |             0 |             0 |            no |      9 |             - |             -\n",
      "     2 |      100 |  0.6666666667 |  0.1666666667 |           yes |    104 |  0.1317690110 |         ideal\n",
      "     3 |      103 |  0.000000E+00 |  0.6653333333 |            no |     39 |  0.0211710338 |         ideal\n",
      "     4 |      103 |  0.0120000000 |  2.6400000000 |            no |     48 |  0.000000E+00 |             f\n",
      "     5 |      103 |  0.0360000000 |  0.000000E+00 |           yes |     48 |  0.000000E+00 |             f\n",
      "     6 |      104 |  0.0063132004 |  0.0001147855 |           yes |     28 |  0.0031983689 |             f\n",
      "     7 |      110 |  0.0037879202 |  0.0003443564 |           yes |     28 |  0.0011829214 |             f\n",
      "     8 |      114 |  0.0101011206 |  0.0006887128 |           yes |     22 |  0.0039772807 |             f\n",
      "     9 |      117 |  0.000000E+00 |  0.0011478546 |            no |     21 |  0.0098347726 |         ideal\n",
      "    10 |      117 |  0.0001147855 |  2.922892E-21 |           yes |     21 |  0.000000E+00 |             f\n",
      "    11 |      118 |  0.000000E+00 |  0.0001147855 |            no |     24 |  0.0036804392 |         ideal\n",
      "    12 |      118 |  0.0001147855 |  0.0038493938 |            no |     24 |  0.000000E+00 |             f\n",
      "    13 |      118 |  0.0003443564 |  0.0168410980 |            no |     21 |  0.0796216267 |         ideal\n",
      "    14 |      118 |  0.0006887128 |  0.000000E+00 |           yes |     19 |  0.0039831646 |             f\n",
      "    15 |      127 |  0.000000E+00 |  0.0001147855 |            no |     21 |  0.0017918547 |             f\n",
      "    16 |      127 |  9.219042E-06 |  0.0003802855 |            no |     31 |  0.0021896002 |             f\n",
      "    17 |      127 |  0.0000276571 |  0.0003042284 |            no |     31 |  0.0021896002 |             f\n",
      "    18 |      127 |  0.0000553143 |  0.0010647993 |            no |     31 |  0.0021896002 |             f\n",
      "    19 |      127 |  0.0000921904 |  0.000000E+00 |           yes |     31 |  0.0021896002 |             f\n",
      "    20 |      133 |  0.0006315778 |  9.219042E-06 |           yes |     31 |  0.0025786653 |             f\n",
      "    21 |      137 |  0.0003789467 |  0.0000276571 |           yes |     28 |  0.0013350296 |             f\n",
      "    22 |      144 |  0.0011368401 |  0.0000553143 |           yes |     28 |  0.0016901006 |             f\n",
      "    23 |      145 |  0.000000E+00 |  0.0000921904 |            no |     25 |  0.0027306731 |             f\n",
      "    24 |      145 |  9.219042E-06 |  0.000000E+00 |           yes |     25 |  0.000000E+00 |             f\n",
      "    25 |      148 |  0.000000E+00 |  9.219042E-06 |            no |     21 |  0.0227217584 |         ideal\n",
      "    26 |      148 |  9.219042E-06 |  0.000000E+00 |           yes |     21 |  0.6964444006 |         ideal\n",
      "    27 |      150 |  0.000000E+00 |  9.219042E-06 |            no |     21 |  0.0007485088 |             f\n",
      "    28 |      150 |  9.219042E-06 |  0.000000E+00 |           yes |     32 |  0.0131138974 |             f\n",
      "    29 |      152 |  0.000000E+00 |  9.219042E-06 |            no |     32 |  0.0006045303 |             f\n",
      "    30 |      152 |  9.219042E-06 |  0.000000E+00 |           yes |      6 |  0.1371470556 |             f\n",
      "    31 |      153 |  0.000000E+00 |  9.219042E-06 |            no |     11 |  0.000000E+00 |             f\n",
      "    32 |      153 |  9.219042E-06 |  0.0082678605 |            no |      9 |  0.4757712977 |         ideal\n",
      "    33 |      153 |  0.0000276571 |  0.0136744342 |            no |      9 |  0.000000E+00 |             f\n",
      "    34 |      153 |  0.0000553143 |  0.0302101552 |            no |     15 |  0.0110391683 |             f\n",
      "    35 |      153 |  0.0000921904 |  0.0247105103 |            no |     24 |  0.0126684078 |             f\n",
      "    36 |      153 |  0.0001382856 |  0.000000E+00 |           yes |     36 |  0.0031867547 |             f\n",
      "    37 |      157 |  0.000000E+00 |  9.219042E-06 |            no |     46 |  0.000000E+00 |             f\n",
      "    38 |      157 |  9.219042E-06 |  0.000000E+00 |           yes |     50 |  0.0052439554 |             f\n",
      "    39 |      160 |  0.000000E+00 |  9.219042E-06 |            no |     50 |  0.000000E+00 |             f\n",
      "    40 |      160 |  9.219042E-06 |  0.000000E+00 |           yes |     52 |  0.0017128127 |             f\n",
      "    41 |      162 |  0.000000E+00 |  9.219042E-06 |            no |     52 |  0.0017128127 |             f\n",
      "    42 |      162 |  9.219042E-06 |  0.000000E+00 |           yes |     61 |  0.0346134626 |         ideal\n",
      "    43 |      169 |  0.000000E+00 |  9.219042E-06 |            no |     61 |  0.000000E+00 |             f\n",
      "    44 |      169 |  9.219042E-06 |  0.000000E+00 |           yes |     58 |  0.0000299534 |             f\n",
      "    45 |      173 |  0.000000E+00 |  9.219042E-06 |            no |     55 |  0.0000320307 |             f\n",
      "    46 |      173 |  9.219042E-06 |  0.000000E+00 |           yes |     59 |  0.0014990410 |             f\n",
      "    47 |      178 |  0.000000E+00 |  9.219042E-06 |            no |     59 |  0.0014990410 |             f\n",
      "    48 |      178 |  9.219042E-06 |  0.000000E+00 |           yes |     63 |  0.0484469567 |         ideal\n",
      "    49 |      181 |  0.0003017127 |  7.314248E-06 |           yes |     73 |  0.000000E+00 |             f\n",
      "    50 |      185 |  0.0002413702 |  0.0000219427 |           yes |     73 |  0.000000E+00 |             f\n",
      "    51 |      191 |  0.0014620557 |  0.0000438855 |           yes |     83 |  0.000000E+00 |             f\n",
      "    52 |      195 |  0.0006172600 |  0.0000731425 |           yes |     83 |  0.000000E+00 |             f\n",
      "    53 |      197 |  0.0023521114 |  0.0000871369 |           yes |     93 |  0.000000E+00 |             f\n",
      "    54 |      202 |  0.0001917012 |  0.0001219917 |           yes |     94 |  7.271727E-08 |             f\n",
      "    55 |      209 |  0.0006709544 |  0.0001626556 |           yes |    104 |  6.572523E-08 |             f\n",
      "    56 |      210 |  0.000000E+00 |  0.0002091286 |            no |    104 |  6.572523E-08 |             f\n",
      "    57 |      210 |  5.809129E-06 |  0.000000E+00 |           yes |    106 |  0.0000767634 |             f\n",
      "    58 |      211 |  0.000000E+00 |  5.809129E-06 |            no |    106 |  0.0000767634 |             f\n",
      "    59 |      211 |  5.809129E-06 |  0.000000E+00 |           yes |    106 |  0.0004351276 |             f\n",
      "    60 |      215 |  0.000000E+00 |  5.809129E-06 |            no |    106 |  0.0004351276 |             f\n",
      "    61 |      215 |  5.809129E-06 |  0.000000E+00 |           yes |    111 |  0.0015274375 |             f\n",
      "    62 |      222 |  0.000000E+00 |  5.809129E-06 |            no |    111 |  0.0015274375 |             f\n",
      "    63 |      222 |  5.809129E-06 |  0.000000E+00 |           yes |    115 |  0.0020926152 |             f\n",
      "    64 |      228 |  0.000000E+00 |  5.809129E-06 |            no |    115 |  0.0020926152 |             f\n",
      "    65 |      228 |  5.809129E-06 |  0.000000E+00 |           yes |    132 |  0.0029935174 |             f\n",
      "    66 |      230 |  0.000000E+00 |  5.809129E-06 |            no |    132 |  0.000000E+00 |             f\n",
      "    67 |      230 |  5.809129E-06 |  0.000000E+00 |           yes |    135 |  0.0002318809 |             f\n",
      "    68 |      232 |  0.000000E+00 |  5.809129E-06 |            no |    135 |  0.0002318809 |             f\n",
      "    69 |      232 |  5.809129E-06 |  0.000000E+00 |           yes |    146 |  0.0003147195 |             f\n",
      "    70 |      239 |  0.000000E+00 |  5.809129E-06 |            no |    146 |  0.0003147195 |             f\n",
      "    71 |      239 |  5.809129E-06 |  0.000000E+00 |           yes |    158 |  0.0004365813 |             f\n",
      "    72 |      242 |  0.000000E+00 |  5.809129E-06 |            no |    158 |  0.0004365813 |             f\n",
      "    73 |      242 |  5.809129E-06 |  0.000000E+00 |           yes |    158 |  0.0004365813 |             f\n",
      "    74 |      244 |  0.000000E+00 |  5.809129E-06 |            no |    158 |  0.0004365813 |             f\n",
      "    75 |      244 |  5.809129E-06 |  0.000000E+00 |           yes |    171 |  0.0920172383 |         ideal\n",
      "    76 |      248 |  0.000000E+00 |  5.809129E-06 |            no |    177 |  1.483361E-07 |             f\n",
      "    77 |      248 |  5.809129E-06 |  0.000000E+00 |           yes |    179 |  0.0000803063 |             f\n",
      "    78 |      251 |  0.000000E+00 |  5.809129E-06 |            no |    179 |  0.0000803063 |             f\n",
      "    79 |      251 |  5.809129E-06 |  0.000000E+00 |           yes |    180 |  0.0006964237 |             f\n",
      "    80 |      253 |  0.000000E+00 |  5.809129E-06 |            no |    178 |  0.0007043572 |             f\n",
      "    81 |      253 |  5.809129E-06 |  0.000000E+00 |           yes |    190 |  0.0009941095 |             f\n",
      "    82 |      259 |  0.000000E+00 |  5.809129E-06 |            no |    185 |  0.0010210273 |             f\n",
      "    83 |      259 |  5.809129E-06 |  0.000000E+00 |           yes |    186 |  0.0010360462 |             f\n",
      "    84 |      264 |  0.000000E+00 |  5.809129E-06 |            no |    196 |  0.0009832853 |             f\n",
      "    85 |      264 |  5.809129E-06 |  0.000000E+00 |           yes |    206 |  0.0012077588 |             f\n",
      "    86 |      266 |  0.000000E+00 |  5.809129E-06 |            no |    216 |  0.0011849869 |             f\n",
      "    87 |      266 |  5.809129E-06 |  0.000000E+00 |           yes |    218 |  0.0012292265 |             f\n",
      "    88 |      269 |  0.000000E+00 |  5.809129E-06 |            no |    218 |  0.0012292265 |             f\n",
      "    89 |      269 |  5.809129E-06 |  0.000000E+00 |           yes |    220 |  0.0015083500 |             f\n",
      "    90 |      274 |  0.000000E+00 |  5.809129E-06 |            no |    222 |  0.0015575066 |             f\n",
      "    91 |      274 |  5.809129E-06 |  0.000000E+00 |           yes |    224 |  0.0016424659 |             f\n",
      "    92 |      275 |  0.000000E+00 |  5.809129E-06 |            no |    224 |  0.0016424659 |             f\n",
      "    93 |      275 |  5.809129E-06 |  0.000000E+00 |           yes |    235 |  0.0019386122 |             f\n",
      "    94 |      278 |  0.000000E+00 |  5.809129E-06 |            no |    234 |  0.0019139522 |             f\n",
      "    95 |      278 |  5.809129E-06 |  0.000000E+00 |           yes |    246 |  0.0020224750 |             f\n",
      "    96 |      279 |  0.0005924852 |  5.809129E-06 |           yes |    246 |  0.0020224750 |             f\n",
      "    97 |      284 |  0.0004739882 |  0.0000174274 |           yes |    256 |  0.0022602931 |             f\n"
     ]
    }
   ],
   "source": [
    "res = minimize(problem,\n",
    "           algorithm,\n",
    "           seed=1,\n",
    "           verbose=True)"
   ]
  },
  {
   "cell_type": "code",
   "execution_count": 49,
   "id": "9478d40df177eb22",
   "metadata": {
    "ExecuteTime": {
     "end_time": "2025-02-27T13:06:18.028322Z",
     "start_time": "2025-02-27T13:06:17.782873Z"
    }
   },
   "outputs": [
    {
     "data": {
      "image/png": "[encoded data removed]",
      "text/plain": [
       "<Figure size 800x600 with 1 Axes>"
      ]
     },
     "metadata": {},
     "output_type": "display_data"
    }
   ],
   "source": [
    "# print(f\"Best population found:\\n {res.X} \\nwith F:\\n{res.F}\")\n",
    "\n",
    "plot = Scatter(title=\"Puma\")\n",
    "plot.add(res.F)\n",
    "plot.axis_labels = problem.dataset_generator.get_objective_names()\n",
    "_ = plot.show()"
   ]
  },
  {
   "cell_type": "code",
   "execution_count": 50,
   "id": "3a746aa51b434add",
   "metadata": {
    "ExecuteTime": {
     "end_time": "2025-02-27T13:06:18.034748Z",
     "start_time": "2025-02-27T13:06:18.032297Z"
    }
   },
   "outputs": [],
   "source": [
    "# import numpy as np\n",
    "\n",
    "# test = []\n",
    "# for X in res.opt.get(\"X\"):\n",
    "#     test.append(problem.evaluate(X, return_values=True))\n",
    "    \n",
    "# plot = Scatter(title=\"Puma\")\n",
    "# plot.add(np.array(test))\n",
    "# plot.axis_labels = problem.dataset_generator.get_objective_names()\n",
    "# _ = plot.show()"
   ]
  },
  {
   "cell_type": "code",
   "execution_count": 51,
   "id": "ddace02f",
   "metadata": {},
   "outputs": [],
   "source": [
    "for i in range(len(res.history)):\n",
    "    s_opt = res.history[i].opt.get('F').shape\n",
    "    s_pop = res.history[i].pop.get('F').shape\n",
    "    \n",
    "    if s_opt[1] != s_pop[1]:\n",
    "        print(f\"Rewriting {i}: {s_opt} -> {s_pop}\")"
   ]
  },
  {
   "cell_type": "code",
   "execution_count": 52,
   "id": "b19a4a0993459630",
   "metadata": {
    "ExecuteTime": {
     "end_time": "2025-02-27T13:06:20.491092Z",
     "start_time": "2025-02-27T13:06:18.038294Z"
    }
   },
   "outputs": [],
   "source": [
    "import os\n",
    "from task_offloading_moo.utils.utils import save_generations_video_pymoo\n",
    "\n",
    "out_path = os.path.join(os.path.dirname(os.getcwd()), \"output\")\n",
    "save_generations_video_pymoo(res.history, out_path, \"puma_video\")\n"
   ]
  },
  {
   "cell_type": "code",
   "execution_count": 53,
   "id": "25f12151650d7904",
   "metadata": {},
   "outputs": [],
   "source": [
    "# plot = Scatter(title=\"Puma\")\n",
    "# plot.add(res.archive.get(\"F\"))\n",
    "# plot.axis_labels = problem.dataset_generator.get_objective_names()\n",
    "# _ = plot.show()"
   ]
  }
 ],
 "metadata": {
  "kernelspec": {
   "display_name": ".venv",
   "language": "python",
   "name": "python3"
  },
  "language_info": {
   "codemirror_mode": {
    "name": "ipython",
    "version": 3
   },
   "file_extension": ".py",
   "mimetype": "text/x-python",
   "name": "python",
   "nbconvert_exporter": "python",
   "pygments_lexer": "ipython3",
   "version": "3.12.0"
  }
 },
 "nbformat": 4,
 "nbformat_minor": 5
}
