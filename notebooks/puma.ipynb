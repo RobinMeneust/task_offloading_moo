{
 "cells": [
  {
   "cell_type": "code",
   "execution_count": 31,
   "id": "initial_id",
   "metadata": {
    "ExecuteTime": {
     "end_time": "2025-02-27T13:06:13.762151Z",
     "start_time": "2025-02-27T13:06:13.759061Z"
    },
    "collapsed": true
   },
   "outputs": [],
   "source": [
    "from task_offloading_moo.pymoo.algorithms.puma_optimizer import PumaOptimizer\n",
    "from task_offloading_moo.pymoo.problem import TaskOffloadingProblem\n",
    "from task_offloading_moo.pymoo.operators.repair import TaskOffloadingRepair\n",
    "from task_offloading_moo.pymoo.operators.sampling import TaskOffloadingSampling\n",
    "from pymoo.optimize import minimize\n",
    "from pymoo.visualization.scatter import Scatter"
   ]
  },
  {
   "cell_type": "code",
   "execution_count": 32,
   "id": "b9e81751e8031db2",
   "metadata": {
    "ExecuteTime": {
     "end_time": "2025-02-27T13:06:13.790658Z",
     "start_time": "2025-02-27T13:06:13.765456Z"
    }
   },
   "outputs": [],
   "source": [
    "pop_size = 100\n",
    "n_max_iters = 50\n",
    "\n",
    "num_cloud_machines = 30\n",
    "num_fog_machines = 20\n",
    "num_tasks = 500\n",
    "\n",
    "algorithm = PumaOptimizer(repair=TaskOffloadingRepair(),\n",
    "                      use_soft_repair=True,\n",
    "                      pop_size=pop_size,\n",
    "                      sampling=TaskOffloadingSampling(),\n",
    "                      n_max_iters=n_max_iters,\n",
    "                      archive_size=100,\n",
    "                      save_history=True,\n",
    "                      )\n",
    "\n",
    "problem = TaskOffloadingProblem(num_cloud_machines, num_fog_machines, num_tasks, use_random_machines=True)"
   ]
  },
  {
   "cell_type": "code",
   "execution_count": 33,
   "id": "6629fcf18b95f4d",
   "metadata": {},
   "outputs": [
    {
     "name": "stdout",
     "output_type": "stream",
     "text": [
      "==========================================================================================================\n",
      "n_gen  |  n_eval  |     explor    |    exploit    |   is_explore  | n_nds  |      eps      |   indicator  \n",
      "==========================================================================================================\n",
      "     1 |      100 |             0 |             0 |            no |      9 |             - |             -\n",
      "     2 |      101 |  9.822075E+02 |  9.822075E+02 |            no |     59 |  0.0066808680 |             f\n",
      "     3 |      101 |  3.227788E+02 |  2.103402E+02 |           yes |     59 |  0.000000E+00 |             f\n",
      "     4 |      105 |  1.935963E+02 |  1.249164E+02 |           yes |     27 |  0.0161346425 |         ideal\n",
      "     5 |      105 |  6.421766E+01 |  9.066094E+01 |            no |     27 |  0.0005714188 |             f\n",
      "     6 |      105 |  5.085520E+01 |  9.867136E+01 |            no |     28 |  0.3281829829 |         ideal\n",
      "     7 |      105 |  4.194689E+01 |  3.769389E+01 |           yes |     20 |  0.0171288310 |             f\n",
      "     8 |      107 |  9.666995E+01 |  3.109428E+01 |           yes |     20 |  0.000000E+00 |             f\n",
      "     9 |      110 |  1.179903E+01 |  2.638028E+01 |            no |     14 |  0.0021061213 |             f\n",
      "    10 |      110 |  9.7332106747 |  1.219550E+01 |            no |     14 |  0.0021061213 |             f\n",
      "    11 |      110 |  8.2576218844 |  0.000000E+00 |           yes |     12 |  0.1012738802 |         ideal\n",
      "    12 |      110 |  1.179903E+01 |  0.000000E+00 |           yes |     13 |  0.0015430338 |             f\n",
      "    13 |      112 |  2.660182E+01 |  0.000000E+00 |           yes |     13 |  0.0031621956 |             f\n",
      "    14 |      114 |  7.3893943511 |  0.000000E+00 |           yes |     13 |  0.0002722452 |             f\n",
      "    15 |      119 |  7.3893943511 |  0.000000E+00 |           yes |      7 |  0.0069497705 |         ideal\n",
      "    16 |      121 |  0.000000E+00 |  0.000000E+00 |            no |      7 |  0.000000E+00 |             f\n",
      "    17 |      121 |  0.000000E+00 |  2.342774E+01 |            no |      7 |  0.000000E+00 |             f\n",
      "    18 |      121 |  0.000000E+00 |  2.7710228817 |            no |      7 |  0.000000E+00 |             f\n",
      "    19 |      121 |  0.000000E+00 |  7.3893943511 |            no |      7 |  0.000000E+00 |             f\n",
      "    20 |      121 |  0.000000E+00 |  0.000000E+00 |            no |      7 |  0.000000E+00 |             f\n",
      "    21 |      121 |  0.000000E+00 |  0.000000E+00 |            no |      8 |  0.1046856624 |         ideal\n",
      "    22 |      121 |  0.000000E+00 |  0.000000E+00 |            no |      8 |  0.000000E+00 |             f\n",
      "    23 |      121 |  0.000000E+00 |  0.000000E+00 |            no |      8 |  0.000000E+00 |             f\n",
      "    24 |      121 |  0.000000E+00 |  0.000000E+00 |            no |      8 |  0.000000E+00 |             f\n",
      "    25 |      121 |  0.000000E+00 |  0.000000E+00 |            no |      8 |  0.000000E+00 |             f\n",
      "    26 |      121 |  0.000000E+00 |  0.000000E+00 |            no |      8 |  0.000000E+00 |             f\n",
      "    27 |      121 |  0.000000E+00 |  0.000000E+00 |            no |      8 |  0.000000E+00 |             f\n",
      "    28 |      121 |  0.000000E+00 |  0.000000E+00 |            no |      8 |  0.0134639373 |             f\n",
      "    29 |      121 |  0.000000E+00 |  0.000000E+00 |            no |      8 |  0.000000E+00 |             f\n",
      "    30 |      121 |  0.000000E+00 |  0.000000E+00 |            no |      8 |  0.000000E+00 |             f\n",
      "    31 |      121 |  0.000000E+00 |  0.000000E+00 |            no |      8 |  0.000000E+00 |             f\n",
      "    32 |      121 |  0.000000E+00 |  0.000000E+00 |            no |      8 |  0.000000E+00 |             f\n",
      "    33 |      121 |  0.000000E+00 |  0.000000E+00 |            no |      9 |  0.0250566873 |             f\n",
      "    34 |      121 |  0.000000E+00 |  0.000000E+00 |            no |      9 |  0.0188608958 |             f\n",
      "    35 |      121 |  0.000000E+00 |  0.000000E+00 |            no |      9 |  0.000000E+00 |             f\n",
      "    36 |      121 |  0.000000E+00 |  0.000000E+00 |            no |      9 |  0.000000E+00 |             f\n",
      "    37 |      121 |  0.000000E+00 |  0.000000E+00 |            no |      9 |  0.000000E+00 |             f\n",
      "    38 |      121 |  0.000000E+00 |  0.000000E+00 |            no |      9 |  0.000000E+00 |             f\n",
      "    39 |      121 |  0.000000E+00 |  0.000000E+00 |            no |      9 |  0.000000E+00 |             f\n",
      "    40 |      121 |  0.000000E+00 |  0.000000E+00 |            no |      9 |  0.000000E+00 |             f\n",
      "    41 |      121 |  0.000000E+00 |  0.000000E+00 |            no |      9 |  0.000000E+00 |             f\n",
      "    42 |      121 |  0.000000E+00 |  0.000000E+00 |            no |      9 |  0.000000E+00 |             f\n",
      "    43 |      121 |  0.000000E+00 |  0.000000E+00 |            no |      9 |  0.000000E+00 |             f\n",
      "    44 |      121 |  0.000000E+00 |  0.000000E+00 |            no |      9 |  0.000000E+00 |             f\n",
      "    45 |      121 |  0.000000E+00 |  0.000000E+00 |            no |      9 |  0.000000E+00 |             f\n",
      "    46 |      121 |  0.000000E+00 |  0.000000E+00 |            no |      9 |  0.000000E+00 |             f\n",
      "    47 |      121 |  0.000000E+00 |  0.000000E+00 |            no |      9 |  0.000000E+00 |             f\n"
     ]
    }
   ],
   "source": [
    "res = minimize(problem,\n",
    "           algorithm,\n",
    "           seed=1,\n",
    "           verbose=True)"
   ]
  },
  {
   "cell_type": "code",
   "execution_count": 34,
   "id": "9478d40df177eb22",
   "metadata": {
    "ExecuteTime": {
     "end_time": "2025-02-27T13:06:18.028322Z",
     "start_time": "2025-02-27T13:06:17.782873Z"
    }
   },
   "outputs": [
    {
     "data": {
      "image/png": "[encoded data removed]",
      "text/plain": [
       "<Figure size 800x600 with 1 Axes>"
      ]
     },
     "metadata": {},
     "output_type": "display_data"
    }
   ],
   "source": [
    "# print(f\"Best population found:\\n {res.X} \\nwith F:\\n{res.F}\")\n",
    "\n",
    "plot = Scatter(title=\"Puma\")\n",
    "plot.add(res.F)\n",
    "plot.axis_labels = problem.dataset_generator.get_objective_names()\n",
    "_ = plot.show()"
   ]
  },
  {
   "cell_type": "code",
   "execution_count": 35,
   "id": "3a746aa51b434add",
   "metadata": {
    "ExecuteTime": {
     "end_time": "2025-02-27T13:06:18.034748Z",
     "start_time": "2025-02-27T13:06:18.032297Z"
    }
   },
   "outputs": [],
   "source": [
    "# res.archive.get(\"F\")"
   ]
  },
  {
   "cell_type": "code",
   "execution_count": 37,
   "id": "b19a4a0993459630",
   "metadata": {
    "ExecuteTime": {
     "end_time": "2025-02-27T13:06:20.491092Z",
     "start_time": "2025-02-27T13:06:18.038294Z"
    }
   },
   "outputs": [],
   "source": [
    "from pyrecorder.recorder import Recorder\n",
    "from pyrecorder.writers.video import Video\n",
    "import os\n",
    "\n",
    "out_path = os.path.join(os.path.dirname(os.getcwd()), \"output\")\n",
    "os.makedirs(out_path, exist_ok=True)\n",
    "with Recorder(Video(os.path.join(out_path, \"video.mp4\"))) as rec:\n",
    "\n",
    "    # for each algorithm object in the history\n",
    "    for entry in res.history:\n",
    "        sc = Scatter(title=(\"Gen %s\" % entry.n_gen))\n",
    "        sc.add(entry.opt.get(\"F\"))\n",
    "        sc.add(entry.problem.pareto_front(), plot_type=\"line\", color=\"black\", alpha=0.7)\n",
    "        sc.do()\n",
    "\n",
    "        # finally record the current visualization to the video\n",
    "        rec.record()"
   ]
  },
  {
   "cell_type": "code",
   "execution_count": null,
   "id": "25f12151650d7904",
   "metadata": {},
   "outputs": [
    {
     "data": {
      "image/png": "[encoded data removed]",
      "text/plain": [
       "<Figure size 800x600 with 1 Axes>"
      ]
     },
     "metadata": {},
     "output_type": "display_data"
    }
   ],
   "source": [
    "# plot = Scatter(title=\"Puma\")\n",
    "# plot.add(res.archive.get(\"F\"))\n",
    "# plot.axis_labels = problem.dataset_generator.get_objective_names()\n",
    "# _ = plot.show()"
   ]
  }
 ],
 "metadata": {
  "kernelspec": {
   "display_name": ".venv",
   "language": "python",
   "name": "python3"
  },
  "language_info": {
   "codemirror_mode": {
    "name": "ipython",
    "version": 3
   },
   "file_extension": ".py",
   "mimetype": "text/x-python",
   "name": "python",
   "nbconvert_exporter": "python",
   "pygments_lexer": "ipython3",
   "version": "3.12.0"
  }
 },
 "nbformat": 4,
 "nbformat_minor": 5
}
