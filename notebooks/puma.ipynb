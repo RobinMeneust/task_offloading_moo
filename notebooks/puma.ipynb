{
 "cells": [
  {
   "cell_type": "code",
   "execution_count": 64,
   "id": "initial_id",
   "metadata": {
    "ExecuteTime": {
     "end_time": "2025-02-27T13:06:13.762151Z",
     "start_time": "2025-02-27T13:06:13.759061Z"
    },
    "collapsed": true
   },
   "outputs": [],
   "source": [
    "from task_offloading_moo.pymoo.algorithms.puma_optimizer import PumaOptimizer\n",
    "from task_offloading_moo.pymoo.problem import TaskOffloadingProblem\n",
    "from task_offloading_moo.pymoo.operators.repair import TaskOffloadingRepair\n",
    "from task_offloading_moo.pymoo.operators.sampling import TaskOffloadingSampling\n",
    "from pymoo.optimize import minimize\n",
    "from pymoo.visualization.scatter import Scatter"
   ]
  },
  {
   "cell_type": "code",
   "execution_count": 65,
   "id": "b9e81751e8031db2",
   "metadata": {
    "ExecuteTime": {
     "end_time": "2025-02-27T13:06:13.790658Z",
     "start_time": "2025-02-27T13:06:13.765456Z"
    }
   },
   "outputs": [],
   "source": [
    "pop_size = 100\n",
    "n_max_iters = 50\n",
    "\n",
    "archive_size = 100\n",
    "num_archive_injections = 0\n",
    "archive_injections_prob = 0\n",
    "\n",
    "num_cloud_machines = 30\n",
    "num_fog_machines = 20\n",
    "num_tasks = 500\n",
    "\n",
    "# scores functions weights\n",
    "pf1=0.5 # default is 0.5\n",
    "pf2=0.5 # default is 0.5\n",
    "pf3=0.3 # default is 0.3\n",
    "\n",
    "u=0.2 # probability to update an individual (i.e. change its decision variables) (default is 0.2)\n",
    "l=0.9 # probability to choose long jump towards the best puma rather than short towards other pumas (default is 0.9)\n",
    "alpha=2 # scaling factor for the running strategy (the smaller it is, the farther the jumps are) (default is 2)\n",
    "\n",
    "algorithm = PumaOptimizer(\n",
    "    repair=TaskOffloadingRepair(),\n",
    "    pf1=pf1,\n",
    "    pf2=pf2,\n",
    "    pf3=pf3,\n",
    "    u=u,\n",
    "    l=l,\n",
    "    alpha=alpha,\n",
    "    use_soft_repair=True,\n",
    "    pop_size=pop_size,\n",
    "    sampling=TaskOffloadingSampling(),\n",
    "    n_max_iters=n_max_iters,\n",
    "    archive_size=archive_size,\n",
    "    save_history=True,\n",
    "    num_archive_injections=num_archive_injections,\n",
    "    archive_injections_prob=archive_injections_prob\n",
    ")\n",
    "\n",
    "problem = TaskOffloadingProblem(num_cloud_machines, num_fog_machines, num_tasks, use_random_machines=True)"
   ]
  },
  {
   "cell_type": "code",
   "execution_count": null,
   "id": "6629fcf18b95f4d",
   "metadata": {},
   "outputs": [
    {
     "name": "stdout",
     "output_type": "stream",
     "text": [
      "==========================================================================================================\n",
      "n_gen  |  n_eval  |     explor    |    exploit    |   is_explore  | n_nds  |      eps      |   indicator  \n",
      "==========================================================================================================\n",
      "     1 |      100 |             0 |             0 |            no |      9 |             - |             -\n",
      "     2 |      100 |  0.6666666667 |  0.1666666667 |           yes |    100 |  0.1317690110 |         ideal\n",
      "     3 |      106 |  0.000000E+00 |  0.6653333333 |            no |      9 |  0.0191026782 |         ideal\n",
      "     4 |      106 |  0.0120000000 |  2.6400000000 |            no |      9 |  0.000000E+00 |             f\n",
      "     5 |      106 |  0.0003308118 |  1.973631E-21 |           yes |      9 |  0.000000E+00 |             f\n",
      "     6 |      111 |  0.000000E+00 |  0.0001102706 |            no |      8 |  0.0029534840 |             f\n",
      "     7 |      111 |  0.0001102706 |  1.973631E-21 |           yes |      8 |  0.000000E+00 |             f\n",
      "     8 |      113 |  0.000000E+00 |  0.0001102706 |            no |      8 |  0.000000E+00 |             f\n",
      "     9 |      113 |  0.0001102706 |  0.0227433114 |            no |      8 |  0.000000E+00 |             f\n",
      "    10 |      113 |  0.0003308118 |  0.000000E+00 |           yes |      8 |  0.000000E+00 |             f\n",
      "    11 |      114 |  0.000000E+00 |  0.0001102706 |            no |      8 |  0.000000E+00 |             f\n",
      "    12 |      114 |  0.0001102706 |  0.000000E+00 |           yes |      8 |  0.000000E+00 |             f\n",
      "    13 |      116 |  0.000000E+00 |  0.0001102706 |            no |     10 |  0.0020504887 |             f\n",
      "    14 |      116 |  0.0001102706 |  0.000000E+00 |           yes |     10 |  0.0020504887 |             f\n",
      "    15 |      122 |  0.000000E+00 |  0.0001102706 |            no |     12 |  0.0131362939 |         ideal\n",
      "    16 |      122 |  0.0001102706 |  0.000000E+00 |           yes |     12 |  0.000000E+00 |             f\n",
      "    17 |      129 |  0.000000E+00 |  0.0001102706 |            no |     14 |  0.0017181948 |             f\n",
      "    18 |      129 |  0.0000247183 |  0.0010196311 |            no |     14 |  0.0017181948 |             f\n",
      "    19 |      129 |  0.0000741550 |  0.0066618587 |            no |     14 |  0.0017181948 |             f\n",
      "    20 |      129 |  0.0001483100 |  0.0127111468 |            no |     14 |  0.0017181948 |             f\n",
      "    21 |      129 |  0.0001757643 |  0.0250515867 |            no |     14 |  0.0017181948 |             f\n",
      "    22 |      129 |  0.0002636465 |  0.0146151132 |            no |     14 |  0.0017181948 |             f\n",
      "    23 |      129 |  0.0003691050 |  0.0081406082 |            no |     14 |  0.0017181948 |             f\n"
     ]
    }
   ],
   "source": [
    "res = minimize(problem,\n",
    "           algorithm,\n",
    "           seed=1,\n",
    "           verbose=True)"
   ]
  },
  {
   "cell_type": "code",
   "execution_count": null,
   "id": "9478d40df177eb22",
   "metadata": {
    "ExecuteTime": {
     "end_time": "2025-02-27T13:06:18.028322Z",
     "start_time": "2025-02-27T13:06:17.782873Z"
    }
   },
   "outputs": [
    {
     "data": {
      "image/png": "[encoded data removed]",
      "text/plain": [
       "<Figure size 800x600 with 1 Axes>"
      ]
     },
     "metadata": {},
     "output_type": "display_data"
    }
   ],
   "source": [
    "# print(f\"Best population found:\\n {res.X} \\nwith F:\\n{res.F}\")\n",
    "\n",
    "plot = Scatter(title=\"Puma\")\n",
    "plot.add(res.F)\n",
    "plot.axis_labels = problem.dataset_generator.get_objective_names()\n",
    "_ = plot.show()"
   ]
  },
  {
   "cell_type": "code",
   "execution_count": null,
   "id": "ddace02f",
   "metadata": {},
   "outputs": [],
   "source": [
    "for i in range(len(res.history)):\n",
    "    s_opt = res.history[i].opt.get('F').shape\n",
    "    s_pop = res.history[i].pop.get('F').shape\n",
    "    \n",
    "    if s_opt[1] != s_pop[1]:\n",
    "        print(f\"Rewriting {i}: {s_opt} -> {s_pop}\")"
   ]
  },
  {
   "cell_type": "code",
   "execution_count": null,
   "id": "b19a4a0993459630",
   "metadata": {
    "ExecuteTime": {
     "end_time": "2025-02-27T13:06:20.491092Z",
     "start_time": "2025-02-27T13:06:18.038294Z"
    }
   },
   "outputs": [],
   "source": [
    "import os\n",
    "from task_offloading_moo.utils.utils import save_generations_video_pymoo\n",
    "\n",
    "out_path = os.path.join(os.path.dirname(os.getcwd()), \"output\")\n",
    "save_generations_video_pymoo(res.history, out_path, \"puma_video\")\n"
   ]
  }
 ],
 "metadata": {
  "kernelspec": {
   "display_name": ".venv",
   "language": "python",
   "name": "python3"
  },
  "language_info": {
   "codemirror_mode": {
    "name": "ipython",
    "version": 3
   },
   "file_extension": ".py",
   "mimetype": "text/x-python",
   "name": "python",
   "nbconvert_exporter": "python",
   "pygments_lexer": "ipython3",
   "version": "3.12.0"
  }
 },
 "nbformat": 4,
 "nbformat_minor": 5
}
