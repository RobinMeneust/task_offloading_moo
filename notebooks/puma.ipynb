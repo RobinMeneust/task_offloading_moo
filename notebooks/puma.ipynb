{
 "cells": [
  {
   "cell_type": "code",
   "id": "initial_id",
   "metadata": {
    "collapsed": true,
    "ExecuteTime": {
     "end_time": "2025-02-25T20:56:39.920330Z",
     "start_time": "2025-02-25T20:56:39.358926Z"
    }
   },
   "source": [
    "from task_offloading_moo.pymoo.algorithms.puma_optimizer import PumaOptimizer\n",
    "from task_offloading_moo.pymoo.problem import TaskOffloadingProblem\n",
    "from task_offloading_moo.pymoo.operators.repair import TaskOffloadingRepair\n",
    "from task_offloading_moo.pymoo.operators.sampling import TaskOffloadingSampling\n",
    "from pymoo.optimize import minimize\n",
    "from pymoo.visualization.scatter import Scatter"
   ],
   "outputs": [],
   "execution_count": 1
  },
  {
   "metadata": {
    "ExecuteTime": {
     "end_time": "2025-02-25T20:56:39.952512Z",
     "start_time": "2025-02-25T20:56:39.922337Z"
    }
   },
   "cell_type": "code",
   "source": [
    "pop_size = 100\n",
    "n_max_iters = 50\n",
    "\n",
    "num_cloud_machines = 30\n",
    "num_fog_machines = 20\n",
    "num_tasks = 500\n",
    "\n",
    "algorithm = PumaOptimizer(repair=TaskOffloadingRepair(),\n",
    "                      pop_size=pop_size,\n",
    "                      sampling=TaskOffloadingSampling(),\n",
    "                      n_max_iters=n_max_iters,\n",
    "                      )\n",
    "\n",
    "problem = TaskOffloadingProblem(num_cloud_machines, num_fog_machines, num_tasks)"
   ],
   "id": "b9e81751e8031db2",
   "outputs": [],
   "execution_count": 2
  },
  {
   "metadata": {
    "ExecuteTime": {
     "end_time": "2025-02-25T20:56:43.051175Z",
     "start_time": "2025-02-25T20:56:40.096843Z"
    }
   },
   "cell_type": "code",
   "source": [
    "res = minimize(problem,\n",
    "           algorithm,\n",
    "           seed=1,\n",
    "           verbose=True)"
   ],
   "id": "6629fcf18b95f4d",
   "outputs": [
    {
     "name": "stdout",
     "output_type": "stream",
     "text": [
      "==========================================================\n",
      "n_gen  |  n_eval  | n_nds  |      eps      |   indicator  \n",
      "==========================================================\n",
      "     1 |      100 |      5 |             - |             -\n"
     ]
    },
    {
     "name": "stderr",
     "output_type": "stream",
     "text": [
      "C:\\CYTechNVME\\MOO\\task_offloading_moo\\.venv\\Lib\\site-packages\\pymoo\\operators\\survival\\rank_and_crowding\\metrics.py:113: RuntimeWarning: invalid value encountered in divide\n",
      "  cd = np.sum(dist_to_last[J, np.arange(n_obj)] + dist_to_next[J, np.arange(n_obj)], axis=1) / n_obj\n"
     ]
    },
    {
     "name": "stdout",
     "output_type": "stream",
     "text": [
      "     2 |      161 |      5 |  0.000000E+00 |             f\n",
      "     3 |      175 |      5 |  0.000000E+00 |             f\n",
      "     4 |      179 |      5 |  0.000000E+00 |             f\n",
      "     5 |      193 |      5 |  0.000000E+00 |             f\n",
      "     6 |      204 |      5 |  0.000000E+00 |             f\n",
      "     7 |      216 |      5 |  0.000000E+00 |             f\n",
      "     8 |      227 |      5 |  0.000000E+00 |             f\n",
      "     9 |      238 |      5 |  0.000000E+00 |             f\n",
      "    10 |      249 |      5 |  0.000000E+00 |             f\n",
      "    11 |      262 |      5 |  0.000000E+00 |             f\n",
      "    12 |      274 |      5 |  0.000000E+00 |             f\n",
      "    13 |      281 |      5 |  0.000000E+00 |             f\n",
      "    14 |      295 |      5 |  0.000000E+00 |             f\n",
      "    15 |      302 |      5 |  0.000000E+00 |             f\n",
      "    16 |      317 |      5 |  0.000000E+00 |             f\n",
      "    17 |      328 |      5 |  0.000000E+00 |             f\n",
      "    18 |      341 |      5 |  0.000000E+00 |             f\n",
      "    19 |      352 |      5 |  0.000000E+00 |             f\n",
      "    20 |      363 |      5 |  0.000000E+00 |             f\n",
      "    21 |      380 |      5 |  0.000000E+00 |             f\n",
      "    22 |      394 |      5 |  0.000000E+00 |             f\n",
      "    23 |      406 |      5 |  0.000000E+00 |             f\n",
      "    24 |      420 |      5 |  0.000000E+00 |             f\n",
      "    25 |      435 |      5 |  0.000000E+00 |             f\n",
      "    26 |      447 |      5 |  0.000000E+00 |             f\n",
      "    27 |      459 |      5 |  0.000000E+00 |             f\n",
      "    28 |      470 |      5 |  0.000000E+00 |             f\n",
      "    29 |      484 |      5 |  0.000000E+00 |             f\n",
      "    30 |      498 |      5 |  0.000000E+00 |             f\n",
      "    31 |      510 |      5 |  0.000000E+00 |             f\n",
      "    32 |      524 |      5 |  0.000000E+00 |             f\n",
      "    33 |      534 |      5 |  0.000000E+00 |             f\n",
      "    34 |      544 |      5 |  0.000000E+00 |             f\n",
      "    35 |      554 |      5 |  0.000000E+00 |             f\n",
      "    36 |      569 |      5 |  0.000000E+00 |             f\n",
      "    37 |      582 |      5 |  0.000000E+00 |             f\n",
      "    38 |      593 |      5 |  0.000000E+00 |             f\n",
      "    39 |      602 |      5 |  0.000000E+00 |             f\n",
      "    40 |      614 |      5 |  0.000000E+00 |             f\n",
      "    41 |      626 |      5 |  0.000000E+00 |             f\n",
      "    42 |      639 |      5 |  0.000000E+00 |             f\n",
      "    43 |      649 |      5 |  0.000000E+00 |             f\n",
      "    44 |      661 |      5 |  0.000000E+00 |             f\n",
      "    45 |      675 |      5 |  0.000000E+00 |             f\n",
      "    46 |      689 |      5 |  0.000000E+00 |             f\n",
      "    47 |      697 |      5 |  0.000000E+00 |             f\n"
     ]
    }
   ],
   "execution_count": 3
  },
  {
   "metadata": {
    "ExecuteTime": {
     "end_time": "2025-02-25T20:56:43.201580Z",
     "start_time": "2025-02-25T20:56:43.055247Z"
    }
   },
   "cell_type": "code",
   "source": [
    "# print(f\"Best population found:\\n {res.X} \\nwith F:\\n{res.F}\")\n",
    "\n",
    "plot = Scatter(title=\"Puma\")\n",
    "plot.add(res.F)\n",
    "plot.axis_labels = problem.dataset_generator.get_objective_names()\n",
    "_ = plot.show()"
   ],
   "id": "9478d40df177eb22",
   "outputs": [
    {
     "data": {
      "text/plain": [
       "<Figure size 800x600 with 1 Axes>"
      ],
      "image/png": "[encoded data removed]"
     },
     "metadata": {},
     "output_type": "display_data"
    }
   ],
   "execution_count": 4
  }
 ],
 "metadata": {
  "kernelspec": {
   "display_name": "Python 3",
   "language": "python",
   "name": "python3"
  },
  "language_info": {
   "codemirror_mode": {
    "name": "ipython",
    "version": 2
   },
   "file_extension": ".py",
   "mimetype": "text/x-python",
   "name": "python",
   "nbconvert_exporter": "python",
   "pygments_lexer": "ipython2",
   "version": "2.7.6"
  }
 },
 "nbformat": 4,
 "nbformat_minor": 5
}
