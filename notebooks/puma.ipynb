{
 "cells": [
  {
   "cell_type": "code",
   "id": "initial_id",
   "metadata": {
    "collapsed": true,
    "ExecuteTime": {
     "end_time": "2025-02-27T10:37:43.750203Z",
     "start_time": "2025-02-27T10:37:43.300814Z"
    }
   },
   "source": [
    "from task_offloading_moo.pymoo.algorithms.puma_optimizer import PumaOptimizer\n",
    "from task_offloading_moo.pymoo.problem import TaskOffloadingProblem\n",
    "from task_offloading_moo.pymoo.operators.repair import TaskOffloadingRepair\n",
    "from task_offloading_moo.pymoo.operators.sampling import TaskOffloadingSampling\n",
    "from pymoo.optimize import minimize\n",
    "from pymoo.visualization.scatter import Scatter"
   ],
   "outputs": [],
   "execution_count": 1
  },
  {
   "metadata": {
    "ExecuteTime": {
     "end_time": "2025-02-27T10:37:43.780558Z",
     "start_time": "2025-02-27T10:37:43.753207Z"
    }
   },
   "cell_type": "code",
   "source": [
    "pop_size = 100\n",
    "n_max_iters = 50\n",
    "\n",
    "num_cloud_machines = 30\n",
    "num_fog_machines = 20\n",
    "num_tasks = 500\n",
    "\n",
    "algorithm = PumaOptimizer(repair=TaskOffloadingRepair(),\n",
    "                      pop_size=pop_size,\n",
    "                      sampling=TaskOffloadingSampling(),\n",
    "                      n_max_iters=n_max_iters,\n",
    "                      archive_size=100,\n",
    "                      save_history=True,\n",
    "                      )\n",
    "\n",
    "problem = TaskOffloadingProblem(num_cloud_machines, num_fog_machines, num_tasks)"
   ],
   "id": "b9e81751e8031db2",
   "outputs": [],
   "execution_count": 2
  },
  {
   "metadata": {
    "ExecuteTime": {
     "end_time": "2025-02-27T10:37:47.441454Z",
     "start_time": "2025-02-27T10:37:43.894491Z"
    }
   },
   "cell_type": "code",
   "source": [
    "res = minimize(problem,\n",
    "           algorithm,\n",
    "           seed=1,\n",
    "           verbose=True)"
   ],
   "id": "6629fcf18b95f4d",
   "outputs": [
    {
     "name": "stdout",
     "output_type": "stream",
     "text": [
      "==========================================================\n",
      "n_gen  |  n_eval  | n_nds  |      eps      |   indicator  \n",
      "==========================================================\n",
      "     1 |      100 |      7 |             - |             -\n",
      "     2 |      200 |    100 |  2.187710E+01 |         ideal\n",
      "     3 |      200 |    100 |  0.000000E+00 |             f\n",
      "     4 |      200 |    100 |  0.000000E+00 |             f\n",
      "     5 |      200 |    100 |  0.000000E+00 |             f\n",
      "     6 |      200 |    100 |  0.000000E+00 |             f\n",
      "     7 |      200 |    100 |  0.000000E+00 |             f\n",
      "     8 |      200 |    100 |  0.000000E+00 |             f\n",
      "     9 |      200 |    100 |  0.000000E+00 |             f\n",
      "    10 |      200 |    100 |  0.000000E+00 |             f\n",
      "    11 |      200 |    100 |  0.000000E+00 |             f\n",
      "    12 |      200 |    100 |  0.000000E+00 |             f\n",
      "    13 |      200 |    100 |  0.000000E+00 |             f\n",
      "    14 |      200 |    100 |  0.000000E+00 |             f\n",
      "    15 |      200 |    100 |  0.000000E+00 |             f\n",
      "    16 |      200 |    100 |  0.000000E+00 |             f\n",
      "    17 |      200 |    100 |  0.000000E+00 |             f\n",
      "    18 |      200 |    100 |  0.000000E+00 |             f\n",
      "    19 |      200 |    100 |  0.000000E+00 |             f\n",
      "    20 |      200 |    100 |  0.000000E+00 |             f\n",
      "    21 |      200 |    100 |  0.000000E+00 |             f\n",
      "    22 |      200 |    100 |  0.000000E+00 |             f\n",
      "    23 |      200 |    100 |  0.000000E+00 |             f\n",
      "    24 |      200 |    100 |  0.000000E+00 |             f\n",
      "    25 |      200 |    100 |  0.000000E+00 |             f\n",
      "    26 |      200 |    100 |  0.000000E+00 |             f\n",
      "    27 |      200 |    100 |  0.000000E+00 |             f\n",
      "    28 |      200 |    100 |  0.000000E+00 |             f\n",
      "    29 |      200 |    100 |  0.000000E+00 |             f\n",
      "    30 |      200 |    100 |  0.000000E+00 |             f\n",
      "    31 |      200 |    100 |  0.000000E+00 |             f\n",
      "    32 |      200 |    100 |  0.000000E+00 |             f\n",
      "    33 |      200 |    100 |  0.000000E+00 |             f\n",
      "    34 |      200 |    100 |  0.000000E+00 |             f\n",
      "    35 |      200 |    100 |  0.000000E+00 |             f\n",
      "    36 |      200 |    100 |  0.000000E+00 |             f\n",
      "    37 |      200 |    100 |  0.000000E+00 |             f\n",
      "    38 |      200 |    100 |  0.000000E+00 |             f\n",
      "    39 |      200 |    100 |  0.000000E+00 |             f\n",
      "    40 |      200 |    100 |  0.000000E+00 |             f\n",
      "    41 |      200 |    100 |  0.000000E+00 |             f\n",
      "    42 |      200 |    100 |  0.000000E+00 |             f\n",
      "    43 |      200 |    100 |  0.000000E+00 |             f\n",
      "    44 |      200 |    100 |  0.000000E+00 |             f\n",
      "    45 |      200 |    100 |  0.000000E+00 |             f\n",
      "    46 |      200 |    100 |  0.000000E+00 |             f\n",
      "    47 |      200 |    100 |  0.000000E+00 |             f\n"
     ]
    }
   ],
   "execution_count": 3
  },
  {
   "metadata": {
    "ExecuteTime": {
     "end_time": "2025-02-27T10:37:47.579346Z",
     "start_time": "2025-02-27T10:37:47.445458Z"
    }
   },
   "cell_type": "code",
   "source": [
    "# print(f\"Best population found:\\n {res.X} \\nwith F:\\n{res.F}\")\n",
    "\n",
    "plot = Scatter(title=\"Puma\")\n",
    "plot.add(res.F)\n",
    "plot.axis_labels = problem.dataset_generator.get_objective_names()\n",
    "_ = plot.show()"
   ],
   "id": "9478d40df177eb22",
   "outputs": [
    {
     "data": {
      "text/plain": [
       "<Figure size 800x600 with 1 Axes>"
      ],
      "image/png": "[encoded data removed]"
     },
     "metadata": {},
     "output_type": "display_data"
    }
   ],
   "execution_count": 4
  },
  {
   "metadata": {
    "ExecuteTime": {
     "end_time": "2025-02-27T10:37:47.588571Z",
     "start_time": "2025-02-27T10:37:47.584434Z"
    }
   },
   "cell_type": "code",
   "source": "# res.archive.get(\"F\")",
   "id": "3a746aa51b434add",
   "outputs": [
    {
     "data": {
      "text/plain": [
       "array([[488.462094  ,  65.36081011],\n",
       "       [501.81444501,  52.79676791],\n",
       "       [490.31766208,  63.5800634 ],\n",
       "       [489.40012168,  64.47621546],\n",
       "       [489.43585224,  64.35676558],\n",
       "       [501.09580758,  53.46141345],\n",
       "       [500.96363223,  53.61106109],\n",
       "       [500.37268346,  54.14149524],\n",
       "       [491.85334803,  62.15710048],\n",
       "       [492.21340168,  61.77592348],\n",
       "       [493.26528615,  60.77265381],\n",
       "       [493.82480837,  60.37390738],\n",
       "       [492.87644004,  61.2254011 ],\n",
       "       [494.43249162,  59.72113975],\n",
       "       [499.40992974,  55.09573364],\n",
       "       [497.94866616,  56.49353894],\n",
       "       [497.62993303,  56.60503791],\n",
       "       [499.72541974,  54.75562958],\n",
       "       [493.49941011,  60.53998757],\n",
       "       [495.62951503,  58.61442855],\n",
       "       [493.99913194,  60.14842335],\n",
       "       [500.34412326,  54.20757772],\n",
       "       [491.17665   ,  62.72453148],\n",
       "       [494.13945171,  59.97135345],\n",
       "       [500.06967406,  54.453678  ],\n",
       "       [495.78794459,  58.44411841],\n",
       "       [490.58091037,  63.3253816 ],\n",
       "       [495.91716029,  58.32674475],\n",
       "       [499.86950442,  54.65332413],\n",
       "       [490.82854008,  63.10769546],\n",
       "       [496.47152667,  57.80029125],\n",
       "       [498.48460908,  55.9563073 ],\n",
       "       [498.90401394,  55.5045432 ],\n",
       "       [491.37144368,  62.5084514 ],\n",
       "       [497.41892489,  56.94411975],\n",
       "       [496.31131827,  57.92189192],\n",
       "       [498.26290253,  56.13027931],\n",
       "       [497.22209496,  57.07417465],\n",
       "       [492.62734643,  61.516627  ],\n",
       "       [490.65167408,  63.26843717],\n",
       "       [494.90055997,  59.22279005],\n",
       "       [497.52093195,  56.78242621],\n",
       "       [492.72057311,  61.33687429],\n",
       "       [499.30031473,  55.19865235],\n",
       "       [498.7542128 ,  55.6959328 ],\n",
       "       [496.09271601,  58.1933961 ],\n",
       "       [500.04099348,  54.48371322],\n",
       "       [491.56399091,  62.38561489],\n",
       "       [495.49321938,  58.76612978],\n",
       "       [498.11918396,  56.2904458 ],\n",
       "       [495.12889993,  58.95186139],\n",
       "       [498.06349947,  56.31434857],\n",
       "       [492.29395136,  61.65641389],\n",
       "       [490.9791853 ,  62.89677808],\n",
       "       [491.6614776 ,  62.24886211],\n",
       "       [491.14028248,  62.85634592],\n",
       "       [490.90352656,  62.99323024],\n",
       "       [495.30133671,  58.90130599],\n",
       "       [494.65346328,  59.48254167],\n",
       "       [499.12593127,  55.28582869],\n",
       "       [496.55689401,  57.68373181],\n",
       "       [494.78963667,  59.39930626],\n",
       "       [495.11048234,  59.09221786],\n",
       "       [496.22275621,  58.0184173 ],\n",
       "       [491.39903395,  62.47518778],\n",
       "       [498.62744003,  55.82563734],\n",
       "       [492.39874125,  61.58897521],\n",
       "       [497.01138432,  57.25468194],\n",
       "       [496.95934479,  57.38908511],\n",
       "       [492.52198288,  61.56767534],\n",
       "       [494.54355317,  59.63953994],\n",
       "       [493.47414242,  60.65037818],\n",
       "       [499.00506145,  55.47284258],\n",
       "       [494.58129326,  59.58275962],\n",
       "       [497.46919115,  56.8517301 ],\n",
       "       [498.36344543,  56.04224656],\n",
       "       [493.40038977,  60.71879056],\n",
       "       [499.77126242,  54.75097744],\n",
       "       [494.09273153,  60.02682747],\n",
       "       [491.64830111,  62.32324919],\n",
       "       [492.80264111,  61.28562707],\n",
       "       [499.0761242 ,  55.40161606],\n",
       "       [496.72827739,  57.56674177],\n",
       "       [494.76579778,  59.42497238],\n",
       "       [495.37125729,  58.83752817],\n",
       "       [496.18829888,  58.11972568],\n",
       "       [499.37330514,  55.12498592],\n",
       "       [497.17841978,  57.13622878],\n",
       "       [496.81861832,  57.52289722],\n",
       "       [494.98339758,  59.14048606],\n",
       "       [496.64874764,  57.63651702],\n",
       "       [496.87564537,  57.41962979],\n",
       "       [495.39526949,  58.77923258],\n",
       "       [498.35379313,  56.08615396],\n",
       "       [493.3362819 ,  60.76183149],\n",
       "       [497.09561992,  57.22107311],\n",
       "       [496.16050653,  58.16765082],\n",
       "       [497.13556122,  57.19788091],\n",
       "       [499.1062396 ,  55.34722315],\n",
       "       [494.981682  ,  59.16830259]])"
      ]
     },
     "execution_count": 5,
     "metadata": {},
     "output_type": "execute_result"
    }
   ],
   "execution_count": 5
  },
  {
   "metadata": {
    "ExecuteTime": {
     "end_time": "2025-02-27T10:37:47.679230Z",
     "start_time": "2025-02-27T10:37:47.615919Z"
    }
   },
   "cell_type": "code",
   "source": [
    "plot = Scatter(title=\"Puma\")\n",
    "plot.add(res.archive.get(\"F\"))\n",
    "plot.axis_labels = problem.dataset_generator.get_objective_names()\n",
    "_ = plot.show()"
   ],
   "id": "96944a6edfea56d5",
   "outputs": [
    {
     "data": {
      "text/plain": [
       "<Figure size 800x600 with 1 Axes>"
      ],
      "image/png": "[encoded data removed]"
     },
     "metadata": {},
     "output_type": "display_data"
    }
   ],
   "execution_count": 6
  },
  {
   "metadata": {
    "ExecuteTime": {
     "end_time": "2025-02-27T10:37:57.633585Z",
     "start_time": "2025-02-27T10:37:55.133845Z"
    }
   },
   "cell_type": "code",
   "source": [
    "from pyrecorder.recorder import Recorder\n",
    "from pyrecorder.writers.video import Video\n",
    "import os\n",
    "\n",
    "out_path = os.path.join(os.path.dirname(os.getcwd()), \"output\")\n",
    "os.makedirs(out_path, exist_ok=True)\n",
    "with Recorder(Video(os.path.join(out_path, \"video.mp4\"))) as rec:\n",
    "\n",
    "    # for each algorithm object in the history\n",
    "    for entry in res.history:\n",
    "        sc = Scatter(title=(\"Gen %s\" % entry.n_gen))\n",
    "        sc.add(entry.opt.get(\"F\"))\n",
    "        sc.add(entry.problem.pareto_front(), plot_type=\"line\", color=\"black\", alpha=0.7)\n",
    "        sc.do()\n",
    "\n",
    "        # finally record the current visualization to the video\n",
    "        rec.record()"
   ],
   "id": "b19a4a0993459630",
   "outputs": [],
   "execution_count": 8
  },
  {
   "metadata": {},
   "cell_type": "code",
   "outputs": [],
   "execution_count": null,
   "source": "",
   "id": "d5c35e1ae59ced77"
  }
 ],
 "metadata": {
  "kernelspec": {
   "display_name": "Python 3",
   "language": "python",
   "name": "python3"
  },
  "language_info": {
   "codemirror_mode": {
    "name": "ipython",
    "version": 2
   },
   "file_extension": ".py",
   "mimetype": "text/x-python",
   "name": "python",
   "nbconvert_exporter": "python",
   "pygments_lexer": "ipython2",
   "version": "2.7.6"
  }
 },
 "nbformat": 4,
 "nbformat_minor": 5
}
