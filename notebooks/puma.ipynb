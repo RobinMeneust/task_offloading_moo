{
 "cells": [
  {
   "cell_type": "code",
   "execution_count": 8,
   "id": "initial_id",
   "metadata": {
    "ExecuteTime": {
     "end_time": "2025-02-27T13:06:13.762151Z",
     "start_time": "2025-02-27T13:06:13.759061Z"
    },
    "collapsed": true
   },
   "outputs": [],
   "source": [
    "from task_offloading_moo.pymoo.algorithms.puma_optimizer import PumaOptimizer\n",
    "from task_offloading_moo.pymoo.problem import TaskOffloadingProblem\n",
    "from task_offloading_moo.pymoo.operators.repair import TaskOffloadingRepair\n",
    "from task_offloading_moo.pymoo.operators.sampling import TaskOffloadingSampling\n",
    "from pymoo.optimize import minimize\n",
    "from pymoo.visualization.scatter import Scatter"
   ]
  },
  {
   "cell_type": "code",
   "execution_count": null,
   "id": "b9e81751e8031db2",
   "metadata": {
    "ExecuteTime": {
     "end_time": "2025-02-27T13:06:13.790658Z",
     "start_time": "2025-02-27T13:06:13.765456Z"
    }
   },
   "outputs": [],
   "source": [
    "pop_size = 100\n",
    "n_max_iters = 50\n",
    "\n",
    "archive_size = 100\n",
    "num_archive_injections = 0\n",
    "archive_injections_prob = 0\n",
    "\n",
    "num_cloud_machines = 30\n",
    "num_fog_machines = 20\n",
    "num_tasks = 500\n",
    "\n",
    "# scores functions weights\n",
    "pf1=0.5 # default is 0.5\n",
    "pf2=0.5 # default is 0.5\n",
    "pf3=0.3 # default is 0.3\n",
    "\n",
    "u=0.2 # probability to update an individual (i.e. change its decision variables) (default is 0.2)\n",
    "l=0.9 # probability to choose long jump towards the best puma rather than short towards other pumas (default is 0.9)\n",
    "alpha=2 # scaling factor for the running strategy (the smaller it is, the farther the jumps are) (default is 2)\n",
    "\n",
    "algorithm = PumaOptimizer(\n",
    "    repair=TaskOffloadingRepair(),\n",
    "    pf1=pf1,\n",
    "    pf2=pf2,\n",
    "    pf3=pf3,\n",
    "    u=u,\n",
    "    l=l,\n",
    "    alpha=alpha,\n",
    "    use_soft_repair=True,\n",
    "    pop_size=pop_size,\n",
    "    sampling=TaskOffloadingSampling(),\n",
    "    n_max_iters=n_max_iters,\n",
    "    archive_size=archive_size,\n",
    "    save_history=True,\n",
    "    num_archive_injections=num_archive_injections,\n",
    "    archive_injections_prob=archive_injections_prob\n",
    ")\n",
    "\n",
    "problem = TaskOffloadingProblem(num_cloud_machines, num_fog_machines, num_tasks, use_random_machines=True)"
   ]
  },
  {
   "cell_type": "code",
   "execution_count": 10,
   "id": "6629fcf18b95f4d",
   "metadata": {},
   "outputs": [
    {
     "name": "stdout",
     "output_type": "stream",
     "text": [
      "==========================================================================================================\n",
      "n_gen  |  n_eval  |     explor    |    exploit    |   is_explore  | n_nds  |      eps      |   indicator  \n",
      "==========================================================================================================\n",
      "     1 |      100 |             0 |             0 |            no |      9 |             - |             -\n",
      "     2 |      100 |  0.6666666667 |  0.1666666667 |           yes |    100 |  0.1317690110 |         ideal\n",
      "     3 |      106 |  0.000000E+00 |  0.6653333333 |            no |      9 |  0.0191026782 |         ideal\n",
      "     4 |      106 |  0.0120000000 |  2.6400000000 |            no |      9 |  0.000000E+00 |             f\n",
      "     5 |      106 |  0.0003308118 |  1.973631E-21 |           yes |      9 |  0.000000E+00 |             f\n",
      "     6 |      111 |  0.000000E+00 |  0.0001102706 |            no |      8 |  0.0029534840 |             f\n",
      "     7 |      111 |  0.0001102706 |  1.973631E-21 |           yes |      8 |  0.000000E+00 |             f\n",
      "     8 |      113 |  0.000000E+00 |  0.0001102706 |            no |      8 |  0.000000E+00 |             f\n",
      "     9 |      113 |  0.0001102706 |  0.0227433114 |            no |      8 |  0.000000E+00 |             f\n",
      "    10 |      113 |  0.0003308118 |  0.000000E+00 |           yes |      8 |  0.000000E+00 |             f\n",
      "    11 |      114 |  0.000000E+00 |  0.0001102706 |            no |      8 |  0.000000E+00 |             f\n",
      "    12 |      114 |  0.0001102706 |  0.000000E+00 |           yes |      8 |  0.000000E+00 |             f\n",
      "    13 |      116 |  0.000000E+00 |  0.0001102706 |            no |     10 |  0.0020504887 |             f\n",
      "    14 |      116 |  0.0001102706 |  0.000000E+00 |           yes |     10 |  0.0020504887 |             f\n",
      "    15 |      122 |  0.000000E+00 |  0.0001102706 |            no |     12 |  0.0131362939 |         ideal\n",
      "    16 |      122 |  0.0001102706 |  0.000000E+00 |           yes |     12 |  0.000000E+00 |             f\n",
      "    17 |      129 |  0.000000E+00 |  0.0001102706 |            no |     14 |  0.0017181948 |             f\n",
      "    18 |      129 |  0.0000247183 |  0.0010196311 |            no |     14 |  0.0017181948 |             f\n",
      "    19 |      129 |  0.0000741550 |  0.0066618587 |            no |     14 |  0.0017181948 |             f\n",
      "    20 |      129 |  0.0001483100 |  0.0127111468 |            no |     14 |  0.0017181948 |             f\n",
      "    21 |      129 |  0.0001757643 |  0.0250515867 |            no |     14 |  0.0017181948 |             f\n",
      "    22 |      129 |  0.0002636465 |  0.0146151132 |            no |     14 |  0.0017181948 |             f\n",
      "    23 |      129 |  0.0003691050 |  0.0081406082 |            no |     14 |  0.0017181948 |             f\n",
      "    24 |      129 |  0.0004921400 |  0.0077676045 |            no |     14 |  0.0017181948 |             f\n",
      "    25 |      129 |  0.0006327515 |  0.0236239529 |            no |     14 |  0.0017181948 |             f\n",
      "    26 |      129 |  0.0007909394 |  0.0124903119 |            no |     14 |  0.0017181948 |             f\n",
      "    27 |      129 |  0.0009667037 |  0.0089563130 |            no |     14 |  0.0017181948 |             f\n",
      "    28 |      129 |  0.0011600444 |  0.0262125876 |            no |     14 |  0.0017181948 |             f\n",
      "    29 |      129 |  0.0013709615 |  0.0068649930 |            no |     14 |  0.0017181948 |             f\n",
      "    30 |      129 |  0.0015994551 |  0.0199786562 |            no |     14 |  0.0017181948 |             f\n",
      "    31 |      129 |  0.0018455252 |  0.0116983127 |            no |     14 |  0.0017181948 |             f\n",
      "    32 |      129 |  0.0021091716 |  0.0282142996 |            no |     14 |  0.0017181948 |             f\n",
      "    33 |      129 |  0.0023903945 |  0.0223787125 |            no |     14 |  0.0017181948 |             f\n",
      "    34 |      129 |  0.0026891938 |  0.0080368554 |            no |     14 |  0.0017181948 |             f\n",
      "    35 |      129 |  0.0030055695 |  0.0042671739 |            no |     14 |  0.0017181948 |             f\n",
      "    36 |      129 |  0.0033395217 |  0.0069657850 |            no |     14 |  0.0017181948 |             f\n",
      "    37 |      129 |  0.0036910503 |  0.0032020850 |           yes |     14 |  0.0017181948 |             f\n",
      "    38 |      130 |  0.0007250277 |  0.0031873171 |            no |     15 |  0.0016912875 |             f\n",
      "    39 |      130 |  0.0001371938 |  0.0122412115 |            no |     15 |  0.0016912875 |             f\n",
      "    40 |      130 |  0.0001292075 |  0.0083902532 |            no |     15 |  0.0016912875 |             f\n",
      "    41 |      130 |  0.0001335968 |  0.0283085558 |            no |     15 |  0.0016912875 |             f\n",
      "    42 |      130 |  0.0001398739 |  0.0127719204 |            no |     15 |  0.0016912875 |             f\n",
      "    43 |      130 |  0.0001480386 |  0.0299033367 |            no |     15 |  0.0016912875 |             f\n",
      "    44 |      130 |  0.0001580909 |  0.0236263894 |            no |     15 |  0.0016912875 |             f\n",
      "    45 |      130 |  0.0001700310 |  0.0058620523 |            no |     15 |  0.0016912875 |             f\n",
      "    46 |      130 |  0.0001838587 |  0.0006482968 |            no |     15 |  0.0016912875 |             f\n",
      "    47 |      130 |  0.0001995741 |  0.0008040296 |            no |     15 |  0.0016912875 |             f\n",
      "    48 |      130 |  0.0002171771 |  0.0020510128 |            no |     15 |  0.0016912875 |             f\n",
      "    49 |      130 |  0.0002366678 |  0.000000E+00 |           yes |     15 |  0.0016912875 |             f\n",
      "    50 |      133 |  0.0014181712 |  1.887670E-06 |           yes |     15 |  0.0022925204 |             f\n",
      "    51 |      135 |  0.0014482709 |  5.663011E-06 |           yes |     14 |  0.0018531419 |             f\n",
      "    52 |      138 |  0.0035977831 |  0.0000113260 |           yes |     12 |  0.0029956458 |             f\n",
      "    53 |      142 |  0.0009477684 |  0.0000188767 |           yes |     13 |  0.0023303102 |             f\n",
      "    54 |      144 |  0.0002854049 |  0.0000283151 |           yes |     12 |  0.0035549442 |             f\n",
      "    55 |      148 |  0.0002854049 |  0.0000396411 |           yes |     15 |  0.0026801242 |             f\n",
      "    56 |      152 |  0.0010940522 |  0.0000528548 |           yes |     15 |  0.0039801208 |         ideal\n",
      "    57 |      155 |  0.000000E+00 |  0.0000679561 |            no |     16 |  0.0002693593 |             f\n",
      "    58 |      155 |  1.887670E-06 |  0.000000E+00 |           yes |     16 |  0.0002693593 |             f\n",
      "    59 |      158 |  0.000000E+00 |  1.887670E-06 |            no |     13 |  0.0026264670 |         ideal\n",
      "    60 |      158 |  1.887670E-06 |  0.000000E+00 |           yes |     13 |  0.000000E+00 |             f\n",
      "    61 |      159 |  0.000000E+00 |  1.887670E-06 |            no |     13 |  0.000000E+00 |             f\n",
      "    62 |      159 |  1.887670E-06 |  0.000000E+00 |           yes |     13 |  0.000000E+00 |             f\n",
      "    63 |      161 |  0.000000E+00 |  1.887670E-06 |            no |     14 |  0.0003353835 |             f\n",
      "    64 |      161 |  1.887670E-06 |  0.000000E+00 |           yes |     14 |  0.0003353835 |             f\n",
      "    65 |      163 |  0.000000E+00 |  1.887670E-06 |            no |     14 |  0.0012116648 |             f\n",
      "    66 |      163 |  1.887670E-06 |  0.000000E+00 |           yes |     14 |  0.0012116648 |             f\n",
      "    67 |      166 |  0.000000E+00 |  1.887670E-06 |            no |     11 |  0.0025326094 |             f\n",
      "    68 |      166 |  1.887670E-06 |  0.000000E+00 |           yes |     11 |  0.000000E+00 |             f\n",
      "    69 |      168 |  0.0014986421 |  1.887670E-06 |           yes |     10 |  0.0009642894 |             f\n",
      "    70 |      168 |  0.0025986937 |  5.663011E-06 |           yes |     11 |  0.0026390817 |             f\n",
      "    71 |      175 |  0.0064713856 |  0.0000113260 |           yes |     13 |  0.0046718934 |             f\n",
      "    72 |      177 |  0.0080126237 |  0.0000188767 |           yes |     13 |  0.0010876231 |             f\n",
      "    73 |      178 |  0.0063781867 |  0.0000283151 |           yes |     13 |  0.0010876231 |             f\n",
      "    74 |      181 |  0.0135008823 |  0.0000396411 |           yes |     13 |  0.0019996470 |             f\n",
      "    75 |      182 |  0.0087491118 |  0.0000528548 |           yes |     13 |  0.0021502227 |             f\n",
      "    76 |      184 |  0.0230492699 |  0.0000679561 |           yes |     14 |  0.0034323044 |             f\n",
      "    77 |      187 |  0.0089980208 |  0.0000849452 |           yes |     14 |  0.000000E+00 |             f\n",
      "    78 |      187 |  0.0294115341 |  0.0001038219 |           yes |     14 |  0.000000E+00 |             f\n",
      "    79 |      190 |  0.0092413416 |  0.0001245862 |           yes |     16 |  0.0006887067 |             f\n",
      "    80 |      195 |  0.0188655374 |  0.0001472383 |           yes |     14 |  0.0020713377 |             f\n",
      "    81 |      199 |  0.0063294182 |  0.0001717780 |           yes |     13 |  0.0033418002 |             f\n",
      "    82 |      202 |  0.0063539615 |  0.0001982054 |           yes |     13 |  0.000000E+00 |             f\n",
      "    83 |      204 |  0.0197324353 |  0.0002265204 |           yes |     13 |  0.0002228043 |             f\n",
      "    84 |      204 |  0.0096415404 |  0.0002567232 |           yes |     13 |  0.0002228043 |             f\n",
      "    85 |      205 |  0.0065032039 |  0.0002888135 |           yes |     13 |  0.0002228043 |             f\n",
      "    86 |      208 |  0.0218345508 |  0.0003227916 |           yes |     15 |  0.0015371910 |             f\n",
      "    87 |      215 |  0.0012973282 |  0.0003586573 |           yes |     15 |  0.0031480121 |             f\n",
      "    88 |      222 |  0.0056345872 |  0.0003964107 |           yes |     16 |  0.0095229571 |         ideal\n",
      "    89 |      227 |  0.0072511352 |  0.0004360518 |           yes |     16 |  0.0007093943 |             f\n",
      "    90 |      230 |  0.0290973580 |  0.0004775806 |           yes |     14 |  0.0054663714 |         ideal\n",
      "    91 |      232 |  0.0134176731 |  0.0005209970 |           yes |     12 |  0.0140269881 |         ideal\n",
      "    92 |      236 |  0.0271591421 |  0.0005663011 |           yes |     12 |  0.0017941278 |             f\n",
      "    93 |      239 |  0.0061236779 |  0.0006134928 |           yes |     13 |  0.0021992203 |             f\n",
      "    94 |      244 |  0.0085252028 |  0.0006625722 |           yes |     12 |  0.0032865597 |             f\n",
      "    95 |      247 |  0.0305939076 |  0.0007135393 |           yes |     12 |  0.000000E+00 |             f\n",
      "    96 |      251 |  0.0169458984 |  0.0007663941 |           yes |     12 |  0.0020157201 |             f\n",
      "    97 |      252 |  0.0254393360 |  0.0008211365 |           yes |      9 |  0.0039356958 |             f\n",
      "    98 |      253 |  0.0062336787 |  0.0008777667 |           yes |     10 |  0.0031803983 |             f\n",
      "    99 |      256 |  0.000000E+00 |  0.0009362844 |            no |     10 |  0.000000E+00 |             f\n",
      "   100 |      256 |  1.887670E-06 |  0.0016829584 |            no |     10 |  0.000000E+00 |             f\n",
      "   101 |      256 |  5.663011E-06 |  0.0002942261 |            no |     10 |  0.000000E+00 |             f\n",
      "   102 |      256 |  0.0000113260 |  0.0005045959 |            no |     10 |  0.000000E+00 |             f\n",
      "   103 |      256 |  0.0000188767 |  0.0003859411 |            no |     10 |  0.000000E+00 |             f\n",
      "   104 |      256 |  0.0000283151 |  0.0001726130 |            no |     10 |  0.000000E+00 |             f\n",
      "   105 |      256 |  0.0000396411 |  0.0013502848 |            no |     10 |  0.000000E+00 |             f\n",
      "   106 |      256 |  0.0000528548 |  0.0010907643 |            no |     10 |  0.000000E+00 |             f\n",
      "   107 |      256 |  0.0000679561 |  0.0022742358 |            no |     10 |  0.000000E+00 |             f\n",
      "   108 |      256 |  0.0000849452 |  0.0003152161 |            no |     10 |  0.000000E+00 |             f\n",
      "   109 |      256 |  0.0001038219 |  0.0003152161 |            no |     10 |  0.000000E+00 |             f\n",
      "   110 |      256 |  0.0001245862 |  0.0001018880 |           yes |     10 |  0.000000E+00 |             f\n",
      "   111 |      260 |  0.000000E+00 |  0.0001027465 |            no |      7 |  0.0046670740 |             f\n",
      "   112 |      260 |  1.887670E-06 |  0.0036709655 |            no |      7 |  0.000000E+00 |             f\n",
      "   113 |      260 |  5.663011E-06 |  0.000000E+00 |           yes |      7 |  0.000000E+00 |             f\n",
      "   114 |      263 |  0.000000E+00 |  1.887670E-06 |            no |      7 |  0.0027168134 |             f\n",
      "   115 |      263 |  1.887670E-06 |  0.0009010985 |            no |      7 |  0.000000E+00 |             f\n",
      "   116 |      263 |  5.663011E-06 |  0.0014417576 |            no |      7 |  0.000000E+00 |             f\n",
      "   117 |      263 |  0.0000113260 |  0.0032439546 |            no |      7 |  0.000000E+00 |             f\n",
      "   118 |      263 |  0.0000188767 |  0.0025230758 |            no |      7 |  0.000000E+00 |             f\n",
      "   119 |      263 |  0.0000283151 |  0.000000E+00 |           yes |      7 |  0.000000E+00 |             f\n",
      "   120 |      268 |  0.000000E+00 |  1.887670E-06 |            no |      7 |  0.0043719463 |             f\n",
      "   121 |      268 |  1.887670E-06 |  0.000000E+00 |           yes |      7 |  0.000000E+00 |             f\n",
      "   122 |      270 |  0.000000E+00 |  1.887670E-06 |            no |      7 |  0.0019019834 |             f\n",
      "   123 |      270 |  1.887670E-06 |  0.0013403969 |            no |      7 |  0.0019019834 |             f\n",
      "   124 |      270 |  5.663011E-06 |  0.0015791285 |            no |      7 |  0.0019019834 |             f\n",
      "   125 |      270 |  0.0000113260 |  0.0042599224 |            no |      7 |  0.0019019834 |             f\n",
      "   126 |      270 |  0.0000188767 |  0.0022806495 |            no |      7 |  0.0019019834 |             f\n",
      "   127 |      270 |  0.0000283151 |  0.0005068110 |            no |      7 |  0.0019019834 |             f\n",
      "   128 |      270 |  0.0000396411 |  0.0017738385 |            no |      7 |  0.0019019834 |             f\n",
      "   129 |      270 |  0.0000528548 |  0.000000E+00 |           yes |      7 |  0.0019019834 |             f\n",
      "   130 |      271 |  0.000000E+00 |  1.887670E-06 |            no |      7 |  0.0019019834 |             f\n",
      "   131 |      271 |  1.887670E-06 |  0.000000E+00 |           yes |      7 |  0.0019019834 |             f\n",
      "   132 |      273 |  0.000000E+00 |  1.887670E-06 |            no |      7 |  0.0019019834 |             f\n",
      "   133 |      273 |  1.887670E-06 |  0.000000E+00 |           yes |      7 |  0.0019019834 |             f\n",
      "   134 |      275 |  0.0006335137 |  1.887670E-06 |           yes |      7 |  0.0019019834 |             f\n",
      "   135 |      280 |  0.0010597128 |  5.663011E-06 |           yes |      8 |  0.0027535596 |             f\n",
      "   136 |      283 |  0.0023267403 |  0.0000113260 |           yes |      8 |  0.000000E+00 |             f\n",
      "   137 |      286 |  0.0019351562 |  0.0000188767 |           yes |      8 |  0.000000E+00 |             f\n",
      "   138 |      292 |  0.000000E+00 |  0.0000283151 |            no |      7 |  0.0005687250 |             f\n",
      "   139 |      292 |  1.887670E-06 |  0.0006764310 |            no |      7 |  0.0005687250 |             f\n",
      "   140 |      292 |  5.663011E-06 |  0.0006012720 |            no |      7 |  0.0005687250 |             f\n",
      "   141 |      292 |  0.0000113260 |  0.0010522261 |            no |      7 |  0.0005687250 |             f\n",
      "   142 |      292 |  0.0000188767 |  0.0010522261 |            no |      7 |  0.0005687250 |             f\n",
      "   143 |      292 |  0.0000283151 |  0.0003006360 |            no |      7 |  0.0005687250 |             f\n",
      "   144 |      292 |  0.0000396411 |  0.0010522261 |            no |      7 |  0.0005687250 |             f\n",
      "   145 |      292 |  0.0000528548 |  0.0003006360 |            no |      7 |  0.0005687250 |             f\n",
      "   146 |      292 |  0.0000679561 |  0.0007515901 |            no |      7 |  0.0005687250 |             f\n",
      "   147 |      292 |  0.0000849452 |  0.000000E+00 |           yes |      7 |  0.0005687250 |             f\n"
     ]
    }
   ],
   "source": [
    "res = minimize(problem,\n",
    "           algorithm,\n",
    "           seed=1,\n",
    "           verbose=True)"
   ]
  },
  {
   "cell_type": "code",
   "execution_count": 11,
   "id": "9478d40df177eb22",
   "metadata": {
    "ExecuteTime": {
     "end_time": "2025-02-27T13:06:18.028322Z",
     "start_time": "2025-02-27T13:06:17.782873Z"
    }
   },
   "outputs": [
    {
     "data": {
      "image/png": "[encoded data removed]",
      "text/plain": [
       "<Figure size 800x600 with 1 Axes>"
      ]
     },
     "metadata": {},
     "output_type": "display_data"
    }
   ],
   "source": [
    "# print(f\"Best population found:\\n {res.X} \\nwith F:\\n{res.F}\")\n",
    "\n",
    "plot = Scatter(title=\"Puma\")\n",
    "plot.add(res.F)\n",
    "plot.axis_labels = problem.dataset_generator.get_objective_names()\n",
    "_ = plot.show()"
   ]
  },
  {
   "cell_type": "code",
   "execution_count": 12,
   "id": "ddace02f",
   "metadata": {},
   "outputs": [],
   "source": [
    "for i in range(len(res.history)):\n",
    "    s_opt = res.history[i].opt.get('F').shape\n",
    "    s_pop = res.history[i].pop.get('F').shape\n",
    "    \n",
    "    if s_opt[1] != s_pop[1]:\n",
    "        print(f\"Rewriting {i}: {s_opt} -> {s_pop}\")"
   ]
  },
  {
   "cell_type": "code",
   "execution_count": 13,
   "id": "b19a4a0993459630",
   "metadata": {
    "ExecuteTime": {
     "end_time": "2025-02-27T13:06:20.491092Z",
     "start_time": "2025-02-27T13:06:18.038294Z"
    }
   },
   "outputs": [],
   "source": [
    "import os\n",
    "from task_offloading_moo.utils.utils import save_generations_video_pymoo\n",
    "\n",
    "out_path = os.path.join(os.path.dirname(os.getcwd()), \"output\")\n",
    "save_generations_video_pymoo(res.history, out_path, \"puma_video\")\n"
   ]
  },
  {
   "cell_type": "markdown",
   "id": "97b3e618",
   "metadata": {},
   "source": [
    "## Save pareto results"
   ]
  },
  {
   "cell_type": "code",
   "execution_count": 14,
   "id": "853ad3cc",
   "metadata": {},
   "outputs": [
    {
     "name": "stdout",
     "output_type": "stream",
     "text": [
      "Solutions sauvegardées\n"
     ]
    }
   ],
   "source": [
    "import pickle\n",
    "\n",
    "out_path = os.path.join(os.path.dirname(os.getcwd()), \"output\")\n",
    "\n",
    "output_file = os.path.join(out_path, \"puma_results.pkl\")\n",
    "with open(output_file, \"wb\") as f:\n",
    "    pickle.dump(res.F, f)\n",
    "\n",
    "print(f\"Solutions sauvegardées\")"
   ]
  }
 ],
 "metadata": {
  "kernelspec": {
   "display_name": ".venv",
   "language": "python",
   "name": "python3"
  },
  "language_info": {
   "codemirror_mode": {
    "name": "ipython",
    "version": 3
   },
   "file_extension": ".py",
   "mimetype": "text/x-python",
   "name": "python",
   "nbconvert_exporter": "python",
   "pygments_lexer": "ipython3",
   "version": "3.12.0"
  }
 },
 "nbformat": 4,
 "nbformat_minor": 5
}
