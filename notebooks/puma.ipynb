{
 "cells": [
  {
   "cell_type": "code",
   "execution_count": 1,
   "id": "initial_id",
   "metadata": {
    "ExecuteTime": {
     "end_time": "2025-02-27T13:06:13.762151Z",
     "start_time": "2025-02-27T13:06:13.759061Z"
    },
    "collapsed": true
   },
   "outputs": [],
   "source": [
    "from task_offloading_moo.pymoo.algorithms.puma_optimizer import PumaOptimizer\n",
    "from task_offloading_moo.pymoo.problem import TaskOffloadingProblem\n",
    "from task_offloading_moo.pymoo.operators.repair import TaskOffloadingRepair\n",
    "from task_offloading_moo.pymoo.operators.sampling import TaskOffloadingSampling\n",
    "from pymoo.optimize import minimize\n",
    "from pymoo.visualization.scatter import Scatter"
   ]
  },
  {
   "cell_type": "code",
   "execution_count": 2,
   "id": "b9e81751e8031db2",
   "metadata": {
    "ExecuteTime": {
     "end_time": "2025-02-27T13:06:13.790658Z",
     "start_time": "2025-02-27T13:06:13.765456Z"
    }
   },
   "outputs": [],
   "source": [
    "pop_size = 100\n",
    "n_max_iters = 50\n",
    "\n",
    "archive_size = int(0.4 * pop_size) + 1\n",
    "num_archive_injections = int(pop_size*0.1)\n",
    "archive_injections_prob = 0.3\n",
    "\n",
    "num_cloud_machines = 30\n",
    "num_fog_machines = 20\n",
    "num_tasks = 500\n",
    "\n",
    "algorithm = PumaOptimizer(repair=TaskOffloadingRepair(),\n",
    "                      use_soft_repair=True,\n",
    "                      pop_size=pop_size,\n",
    "                      sampling=TaskOffloadingSampling(),\n",
    "                      n_max_iters=n_max_iters,\n",
    "                      archive_size=archive_size,\n",
    "                      save_history=True,\n",
    "                      num_archive_injections=num_archive_injections,\n",
    "                      archive_injections_prob=archive_injections_prob\n",
    "                    )\n",
    "\n",
    "problem = TaskOffloadingProblem(num_cloud_machines, num_fog_machines, num_tasks, use_random_machines=True)"
   ]
  },
  {
   "cell_type": "code",
   "execution_count": 3,
   "id": "6629fcf18b95f4d",
   "metadata": {},
   "outputs": [
    {
     "name": "stdout",
     "output_type": "stream",
     "text": [
      "==========================================================================================================\n",
      "n_gen  |  n_eval  |     explor    |    exploit    |   is_explore  | n_nds  |      eps      |   indicator  \n",
      "==========================================================================================================\n",
      "     1 |      100 |             0 |             0 |            no |      9 |             - |             -\n",
      "     2 |      100 |  0.6666666667 |  0.1666666667 |           yes |     95 |  0.1317690110 |         ideal\n",
      "     3 |      101 |  0.000000E+00 |  0.6653333333 |            no |     49 |  0.0006431287 |             f\n",
      "     4 |      101 |  0.0120000000 |  2.6400000000 |            no |     49 |  0.0006431287 |             f\n",
      "     5 |      101 |  0.0360000000 |  0.000000E+00 |           yes |     50 |  0.0042420924 |             f\n",
      "     6 |      105 |  0.000000E+00 |  0.0120000000 |            no |     33 |  0.0316033590 |         ideal\n",
      "     7 |      105 |  0.0120000000 |  0.000000E+00 |           yes |     33 |  0.000000E+00 |             f\n",
      "     8 |      110 |  0.000000E+00 |  0.0120000000 |            no |     11 |  0.0059814124 |             f\n",
      "     9 |      110 |  0.0120000000 |  0.000000E+00 |           yes |     21 |  0.000000E+00 |             f\n",
      "    10 |      112 |  0.000000E+00 |  0.0120000000 |            no |     20 |  0.0026951597 |             f\n",
      "    11 |      112 |  0.0120000000 |  0.000000E+00 |           yes |     30 |  0.000000E+00 |             f\n",
      "    12 |      116 |  0.000000E+00 |  0.0120000000 |            no |     26 |  0.0005209564 |             f\n",
      "    13 |      116 |  0.0120000000 |  0.000000E+00 |           yes |     26 |  0.0005209564 |             f\n",
      "    14 |      118 |  0.000000E+00 |  0.0120000000 |            no |     26 |  0.0005209564 |             f\n",
      "    15 |      118 |  0.0120000000 |  0.000000E+00 |           yes |     24 |  0.0644485016 |         ideal\n",
      "    16 |      120 |  0.000000E+00 |  0.0120000000 |            no |     32 |  0.0002754293 |             f\n",
      "    17 |      120 |  0.0120000000 |  0.000000E+00 |           yes |     42 |  0.0004197018 |             f\n",
      "    18 |      122 |  0.000000E+00 |  0.0120000000 |            no |     33 |  0.0014985053 |             f\n",
      "    19 |      122 |  0.0000957547 |  0.0039498829 |            no |     33 |  0.0014985053 |             f\n",
      "    20 |      122 |  0.0001567631 |  0.0048843008 |            no |     33 |  0.0014985053 |             f\n",
      "    21 |      122 |  0.0003135263 |  0.0180308657 |            no |     33 |  0.0014985053 |             f\n",
      "    22 |      122 |  0.0005225438 |  0.0112821798 |            no |     43 |  0.0023000314 |             f\n",
      "    23 |      122 |  0.0007838157 |  0.0183637969 |            no |     43 |  0.0023000314 |             f\n",
      "    24 |      122 |  0.0010973419 |  0.000000E+00 |           yes |     43 |  0.0023000314 |             f\n",
      "    25 |      123 |  0.000000E+00 |  0.0000522544 |            no |     38 |  0.0066416207 |         ideal\n",
      "    26 |      123 |  0.0000522544 |  0.000000E+00 |           yes |     38 |  0.000000E+00 |             f\n",
      "    27 |      124 |  0.000000E+00 |  0.0000522544 |            no |     33 |  0.0006691316 |             f\n",
      "    28 |      124 |  0.0000522544 |  0.000000E+00 |           yes |     43 |  0.0010270392 |             f\n",
      "    29 |      125 |  0.0007859097 |  0.0000190524 |           yes |     50 |  0.0096404669 |         ideal\n",
      "    30 |      128 |  0.0006287278 |  0.0000571571 |           yes |     40 |  0.0073132426 |         nadir\n",
      "    31 |      131 |  0.0022842181 |  0.0000152129 |           yes |     33 |  0.0235634497 |         ideal\n",
      "    32 |      134 |  0.0000836708 |  0.0000253548 |           yes |     42 |  0.0016056186 |             f\n",
      "    33 |      137 |  0.0036916412 |  0.0000380322 |           yes |     44 |  0.0032387211 |             f\n",
      "    34 |      140 |  0.0033987933 |  0.0000532451 |           yes |     33 |  0.0012855249 |             f\n",
      "    35 |      142 |  0.0118957766 |  0.0000709934 |           yes |     35 |  0.0020186621 |             f\n",
      "    36 |      147 |  0.000000E+00 |  0.0000912773 |            no |     31 |  0.0030118443 |             f\n",
      "    37 |      147 |  2.535480E-06 |  0.000000E+00 |           yes |     41 |  0.000000E+00 |             f\n",
      "    38 |      149 |  0.000000E+00 |  2.535480E-06 |            no |     30 |  0.0032651896 |         ideal\n",
      "    39 |      149 |  2.535480E-06 |  0.000000E+00 |           yes |     30 |  0.000000E+00 |             f\n",
      "    40 |      155 |  0.000000E+00 |  2.535480E-06 |            no |     32 |  0.0031096692 |         ideal\n",
      "    41 |      155 |  2.535480E-06 |  0.0023432624 |            no |     32 |  0.000000E+00 |             f\n",
      "    42 |      155 |  7.606439E-06 |  0.0052863437 |            no |     32 |  0.000000E+00 |             f\n",
      "    43 |      155 |  0.0000152129 |  0.0160474980 |            no |     32 |  0.000000E+00 |             f\n",
      "    44 |      155 |  0.0000253548 |  0.0214274313 |            no |     32 |  0.000000E+00 |             f\n",
      "    45 |      155 |  0.0000380322 |  0.0246729366 |            no |     32 |  0.000000E+00 |             f\n",
      "    46 |      155 |  0.0000532451 |  0.0178975215 |            no |     32 |  0.000000E+00 |             f\n",
      "    47 |      155 |  0.0000709934 |  0.0101770266 |            no |     32 |  0.000000E+00 |             f\n"
     ]
    }
   ],
   "source": [
    "res = minimize(problem,\n",
    "           algorithm,\n",
    "           seed=1,\n",
    "           verbose=True)"
   ]
  },
  {
   "cell_type": "code",
   "execution_count": 4,
   "id": "9478d40df177eb22",
   "metadata": {
    "ExecuteTime": {
     "end_time": "2025-02-27T13:06:18.028322Z",
     "start_time": "2025-02-27T13:06:17.782873Z"
    }
   },
   "outputs": [
    {
     "data": {
      "image/png": "[encoded data removed]",
      "text/plain": [
       "<Figure size 800x600 with 1 Axes>"
      ]
     },
     "metadata": {},
     "output_type": "display_data"
    }
   ],
   "source": [
    "# print(f\"Best population found:\\n {res.X} \\nwith F:\\n{res.F}\")\n",
    "\n",
    "plot = Scatter(title=\"Puma\")\n",
    "plot.add(res.F)\n",
    "plot.axis_labels = problem.dataset_generator.get_objective_names()\n",
    "_ = plot.show()"
   ]
  },
  {
   "cell_type": "code",
   "execution_count": 5,
   "id": "ddace02f",
   "metadata": {},
   "outputs": [],
   "source": [
    "for i in range(len(res.history)):\n",
    "    s_opt = res.history[i].opt.get('F').shape\n",
    "    s_pop = res.history[i].pop.get('F').shape\n",
    "    \n",
    "    if s_opt[1] != s_pop[1]:\n",
    "        print(f\"Rewriting {i}: {s_opt} -> {s_pop}\")"
   ]
  },
  {
   "cell_type": "code",
   "execution_count": 6,
   "id": "b19a4a0993459630",
   "metadata": {
    "ExecuteTime": {
     "end_time": "2025-02-27T13:06:20.491092Z",
     "start_time": "2025-02-27T13:06:18.038294Z"
    }
   },
   "outputs": [],
   "source": [
    "import os\n",
    "from task_offloading_moo.utils.utils import save_generations_video_pymoo\n",
    "\n",
    "out_path = os.path.join(os.path.dirname(os.getcwd()), \"output\")\n",
    "save_generations_video_pymoo(res.history, out_path, \"puma_video\")\n"
   ]
  }
 ],
 "metadata": {
  "kernelspec": {
   "display_name": ".venv",
   "language": "python",
   "name": "python3"
  },
  "language_info": {
   "codemirror_mode": {
    "name": "ipython",
    "version": 3
   },
   "file_extension": ".py",
   "mimetype": "text/x-python",
   "name": "python",
   "nbconvert_exporter": "python",
   "pygments_lexer": "ipython3",
   "version": "3.12.0"
  }
 },
 "nbformat": 4,
 "nbformat_minor": 5
}
