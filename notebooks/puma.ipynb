{
 "cells": [
  {
   "cell_type": "code",
   "execution_count": 15,
   "id": "initial_id",
   "metadata": {
    "ExecuteTime": {
     "end_time": "2025-02-27T13:06:13.762151Z",
     "start_time": "2025-02-27T13:06:13.759061Z"
    },
    "collapsed": true
   },
   "outputs": [],
   "source": [
    "from task_offloading_moo.pymoo.algorithms.puma_optimizer import PumaOptimizer\n",
    "from task_offloading_moo.pymoo.problem import TaskOffloadingProblem\n",
    "from task_offloading_moo.pymoo.operators.repair import TaskOffloadingRepair\n",
    "from task_offloading_moo.pymoo.operators.sampling import TaskOffloadingSampling\n",
    "from pymoo.optimize import minimize\n",
    "from pymoo.visualization.scatter import Scatter"
   ]
  },
  {
   "cell_type": "code",
   "execution_count": 16,
   "id": "b9e81751e8031db2",
   "metadata": {
    "ExecuteTime": {
     "end_time": "2025-02-27T13:06:13.790658Z",
     "start_time": "2025-02-27T13:06:13.765456Z"
    }
   },
   "outputs": [],
   "source": [
    "pop_size = 100\n",
    "n_max_iters = 50\n",
    "\n",
    "num_cloud_machines = 30\n",
    "num_fog_machines = 20\n",
    "num_tasks = 500\n",
    "\n",
    "algorithm = PumaOptimizer(repair=TaskOffloadingRepair(),\n",
    "                      use_soft_repair=True,\n",
    "                      pop_size=pop_size,\n",
    "                      sampling=TaskOffloadingSampling(),\n",
    "                      n_max_iters=n_max_iters,\n",
    "                      archive_size=100,\n",
    "                      save_history=True,\n",
    "                      )\n",
    "\n",
    "problem = TaskOffloadingProblem(num_cloud_machines, num_fog_machines, num_tasks, use_random_machines=True)"
   ]
  },
  {
   "cell_type": "code",
   "execution_count": 17,
   "id": "6629fcf18b95f4d",
   "metadata": {},
   "outputs": [
    {
     "name": "stdout",
     "output_type": "stream",
     "text": [
      "==========================================================================================================\n",
      "n_gen  |  n_eval  |     explor    |    exploit    |   is_explore  | n_nds  |      eps      |   indicator  \n",
      "==========================================================================================================\n",
      "     1 |      100 |             0 |             0 |            no |      9 |             - |             -\n",
      "     2 |      101 |  5.365823E+01 |  1.073165E+01 |           yes |     27 |  0.000000E+00 |             f\n",
      "     3 |      106 |  1.902870E+02 |  4.243710E+01 |           yes |     25 |  0.0012482225 |             f\n",
      "     4 |      111 |  4.007931E+01 |  4.271778E+01 |            no |     21 |  0.0082083028 |         ideal\n",
      "     5 |      111 |  4.003413E+01 |  1.897708E+02 |            no |     21 |  0.000000E+00 |             f\n",
      "     6 |      111 |  4.034862E+01 |  1.376155E-17 |           yes |     21 |  0.000000E+00 |             f\n",
      "     7 |      114 |  1.234795E+02 |  0.3596652146 |           yes |     19 |  0.0011121140 |             f\n",
      "     8 |      115 |  5.865900E+01 |  1.0789956439 |           yes |     15 |  0.0035853177 |             f\n",
      "     9 |      117 |  6.301974E+01 |  2.1579912879 |           yes |     15 |  0.000000E+00 |             f\n",
      "    10 |      120 |  6.301974E+01 |  3.5966521465 |           yes |     13 |  0.0014148065 |             f\n",
      "    11 |      123 |  6.138446E+01 |  5.3949782197 |           yes |     14 |  0.0045804288 |             f\n",
      "    12 |      124 |  5.974919E+01 |  7.5529695076 |           yes |     14 |  0.000000E+00 |             f\n",
      "    13 |      128 |  5.702372E+01 |  1.007063E+01 |           yes |     14 |  0.000000E+00 |             f\n",
      "    14 |      130 |  5.702372E+01 |  1.294795E+01 |           yes |     14 |  0.0138954674 |         ideal\n",
      "    15 |      131 |  5.990854E+01 |  1.618493E+01 |           yes |     15 |  0.0085206662 |         ideal\n",
      "    16 |      134 |  5.750825E+01 |  1.978159E+01 |           yes |     15 |  0.000000E+00 |             f\n",
      "    17 |      136 |  5.973430E+01 |  2.373790E+01 |           yes |     16 |  0.0170010901 |             f\n",
      "    18 |      136 |  6.453721E+01 |  2.805389E+01 |           yes |     16 |  0.000000E+00 |             f\n",
      "    19 |      141 |  6.273612E+01 |  3.272953E+01 |           yes |     16 |  0.000000E+00 |             f\n",
      "    20 |      144 |  6.093503E+01 |  3.776485E+01 |           yes |     17 |  0.0005457604 |             f\n",
      "    21 |      148 |  5.613211E+01 |  4.315983E+01 |           yes |     15 |  0.0014841580 |             f\n",
      "    22 |      150 |  5.793320E+01 |  4.891447E+01 |           yes |     15 |  0.0051051918 |             f\n",
      "    23 |      151 |  5.793320E+01 |  5.502878E+01 |           yes |     14 |  0.0013820675 |             f\n",
      "    24 |      153 |  6.273612E+01 |  6.150275E+01 |           yes |     14 |  0.0013820675 |             f\n",
      "    25 |      156 |  5.973430E+01 |  6.833639E+01 |            no |     13 |  0.0033147309 |             f\n",
      "    26 |      156 |  5.949058E+01 |  5.934476E+01 |           yes |     13 |  0.000000E+00 |             f\n",
      "    27 |      159 |  1.088341E+02 |  3.2969311343 |           yes |     12 |  0.0021434558 |             f\n",
      "    28 |      162 |  6.764610E+01 |  6.795456E+01 |            no |     13 |  0.0039990423 |             f\n",
      "    29 |      162 |  6.732247E+01 |  7.687639E+01 |            no |     13 |  0.000000E+00 |             f\n",
      "    30 |      162 |  1.174358E+02 |  3.131715E+01 |           yes |     13 |  0.5363225447 |         ideal\n",
      "    31 |      163 |  1.074991E+02 |  3.136048E+01 |           yes |     13 |  0.000000E+00 |             f\n",
      "    32 |      167 |  7.914689E+01 |  1.077145E+02 |            no |     13 |  0.000000E+00 |             f\n",
      "    33 |      167 |  7.870710E+01 |  1.364645E+02 |            no |     13 |  0.000000E+00 |             f\n",
      "    34 |      167 |  1.347866E+02 |  6.684459E+01 |           yes |     13 |  0.000000E+00 |             f\n",
      "    35 |      173 |  1.256579E+02 |  6.652906E+01 |           yes |     14 |  0.0017074003 |             f\n",
      "    36 |      176 |  1.158970E+02 |  1.241984E+02 |            no |     15 |  0.0168385355 |             f\n",
      "    37 |      176 |  1.150860E+02 |  2.728152E+02 |            no |     13 |  0.0087087497 |             f\n",
      "    38 |      176 |  2.683827E+02 |  4.582213E+01 |           yes |     13 |  0.000000E+00 |             f\n",
      "    39 |      177 |  9.622647E+01 |  4.571894E+01 |           yes |     13 |  0.000000E+00 |             f\n",
      "    40 |      180 |  4.582213E+01 |  9.536149E+01 |            no |     13 |  0.000000E+00 |             f\n",
      "    41 |      180 |  4.571894E+01 |  1.256579E+02 |            no |     13 |  0.000000E+00 |             f\n",
      "    42 |      180 |  9.536149E+01 |  8.786705E+01 |           yes |     13 |  0.000000E+00 |             f\n",
      "    43 |      184 |  1.256579E+02 |  8.733917E+01 |           yes |     14 |  0.0007599198 |             f\n",
      "    44 |      188 |  8.786705E+01 |  1.530352E+02 |            no |     14 |  0.0007599198 |             f\n",
      "    45 |      188 |  8.733917E+01 |  3.022466E+02 |            no |     14 |  0.0007599198 |             f\n",
      "    46 |      188 |  1.530352E+02 |  1.158970E+02 |           yes |     14 |  0.0042388952 |             f\n",
      "    47 |      190 |  3.316780E+02 |  1.150860E+02 |           yes |     14 |  0.000000E+00 |             f\n"
     ]
    }
   ],
   "source": [
    "res = minimize(problem,\n",
    "           algorithm,\n",
    "           seed=1,\n",
    "           verbose=True)"
   ]
  },
  {
   "cell_type": "code",
   "execution_count": 18,
   "id": "9478d40df177eb22",
   "metadata": {
    "ExecuteTime": {
     "end_time": "2025-02-27T13:06:18.028322Z",
     "start_time": "2025-02-27T13:06:17.782873Z"
    }
   },
   "outputs": [
    {
     "data": {
      "image/png": "[encoded data removed]",
      "text/plain": [
       "<Figure size 800x600 with 1 Axes>"
      ]
     },
     "metadata": {},
     "output_type": "display_data"
    }
   ],
   "source": [
    "# print(f\"Best population found:\\n {res.X} \\nwith F:\\n{res.F}\")\n",
    "\n",
    "plot = Scatter(title=\"Puma\")\n",
    "plot.add(res.F)\n",
    "plot.axis_labels = problem.dataset_generator.get_objective_names()\n",
    "_ = plot.show()"
   ]
  },
  {
   "cell_type": "code",
   "execution_count": 19,
   "id": "3a746aa51b434add",
   "metadata": {
    "ExecuteTime": {
     "end_time": "2025-02-27T13:06:18.034748Z",
     "start_time": "2025-02-27T13:06:18.032297Z"
    }
   },
   "outputs": [],
   "source": [
    "# res.archive.get(\"F\")"
   ]
  },
  {
   "cell_type": "code",
   "execution_count": 20,
   "id": "b19a4a0993459630",
   "metadata": {
    "ExecuteTime": {
     "end_time": "2025-02-27T13:06:20.491092Z",
     "start_time": "2025-02-27T13:06:18.038294Z"
    }
   },
   "outputs": [],
   "source": [
    "import os\n",
    "from task_offloading_moo.utils.utils import save_generations_video_pymoo\n",
    "\n",
    "out_path = os.path.join(os.path.dirname(os.getcwd()), \"output\")\n",
    "save_generations_video_pymoo(res.history, out_path, \"puma_video\")\n"
   ]
  },
  {
   "cell_type": "code",
   "execution_count": 21,
   "id": "25f12151650d7904",
   "metadata": {},
   "outputs": [],
   "source": [
    "# plot = Scatter(title=\"Puma\")\n",
    "# plot.add(res.archive.get(\"F\"))\n",
    "# plot.axis_labels = problem.dataset_generator.get_objective_names()\n",
    "# _ = plot.show()"
   ]
  }
 ],
 "metadata": {
  "kernelspec": {
   "display_name": ".venv",
   "language": "python",
   "name": "python3"
  },
  "language_info": {
   "codemirror_mode": {
    "name": "ipython",
    "version": 3
   },
   "file_extension": ".py",
   "mimetype": "text/x-python",
   "name": "python",
   "nbconvert_exporter": "python",
   "pygments_lexer": "ipython3",
   "version": "3.12.0"
  }
 },
 "nbformat": 4,
 "nbformat_minor": 5
}
