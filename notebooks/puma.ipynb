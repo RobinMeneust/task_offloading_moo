{
 "cells": [
  {
   "cell_type": "code",
   "execution_count": 1,
   "id": "initial_id",
   "metadata": {
    "ExecuteTime": {
     "end_time": "2025-02-27T13:06:13.762151Z",
     "start_time": "2025-02-27T13:06:13.759061Z"
    },
    "collapsed": true
   },
   "outputs": [],
   "source": [
    "from task_offloading_moo.pymoo.algorithms.puma_optimizer import PumaOptimizer\n",
    "from task_offloading_moo.pymoo.problem import TaskOffloadingProblem\n",
    "from task_offloading_moo.pymoo.operators.repair import TaskOffloadingRepair\n",
    "from task_offloading_moo.pymoo.operators.sampling import TaskOffloadingSampling\n",
    "from pymoo.optimize import minimize\n",
    "from pymoo.visualization.scatter import Scatter"
   ]
  },
  {
   "cell_type": "code",
   "execution_count": null,
   "id": "b9e81751e8031db2",
   "metadata": {
    "ExecuteTime": {
     "end_time": "2025-02-27T13:06:13.790658Z",
     "start_time": "2025-02-27T13:06:13.765456Z"
    }
   },
   "outputs": [],
   "source": [
    "pop_size = 100\n",
    "n_max_iters = 50\n",
    "\n",
    "archive_size = 100\n",
    "num_archive_injections = 10\n",
    "archive_injections_prob = 0.2\n",
    "\n",
    "num_cloud_machines = 30\n",
    "num_fog_machines = 20\n",
    "num_tasks = 500\n",
    "\n",
    "# scores functions weights\n",
    "pf1=0.5 # default is 0.5\n",
    "pf2=0.5 # default is 0.5\n",
    "pf3=0.3 # default is 0.3\n",
    "\n",
    "u=0.2 # probability to update an individual (i.e. change its decision variables) (default is 0.2)\n",
    "l=0.9 # probability to choose long jump towards the best puma rather than short towards other pumas (default is 0.9)\n",
    "alpha=2 # scaling factor for the running strategy (the smaller it is, the farther the jumps are) (default is 2)\n",
    "\n",
    "algorithm = PumaOptimizer(\n",
    "    repair=TaskOffloadingRepair(),\n",
    "    pf1=pf1,\n",
    "    pf2=pf2,\n",
    "    pf3=pf3,\n",
    "    u=u,\n",
    "    l=l,\n",
    "    alpha=alpha,\n",
    "    use_soft_repair=True,\n",
    "    pop_size=pop_size,\n",
    "    sampling=TaskOffloadingSampling(),\n",
    "    n_max_iters=n_max_iters,\n",
    "    archive_size=archive_size,\n",
    "    save_history=True,\n",
    "    num_archive_injections=num_archive_injections,\n",
    "    archive_injections_prob=archive_injections_prob\n",
    ")\n",
    "\n",
    "problem = TaskOffloadingProblem(num_cloud_machines, num_fog_machines, num_tasks, use_random_machines=True)"
   ]
  },
  {
   "cell_type": "code",
   "execution_count": 3,
   "id": "6629fcf18b95f4d",
   "metadata": {},
   "outputs": [
    {
     "name": "stdout",
     "output_type": "stream",
     "text": [
      "==========================================================================================================\n",
      "n_gen  |  n_eval  |     explor    |    exploit    |   is_explore  | n_nds  |      eps      |   indicator  \n",
      "==========================================================================================================\n",
      "     1 |      100 |             0 |             0 |            no |    100 |             - |             -\n",
      "     2 |      100 |  0.6672070045 |  0.6672130306 |            no |    100 |  0.000000E+00 |             f\n",
      "     3 |      100 |  2.6154593011 |  0.0021636012 |           yes |    100 |  0.000000E+00 |             f\n",
      "     4 |      100 |  5.252300E-21 |  4.478278E-06 |            no |    100 |  0.000000E+00 |             f\n",
      "     5 |      100 |  2.127479E-06 |  0.0064908037 |            no |    100 |  0.000000E+00 |             f\n",
      "     6 |      100 |  0.0050278585 |  4.852346E-23 |           yes |    100 |  0.000000E+00 |             f\n",
      "     7 |      100 |  0.0012942012 |  2.127479E-06 |           yes |    100 |  0.000000E+00 |             f\n",
      "     8 |      100 |  0.0002463053 |  0.0000923681 |           yes |    100 |  0.000000E+00 |             f\n",
      "     9 |      100 |  0.000000E+00 |  0.0000978640 |            no |    100 |  0.000000E+00 |             f\n",
      "    10 |      100 |  2.127479E-06 |  0.0004387926 |            no |    100 |  0.000000E+00 |             f\n",
      "    11 |      100 |  6.382438E-06 |  0.000000E+00 |           yes |    100 |  0.000000E+00 |             f\n",
      "    12 |      100 |  0.000000E+00 |  2.127479E-06 |            no |    100 |  0.000000E+00 |             f\n",
      "    13 |      100 |  2.127479E-06 |  0.000000E+00 |           yes |    100 |  0.000000E+00 |             f\n",
      "    14 |      100 |  0.000000E+00 |  2.127479E-06 |            no |    100 |  0.000000E+00 |             f\n",
      "    15 |      100 |  2.127479E-06 |  0.000000E+00 |           yes |    100 |  0.000000E+00 |             f\n",
      "    16 |      100 |  0.000000E+00 |  2.127479E-06 |            no |    100 |  0.000000E+00 |             f\n",
      "    17 |      100 |  2.231362E-07 |  9.204368E-06 |            no |    100 |  0.000000E+00 |             f\n",
      "    18 |      100 |  6.694086E-07 |  0.0001487294 |            no |    100 |  0.000000E+00 |             f\n",
      "    19 |      100 |  1.338817E-06 |  0.0001671382 |            no |    100 |  0.000000E+00 |             f\n",
      "    20 |      100 |  2.231362E-06 |  0.0004947808 |            no |    100 |  0.000000E+00 |             f\n",
      "    21 |      100 |  3.347043E-06 |  0.000000E+00 |           yes |    100 |  0.000000E+00 |             f\n",
      "    22 |      100 |  0.000000E+00 |  2.231362E-07 |            no |    100 |  0.000000E+00 |             f\n",
      "    23 |      100 |  2.231362E-07 |  0.0000135118 |            no |    100 |  0.000000E+00 |             f\n",
      "    24 |      100 |  6.694086E-07 |  0.0000108094 |            no |    100 |  0.000000E+00 |             f\n",
      "    25 |      100 |  1.338817E-06 |  0.0000378330 |            no |    100 |  0.000000E+00 |             f\n",
      "    26 |      100 |  2.231362E-06 |  0.000000E+00 |           yes |    100 |  0.000000E+00 |             f\n",
      "    27 |      100 |  0.000000E+00 |  2.231362E-07 |            no |    100 |  0.000000E+00 |             f\n",
      "    28 |      100 |  2.231362E-07 |  0.000000E+00 |           yes |    100 |  0.000000E+00 |             f\n",
      "    29 |      100 |  0.000000E+00 |  2.231362E-07 |            no |    100 |  0.000000E+00 |             f\n",
      "    30 |      100 |  2.231362E-07 |  0.000000E+00 |           yes |    100 |  0.000000E+00 |             f\n",
      "    31 |      100 |  0.000000E+00 |  2.231362E-07 |            no |    100 |  0.000000E+00 |             f\n",
      "    32 |      100 |  2.231362E-07 |  0.0001624852 |            no |    100 |  0.000000E+00 |             f\n",
      "    33 |      100 |  6.694086E-07 |  0.0001299882 |            no |    100 |  0.000000E+00 |             f\n",
      "    34 |      100 |  1.338817E-06 |  0.0004549587 |            no |    100 |  0.000000E+00 |             f\n",
      "    35 |      100 |  2.231362E-06 |  0.000000E+00 |           yes |    100 |  0.000000E+00 |             f\n",
      "    36 |      100 |  0.000000E+00 |  2.231362E-07 |            no |    100 |  0.000000E+00 |             f\n",
      "    37 |      100 |  2.231362E-07 |  0.000000E+00 |           yes |    100 |  0.000000E+00 |             f\n",
      "    38 |      100 |  0.000000E+00 |  2.231362E-07 |            no |    100 |  0.000000E+00 |             f\n",
      "    39 |      100 |  2.231362E-07 |  0.000000E+00 |           yes |    100 |  0.000000E+00 |             f\n",
      "    40 |      100 |  0.000000E+00 |  2.231362E-07 |            no |    100 |  0.000000E+00 |             f\n",
      "    41 |      100 |  2.231362E-07 |  0.000000E+00 |           yes |    100 |  0.000000E+00 |             f\n",
      "    42 |      100 |  0.000000E+00 |  2.231362E-07 |            no |    100 |  0.000000E+00 |             f\n",
      "    43 |      100 |  2.231362E-07 |  0.000000E+00 |           yes |    100 |  0.000000E+00 |             f\n",
      "    44 |      100 |  0.000000E+00 |  2.231362E-07 |            no |    100 |  0.000000E+00 |             f\n",
      "    45 |      100 |  2.231362E-07 |  0.0000444692 |            no |    100 |  0.000000E+00 |             f\n",
      "    46 |      100 |  6.694086E-07 |  0.0000463848 |            no |    100 |  0.000000E+00 |             f\n",
      "    47 |      100 |  1.338817E-06 |  0.0001353233 |            no |    100 |  0.000000E+00 |             f\n"
     ]
    }
   ],
   "source": [
    "res = minimize(problem,\n",
    "           algorithm,\n",
    "           seed=1,\n",
    "           verbose=True)"
   ]
  },
  {
   "cell_type": "code",
   "execution_count": 4,
   "id": "9478d40df177eb22",
   "metadata": {
    "ExecuteTime": {
     "end_time": "2025-02-27T13:06:18.028322Z",
     "start_time": "2025-02-27T13:06:17.782873Z"
    }
   },
   "outputs": [
    {
     "data": {
      "image/png": "[encoded data removed]",
      "text/plain": [
       "<Figure size 800x600 with 1 Axes>"
      ]
     },
     "metadata": {},
     "output_type": "display_data"
    }
   ],
   "source": [
    "# print(f\"Best population found:\\n {res.X} \\nwith F:\\n{res.F}\")\n",
    "\n",
    "plot = Scatter(title=\"Puma\")\n",
    "plot.add(res.F)\n",
    "plot.axis_labels = problem.dataset_generator.get_objective_names()\n",
    "_ = plot.show()"
   ]
  },
  {
   "cell_type": "code",
   "execution_count": 5,
   "id": "ddace02f",
   "metadata": {},
   "outputs": [],
   "source": [
    "for i in range(len(res.history)):\n",
    "    s_opt = res.history[i].opt.get('F').shape\n",
    "    s_pop = res.history[i].pop.get('F').shape\n",
    "    \n",
    "    if s_opt[1] != s_pop[1]:\n",
    "        print(f\"Rewriting {i}: {s_opt} -> {s_pop}\")"
   ]
  },
  {
   "cell_type": "code",
   "execution_count": 6,
   "id": "b19a4a0993459630",
   "metadata": {
    "ExecuteTime": {
     "end_time": "2025-02-27T13:06:20.491092Z",
     "start_time": "2025-02-27T13:06:18.038294Z"
    }
   },
   "outputs": [],
   "source": [
    "import os\n",
    "from task_offloading_moo.utils.utils import save_generations_video_pymoo\n",
    "\n",
    "out_path = os.path.join(os.path.dirname(os.getcwd()), \"output\")\n",
    "save_generations_video_pymoo(res.history, out_path, \"puma_video\")\n"
   ]
  },
  {
   "cell_type": "markdown",
   "id": "97b3e618",
   "metadata": {},
   "source": [
    "## Save pareto results"
   ]
  },
  {
   "cell_type": "code",
   "execution_count": 7,
   "id": "853ad3cc",
   "metadata": {},
   "outputs": [
    {
     "name": "stdout",
     "output_type": "stream",
     "text": [
      "Solutions sauvegardées\n"
     ]
    }
   ],
   "source": [
    "import pickle\n",
    "\n",
    "out_path = os.path.join(os.path.dirname(os.getcwd()), \"output\")\n",
    "\n",
    "output_file = os.path.join(out_path, \"puma_results.pkl\")\n",
    "with open(output_file, \"wb\") as f:\n",
    "    pickle.dump(res.F, f)\n",
    "\n",
    "print(f\"Solutions sauvegardées\")"
   ]
  }
 ],
 "metadata": {
  "kernelspec": {
   "display_name": ".venv",
   "language": "python",
   "name": "python3"
  },
  "language_info": {
   "codemirror_mode": {
    "name": "ipython",
    "version": 3
   },
   "file_extension": ".py",
   "mimetype": "text/x-python",
   "name": "python",
   "nbconvert_exporter": "python",
   "pygments_lexer": "ipython3",
   "version": "3.12.0"
  }
 },
 "nbformat": 4,
 "nbformat_minor": 5
}
