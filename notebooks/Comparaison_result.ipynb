{
 "cells": [
  {
   "cell_type": "code",
   "execution_count": 8,
   "metadata": {},
   "outputs": [],
   "source": [
    "import pickle\n",
    "import os\n",
    "import numpy as np"
   ]
  },
  {
   "cell_type": "code",
   "execution_count": 9,
   "metadata": {},
   "outputs": [],
   "source": [
    "def load_results(filepath):\n",
    "    \"\"\"Load pareto result from pkl\"\"\"\n",
    "    with open(filepath, \"rb\") as f:\n",
    "        return np.array(pickle.load(f))"
   ]
  },
  {
   "cell_type": "code",
   "execution_count": 10,
   "metadata": {},
   "outputs": [],
   "source": [
    "def domine(solution1, solution2):\n",
    "    \"\"\" Return True if solution1 is dominated by solution2 \"\"\"\n",
    "    return all(solution2 <= solution1)\n"
   ]
  },
  {
   "cell_type": "code",
   "execution_count": 11,
   "metadata": {},
   "outputs": [],
   "source": [
    "def efficacite_relative(X, Y):\n",
    "    \"\"\" Calculates the relative efficiency of X compared to Y \"\"\"\n",
    "    count_non_dominated = sum(1 for x in X if not any(domine(x, y) for y in Y))\n",
    "    return count_non_dominated / len(X) *100\n"
   ]
  },
  {
   "cell_type": "code",
   "execution_count": 12,
   "metadata": {},
   "outputs": [],
   "source": [
    "def contribution(X, Y):\n",
    "    \"\"\"Calcule la contribution de X par rapport à Y\"\"\"\n",
    "    \n",
    "    X = np.array(X)\n",
    "    Y = np.array(Y)\n",
    "\n",
    "    C = []   # Solutions communes\n",
    "    W1 = []  # X domine Y\n",
    "    W2 = []  # Y domine X\n",
    "    L1 = []  # X est dominé par Y\n",
    "    L2 = []  # Y est dominé par X\n",
    "    N1 = []  # Solutions ni dominantes ni dominées dans X\n",
    "    N2 = []  # Solutions ni dominantes ni dominées dans Y\n",
    "\n",
    "    for x in X:\n",
    "        if any(np.array_equal(x, y) for y in Y):\n",
    "            C.append(x)\n",
    "        elif any(domine(y, x) for y in Y):\n",
    "            W1.append(x)\n",
    "        elif any(domine(x, y) for y in Y):\n",
    "            L1.append(x)\n",
    "        else:\n",
    "            N1.append(x)\n",
    "\n",
    "    for y in Y:\n",
    "        if any(np.array_equal(y, x) for x in C):\n",
    "            continue\n",
    "        elif any(domine(x, y) for x in X):\n",
    "            W2.append(y)\n",
    "        elif any(domine(y, x) for x in X):\n",
    "            L2.append(y)\n",
    "        else:\n",
    "            N2.append(y)\n",
    "\n",
    "    # Comptage des éléments\n",
    "    C_len = len(C)\n",
    "    W1_len = len(W1)\n",
    "    W2_len = len(W2)\n",
    "    L1_len = len(L1)\n",
    "    L2_len = len(L2)\n",
    "    N1_len = len(N1)\n",
    "    N2_len = len(N2)\n",
    "\n",
    "    numérateur = (C_len / 2) + W1_len + N1_len\n",
    "    dénominateur = C_len + W1_len + W2_len + N1_len + N2_len\n",
    "\n",
    "    # Évite la division par zéro\n",
    "    if dénominateur == 0:\n",
    "        return 0  \n",
    "\n",
    "\n",
    "    return (numérateur / dénominateur)*100\n"
   ]
  },
  {
   "cell_type": "code",
   "execution_count": 13,
   "metadata": {},
   "outputs": [],
   "source": [
    "out_path = os.path.join(os.path.dirname(os.getcwd()), \"output\")\n",
    "\n",
    "output_file_mofda = os.path.join(out_path, \"mofda_results.pkl\")\n",
    "output_file_puma = os.path.join(out_path, \"puma_results.pkl\")\n",
    "output_file_nsga = os.path.join(out_path, \"nsga_results.pkl\")\n",
    "\n",
    "mofda_results = load_results(output_file_mofda)\n",
    "puma_results = load_results(output_file_puma)\n",
    "nsga_results = load_results(output_file_nsga)\n",
    "\n",
    "\n",
    "# Efficacité relative \n",
    "eff_mofda_vs_puma = efficacite_relative(mofda_results, puma_results)\n",
    "eff_mofda_vs_nsga = efficacite_relative(mofda_results, nsga_results)\n",
    "\n",
    "eff_puma_vs_mofda = efficacite_relative(puma_results, mofda_results)\n",
    "eff_puma_vs_nsga = efficacite_relative(puma_results, nsga_results)\n",
    "\n",
    "eff_nsga_vs_mofda = efficacite_relative(nsga_results, mofda_results)\n",
    "eff_nsga_vs_puma = efficacite_relative(nsga_results, puma_results)\n",
    "\n",
    "\n",
    "# Contribution\n",
    "cont_mofda_vs_puma = contribution(mofda_results, puma_results)\n",
    "cont_mofda_vs_nsga = contribution(mofda_results, nsga_results)\n",
    "\n",
    "cont_puma_vs_mofda = contribution(puma_results, mofda_results)\n",
    "cont_puma_vs_nsga = contribution(puma_results, nsga_results)\n",
    "\n",
    "cont_nsga_vs_mofda = contribution(nsga_results, mofda_results)\n",
    "cont_nsga_vs_puma = contribution(nsga_results, puma_results)\n"
   ]
  },
  {
   "cell_type": "code",
   "execution_count": 14,
   "metadata": {},
   "outputs": [
    {
     "name": "stdout",
     "output_type": "stream",
     "text": [
      "---------  Efficacité relative  -----------------\n",
      "MOFDA vs PUMA : 100%\n",
      "MOFDA vs NSGA : 70%\n",
      "\n",
      "PUMA vs MOFDA : 0%\n",
      "PUMA vs NSGA : 0%\n",
      "\n",
      "NSGA vs MOFDA : 100%\n",
      "NSGA vs PUMA : 100%\n",
      "\n",
      "\n",
      "---------  Contribution  -----------------\n",
      "Contribution de MOFDA par rapport à PUMA : 100%\n",
      "Contribution de MOFDA par rapport à NSGA : 64%\n",
      "\n",
      "Contribution de PUMA par rapport à MOFDA : 0%\n",
      "Contribution de PUMA par rapport à NSGA : 0%\n",
      "\n",
      "Contribution de NSGA par rapport à MOFDA : 36%\n",
      "Contribution de NSGA par rapport à PUMA : 100%\n",
      "\n",
      "\n",
      "Nombre éléments Pareto\n",
      "MOFDA : 100\n",
      "PUMA : 7\n",
      "NSGA : 39\n"
     ]
    }
   ],
   "source": [
    "print(\"---------  Efficacité relative  -----------------\")\n",
    "print(f\"MOFDA vs PUMA : {eff_mofda_vs_puma:.0f}%\")\n",
    "print(f\"MOFDA vs NSGA : {eff_mofda_vs_nsga:.0f}%\\n\")\n",
    "\n",
    "print(f\"PUMA vs MOFDA : {eff_puma_vs_mofda:.0f}%\")\n",
    "print(f\"PUMA vs NSGA : {eff_puma_vs_nsga:.0f}%\\n\")\n",
    "\n",
    "print(f\"NSGA vs MOFDA : {eff_nsga_vs_mofda:.0f}%\")\n",
    "print(f\"NSGA vs PUMA : {eff_nsga_vs_puma:.0f}%\")\n",
    "\n",
    "\n",
    "print(\"\\n\\n---------  Contribution  -----------------\")\n",
    "print(f\"Contribution de MOFDA par rapport à PUMA : {cont_mofda_vs_puma:.0f}%\")\n",
    "print(f\"Contribution de MOFDA par rapport à NSGA : {cont_mofda_vs_nsga:.0f}%\\n\")\n",
    "\n",
    "print(f\"Contribution de PUMA par rapport à MOFDA : {cont_puma_vs_mofda:.0f}%\")\n",
    "print(f\"Contribution de PUMA par rapport à NSGA : {cont_puma_vs_nsga:.0f}%\\n\")\n",
    "\n",
    "print(f\"Contribution de NSGA par rapport à MOFDA : {cont_nsga_vs_mofda:.0f}%\")\n",
    "print(f\"Contribution de NSGA par rapport à PUMA : {cont_nsga_vs_puma:.0f}%\")\n",
    "\n",
    "print(\"\\n\\nNombre éléments Pareto\")\n",
    "print(f\"MOFDA : {len(mofda_results)}\")\n",
    "print(f\"PUMA : {len(puma_results)}\")\n",
    "print(f\"NSGA : {len(nsga_results)}\")\n",
    "\n"
   ]
  }
 ],
 "metadata": {
  "kernelspec": {
   "display_name": ".venv",
   "language": "python",
   "name": "python3"
  },
  "language_info": {
   "codemirror_mode": {
    "name": "ipython",
    "version": 3
   },
   "file_extension": ".py",
   "mimetype": "text/x-python",
   "name": "python",
   "nbconvert_exporter": "python",
   "pygments_lexer": "ipython3",
   "version": "3.12.0"
  }
 },
 "nbformat": 4,
 "nbformat_minor": 2
}
